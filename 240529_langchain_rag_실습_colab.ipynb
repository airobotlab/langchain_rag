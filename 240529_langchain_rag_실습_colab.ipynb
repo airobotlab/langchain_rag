{
  "cells": [
    {
      "cell_type": "markdown",
      "id": "y1g7ksg3LE4R",
      "metadata": {
        "id": "y1g7ksg3LE4R"
      },
      "source": [
        "# LangChain의 RAG 파헤치기\n",
        "\n",
        "![rag-1.png](https://github.com/teddylee777/langchain-kr/blob/main/12-RAG/image/rag-1.png)\n",
        "\n",
        "![rag-2.png](https://github.com/teddylee777/langchain-kr/blob/main/12-RAG/image/rag-2.png)\n",
        "\n",
        "### 1. 질문 처리\n",
        "\n",
        "질문 처리 단계에서는 사용자의 질문을 받아 이를 처리하고, 관련 데이터를 찾는 작업이 이루어집니다. 이를 위해 다음과 같은 구성 요소들이 필요합니다:\n",
        "\n",
        "- **데이터 소스 연결**: 질문에 대한 답변을 찾기 위해 다양한 텍스트 데이터 소스에 연결해야 합니다. LangChain은 다양한 데이터 소스와의 연결을 간편하게 설정할 수 있도록 돕습니다.\n",
        "- **데이터 인덱싱 및 검색**: 데이터 소스에서 관련 정보를 효율적으로 찾기 위해, 데이터는 인덱싱되어야 합니다. LangChain은 인덱싱 과정을 자동화하고, 사용자의 질문과 관련된 데이터를 검색하는 데 필요한 도구를 제공합니다.\n",
        "\n",
        "### 2. 답변 생성\n",
        "\n",
        "관련 데이터를 찾은 후에는 이를 기반으로 사용자의 질문에 답변을 생성해야 합니다. 이 단계에서는 다음 구성 요소가 중요합니다:\n",
        "\n",
        "- **답변 생성 모델**: LangChain은 고급 자연어 처리(NLP) 모델을 사용하여 검색된 데이터로부터 답변을 생성할 수 있는 기능을 제공합니다. 이러한 모델은 사용자의 질문과 검색된 데이터를 입력으로 받아, 적절한 답변을 생성합니다.\n",
        "\n",
        "\n",
        "## 아키텍처\n",
        "\n",
        "우리는 [Q&A 소개](https://python.langchain.comhttps://python.langchain.com/docs/use_cases/question_answering/)에서 개요한 대로 전형적인 RAG 애플리케이션을 만들 것입니다. 이것은 두 가지 주요 구성 요소를 가지고 있습니다:\n",
        "\n",
        "- **인덱싱**: 소스에서 데이터를 수집하고 인덱싱하는 파이프라인입니다. _이 작업은 보통 오프라인에서 발생합니다._\n",
        "\n",
        "- **검색 및 생성**: 실제 RAG 체인으로, 사용자 쿼리를 실행 시간에 받아 인덱스에서 관련 데이터를 검색한 다음, 그 데이터를 모델에 전달합니다.\n",
        "\n",
        "RAW 데이터에서 답변을 받기까지의 전체 순서는 다음과 같습니다.\n",
        "\n",
        "### 인덱싱\n",
        "\n",
        "![](https://python.langchain.com/assets/images/rag_indexing-8160f90a90a33253d0154659cf7d453f.png)\n",
        "\n",
        "1. **로드**: 먼저 데이터를 로드해야 합니다. 이를 위해 [DocumentLoaders](https://python.langchain.com/docs/modules/data_connection/document_loaders/)를 사용할 것입니다.\n",
        "2. **분할**: [Text splitters](https://python.langchain.com/docs/modules/data_connection/document_transformers/)는 큰 `Documents`를 더 작은 청크로 나눕니다. 이는 데이터를 인덱싱하고 모델에 전달하는 데 유용하며, 큰 청크는 검색하기 어렵고 모델의 유한한 컨텍스트 창에 맞지 않습니다.\n",
        "3. **저장**: 나중에 검색할 수 있도록 분할을 저장하고 인덱싱할 장소가 필요합니다. 이는 종종 [VectorStore](https://python.langchain.com/docs/modules/data_connection/vectorstores/)와 [Embeddings](https://python.langchain.com/docs/modules/data_connection/text_embedding/) 모델을 사용하여 수행됩니다.\n",
        "\n",
        "### 검색 및 생성\n",
        "\n",
        "![](https://python.langchain.com/assets/images/rag_retrieval_generation-1046a4668d6bb08786ef73c56d4f228a.png)\n",
        "\n",
        "1. **검색**: 사용자 입력이 주어지면 [Retriever](https://python.langchain.com/docs/modules/data_connection/retrievers/)를 사용하여 저장소에서 관련 분할을 검색합니다.\n",
        "2. **생성**: [ChatModel](https://python.langchain.com/docs/modules/model_io/chat/) / [LLM](https://python.langchain.com/docs/modules/model_io/llms/)은 질문과 검색된 데이터를 포함한 프롬프트를 사용하여 답변을 생성합니다\n",
        "\n",
        "\n"
      ]
    },
    {
      "cell_type": "code",
      "execution_count": null,
      "id": "lMdf_nFzHyjG",
      "metadata": {
        "id": "lMdf_nFzHyjG"
      },
      "outputs": [],
      "source": [
        "!git clone https://github.com/aisecuritynlp/aisec.git\n",
        "!mv ./aisec/* ./"
      ]
    },
    {
      "cell_type": "code",
      "execution_count": 1,
      "id": "310c180d",
      "metadata": {
        "code_folding": [],
        "colab": {
          "base_uri": "https://localhost:8080/"
        },
        "id": "310c180d",
        "outputId": "aa7ec650-df46-47ad-c277-b4e5029a6e29"
      },
      "outputs": [
        {
          "name": "stdout",
          "output_type": "stream",
          "text": [
            "Requirement already satisfied: python-dotenv==1.0.1 in /usr/local/lib/python3.10/dist-packages (1.0.1)\n",
            "Requirement already satisfied: langchain==0.1.12 in /usr/local/lib/python3.10/dist-packages (0.1.12)\n",
            "Requirement already satisfied: PyYAML>=5.3 in /usr/local/lib/python3.10/dist-packages (from langchain==0.1.12) (6.0.1)\n",
            "Requirement already satisfied: SQLAlchemy<3,>=1.4 in /usr/local/lib/python3.10/dist-packages (from langchain==0.1.12) (2.0.28)\n",
            "Requirement already satisfied: aiohttp<4.0.0,>=3.8.3 in /usr/local/lib/python3.10/dist-packages (from langchain==0.1.12) (3.9.3)\n",
            "Requirement already satisfied: async-timeout<5.0.0,>=4.0.0 in /usr/local/lib/python3.10/dist-packages (from langchain==0.1.12) (4.0.3)\n",
            "Requirement already satisfied: dataclasses-json<0.7,>=0.5.7 in /usr/local/lib/python3.10/dist-packages (from langchain==0.1.12) (0.6.4)\n",
            "Requirement already satisfied: jsonpatch<2.0,>=1.33 in /usr/local/lib/python3.10/dist-packages (from langchain==0.1.12) (1.33)\n",
            "Requirement already satisfied: langchain-community<0.1,>=0.0.28 in /usr/local/lib/python3.10/dist-packages (from langchain==0.1.12) (0.0.28)\n",
            "Requirement already satisfied: langchain-core<0.2.0,>=0.1.31 in /usr/local/lib/python3.10/dist-packages (from langchain==0.1.12) (0.1.32)\n",
            "Requirement already satisfied: langchain-text-splitters<0.1,>=0.0.1 in /usr/local/lib/python3.10/dist-packages (from langchain==0.1.12) (0.0.1)\n",
            "Requirement already satisfied: langsmith<0.2.0,>=0.1.17 in /usr/local/lib/python3.10/dist-packages (from langchain==0.1.12) (0.1.27)\n",
            "Requirement already satisfied: numpy<2,>=1 in /usr/local/lib/python3.10/dist-packages (from langchain==0.1.12) (1.26.4)\n",
            "Requirement already satisfied: pydantic<3,>=1 in /usr/local/lib/python3.10/dist-packages (from langchain==0.1.12) (2.6.4)\n",
            "Requirement already satisfied: requests<3,>=2 in /usr/local/lib/python3.10/dist-packages (from langchain==0.1.12) (2.31.0)\n",
            "Requirement already satisfied: tenacity<9.0.0,>=8.1.0 in /usr/local/lib/python3.10/dist-packages (from langchain==0.1.12) (8.2.3)\n",
            "Requirement already satisfied: aiosignal>=1.1.2 in /usr/local/lib/python3.10/dist-packages (from aiohttp<4.0.0,>=3.8.3->langchain==0.1.12) (1.3.1)\n",
            "Requirement already satisfied: attrs>=17.3.0 in /usr/local/lib/python3.10/dist-packages (from aiohttp<4.0.0,>=3.8.3->langchain==0.1.12) (23.2.0)\n",
            "Requirement already satisfied: frozenlist>=1.1.1 in /usr/local/lib/python3.10/dist-packages (from aiohttp<4.0.0,>=3.8.3->langchain==0.1.12) (1.4.1)\n",
            "Requirement already satisfied: multidict<7.0,>=4.5 in /usr/local/lib/python3.10/dist-packages (from aiohttp<4.0.0,>=3.8.3->langchain==0.1.12) (6.0.5)\n",
            "Requirement already satisfied: yarl<2.0,>=1.0 in /usr/local/lib/python3.10/dist-packages (from aiohttp<4.0.0,>=3.8.3->langchain==0.1.12) (1.9.4)\n",
            "Requirement already satisfied: marshmallow<4.0.0,>=3.18.0 in /usr/local/lib/python3.10/dist-packages (from dataclasses-json<0.7,>=0.5.7->langchain==0.1.12) (3.20.2)\n",
            "Requirement already satisfied: typing-inspect<1,>=0.4.0 in /usr/local/lib/python3.10/dist-packages (from dataclasses-json<0.7,>=0.5.7->langchain==0.1.12) (0.9.0)\n",
            "Requirement already satisfied: jsonpointer>=1.9 in /usr/local/lib/python3.10/dist-packages (from jsonpatch<2.0,>=1.33->langchain==0.1.12) (2.4)\n",
            "Requirement already satisfied: anyio<5,>=3 in /usr/local/lib/python3.10/dist-packages (from langchain-core<0.2.0,>=0.1.31->langchain==0.1.12) (3.7.1)\n",
            "Requirement already satisfied: packaging<24.0,>=23.2 in /usr/local/lib/python3.10/dist-packages (from langchain-core<0.2.0,>=0.1.31->langchain==0.1.12) (23.2)\n",
            "Requirement already satisfied: orjson<4.0.0,>=3.9.14 in /usr/local/lib/python3.10/dist-packages (from langsmith<0.2.0,>=0.1.17->langchain==0.1.12) (3.9.15)\n",
            "Requirement already satisfied: annotated-types>=0.4.0 in /usr/local/lib/python3.10/dist-packages (from pydantic<3,>=1->langchain==0.1.12) (0.6.0)\n",
            "Requirement already satisfied: pydantic-core==2.16.3 in /usr/local/lib/python3.10/dist-packages (from pydantic<3,>=1->langchain==0.1.12) (2.16.3)\n",
            "Requirement already satisfied: typing-extensions>=4.6.1 in /usr/local/lib/python3.10/dist-packages (from pydantic<3,>=1->langchain==0.1.12) (4.9.0)\n",
            "Requirement already satisfied: charset-normalizer<4,>=2 in /usr/local/lib/python3.10/dist-packages (from requests<3,>=2->langchain==0.1.12) (3.3.2)\n",
            "Requirement already satisfied: idna<4,>=2.5 in /usr/local/lib/python3.10/dist-packages (from requests<3,>=2->langchain==0.1.12) (3.6)\n",
            "Requirement already satisfied: urllib3<3,>=1.21.1 in /usr/local/lib/python3.10/dist-packages (from requests<3,>=2->langchain==0.1.12) (1.26.18)\n",
            "Requirement already satisfied: certifi>=2017.4.17 in /usr/local/lib/python3.10/dist-packages (from requests<3,>=2->langchain==0.1.12) (2024.2.2)\n",
            "Requirement already satisfied: greenlet!=0.4.17 in /usr/local/lib/python3.10/dist-packages (from SQLAlchemy<3,>=1.4->langchain==0.1.12) (3.0.3)\n",
            "Requirement already satisfied: sniffio>=1.1 in /usr/local/lib/python3.10/dist-packages (from anyio<5,>=3->langchain-core<0.2.0,>=0.1.31->langchain==0.1.12) (1.3.1)\n",
            "Requirement already satisfied: exceptiongroup in /usr/local/lib/python3.10/dist-packages (from anyio<5,>=3->langchain-core<0.2.0,>=0.1.31->langchain==0.1.12) (1.2.0)\n",
            "Requirement already satisfied: mypy-extensions>=0.3.0 in /usr/local/lib/python3.10/dist-packages (from typing-inspect<1,>=0.4.0->dataclasses-json<0.7,>=0.5.7->langchain==0.1.12) (1.0.0)\n",
            "Requirement already satisfied: langchain-community==0.0.28 in /usr/local/lib/python3.10/dist-packages (0.0.28)\n",
            "Requirement already satisfied: PyYAML>=5.3 in /usr/local/lib/python3.10/dist-packages (from langchain-community==0.0.28) (6.0.1)\n",
            "Requirement already satisfied: SQLAlchemy<3,>=1.4 in /usr/local/lib/python3.10/dist-packages (from langchain-community==0.0.28) (2.0.28)\n",
            "Requirement already satisfied: aiohttp<4.0.0,>=3.8.3 in /usr/local/lib/python3.10/dist-packages (from langchain-community==0.0.28) (3.9.3)\n",
            "Requirement already satisfied: dataclasses-json<0.7,>=0.5.7 in /usr/local/lib/python3.10/dist-packages (from langchain-community==0.0.28) (0.6.4)\n",
            "Requirement already satisfied: langchain-core<0.2.0,>=0.1.31 in /usr/local/lib/python3.10/dist-packages (from langchain-community==0.0.28) (0.1.32)\n",
            "Requirement already satisfied: langsmith<0.2.0,>=0.1.0 in /usr/local/lib/python3.10/dist-packages (from langchain-community==0.0.28) (0.1.27)\n",
            "Requirement already satisfied: numpy<2,>=1 in /usr/local/lib/python3.10/dist-packages (from langchain-community==0.0.28) (1.26.4)\n",
            "Requirement already satisfied: requests<3,>=2 in /usr/local/lib/python3.10/dist-packages (from langchain-community==0.0.28) (2.31.0)\n",
            "Requirement already satisfied: tenacity<9.0.0,>=8.1.0 in /usr/local/lib/python3.10/dist-packages (from langchain-community==0.0.28) (8.2.3)\n",
            "Requirement already satisfied: aiosignal>=1.1.2 in /usr/local/lib/python3.10/dist-packages (from aiohttp<4.0.0,>=3.8.3->langchain-community==0.0.28) (1.3.1)\n",
            "Requirement already satisfied: attrs>=17.3.0 in /usr/local/lib/python3.10/dist-packages (from aiohttp<4.0.0,>=3.8.3->langchain-community==0.0.28) (23.2.0)\n",
            "Requirement already satisfied: frozenlist>=1.1.1 in /usr/local/lib/python3.10/dist-packages (from aiohttp<4.0.0,>=3.8.3->langchain-community==0.0.28) (1.4.1)\n",
            "Requirement already satisfied: multidict<7.0,>=4.5 in /usr/local/lib/python3.10/dist-packages (from aiohttp<4.0.0,>=3.8.3->langchain-community==0.0.28) (6.0.5)\n",
            "Requirement already satisfied: yarl<2.0,>=1.0 in /usr/local/lib/python3.10/dist-packages (from aiohttp<4.0.0,>=3.8.3->langchain-community==0.0.28) (1.9.4)\n",
            "Requirement already satisfied: async-timeout<5.0,>=4.0 in /usr/local/lib/python3.10/dist-packages (from aiohttp<4.0.0,>=3.8.3->langchain-community==0.0.28) (4.0.3)\n",
            "Requirement already satisfied: marshmallow<4.0.0,>=3.18.0 in /usr/local/lib/python3.10/dist-packages (from dataclasses-json<0.7,>=0.5.7->langchain-community==0.0.28) (3.20.2)\n",
            "Requirement already satisfied: typing-inspect<1,>=0.4.0 in /usr/local/lib/python3.10/dist-packages (from dataclasses-json<0.7,>=0.5.7->langchain-community==0.0.28) (0.9.0)\n",
            "Requirement already satisfied: anyio<5,>=3 in /usr/local/lib/python3.10/dist-packages (from langchain-core<0.2.0,>=0.1.31->langchain-community==0.0.28) (3.7.1)\n",
            "Requirement already satisfied: jsonpatch<2.0,>=1.33 in /usr/local/lib/python3.10/dist-packages (from langchain-core<0.2.0,>=0.1.31->langchain-community==0.0.28) (1.33)\n",
            "Requirement already satisfied: packaging<24.0,>=23.2 in /usr/local/lib/python3.10/dist-packages (from langchain-core<0.2.0,>=0.1.31->langchain-community==0.0.28) (23.2)\n",
            "Requirement already satisfied: pydantic<3,>=1 in /usr/local/lib/python3.10/dist-packages (from langchain-core<0.2.0,>=0.1.31->langchain-community==0.0.28) (2.6.4)\n",
            "Requirement already satisfied: orjson<4.0.0,>=3.9.14 in /usr/local/lib/python3.10/dist-packages (from langsmith<0.2.0,>=0.1.0->langchain-community==0.0.28) (3.9.15)\n",
            "Requirement already satisfied: charset-normalizer<4,>=2 in /usr/local/lib/python3.10/dist-packages (from requests<3,>=2->langchain-community==0.0.28) (3.3.2)\n",
            "Requirement already satisfied: idna<4,>=2.5 in /usr/local/lib/python3.10/dist-packages (from requests<3,>=2->langchain-community==0.0.28) (3.6)\n",
            "Requirement already satisfied: urllib3<3,>=1.21.1 in /usr/local/lib/python3.10/dist-packages (from requests<3,>=2->langchain-community==0.0.28) (1.26.18)\n",
            "Requirement already satisfied: certifi>=2017.4.17 in /usr/local/lib/python3.10/dist-packages (from requests<3,>=2->langchain-community==0.0.28) (2024.2.2)\n",
            "Requirement already satisfied: typing-extensions>=4.6.0 in /usr/local/lib/python3.10/dist-packages (from SQLAlchemy<3,>=1.4->langchain-community==0.0.28) (4.9.0)\n",
            "Requirement already satisfied: greenlet!=0.4.17 in /usr/local/lib/python3.10/dist-packages (from SQLAlchemy<3,>=1.4->langchain-community==0.0.28) (3.0.3)\n",
            "Requirement already satisfied: sniffio>=1.1 in /usr/local/lib/python3.10/dist-packages (from anyio<5,>=3->langchain-core<0.2.0,>=0.1.31->langchain-community==0.0.28) (1.3.1)\n",
            "Requirement already satisfied: exceptiongroup in /usr/local/lib/python3.10/dist-packages (from anyio<5,>=3->langchain-core<0.2.0,>=0.1.31->langchain-community==0.0.28) (1.2.0)\n",
            "Requirement already satisfied: jsonpointer>=1.9 in /usr/local/lib/python3.10/dist-packages (from jsonpatch<2.0,>=1.33->langchain-core<0.2.0,>=0.1.31->langchain-community==0.0.28) (2.4)\n",
            "Requirement already satisfied: annotated-types>=0.4.0 in /usr/local/lib/python3.10/dist-packages (from pydantic<3,>=1->langchain-core<0.2.0,>=0.1.31->langchain-community==0.0.28) (0.6.0)\n",
            "Requirement already satisfied: pydantic-core==2.16.3 in /usr/local/lib/python3.10/dist-packages (from pydantic<3,>=1->langchain-core<0.2.0,>=0.1.31->langchain-community==0.0.28) (2.16.3)\n",
            "Requirement already satisfied: mypy-extensions>=0.3.0 in /usr/local/lib/python3.10/dist-packages (from typing-inspect<1,>=0.4.0->dataclasses-json<0.7,>=0.5.7->langchain-community==0.0.28) (1.0.0)\n",
            "Requirement already satisfied: langchain-experimental==0.0.54 in /usr/local/lib/python3.10/dist-packages (0.0.54)\n",
            "Requirement already satisfied: langchain<0.2.0,>=0.1.12 in /usr/local/lib/python3.10/dist-packages (from langchain-experimental==0.0.54) (0.1.12)\n",
            "Requirement already satisfied: langchain-core<0.2.0,>=0.1.31 in /usr/local/lib/python3.10/dist-packages (from langchain-experimental==0.0.54) (0.1.32)\n",
            "Requirement already satisfied: PyYAML>=5.3 in /usr/local/lib/python3.10/dist-packages (from langchain<0.2.0,>=0.1.12->langchain-experimental==0.0.54) (6.0.1)\n",
            "Requirement already satisfied: SQLAlchemy<3,>=1.4 in /usr/local/lib/python3.10/dist-packages (from langchain<0.2.0,>=0.1.12->langchain-experimental==0.0.54) (2.0.28)\n",
            "Requirement already satisfied: aiohttp<4.0.0,>=3.8.3 in /usr/local/lib/python3.10/dist-packages (from langchain<0.2.0,>=0.1.12->langchain-experimental==0.0.54) (3.9.3)\n",
            "Requirement already satisfied: async-timeout<5.0.0,>=4.0.0 in /usr/local/lib/python3.10/dist-packages (from langchain<0.2.0,>=0.1.12->langchain-experimental==0.0.54) (4.0.3)\n",
            "Requirement already satisfied: dataclasses-json<0.7,>=0.5.7 in /usr/local/lib/python3.10/dist-packages (from langchain<0.2.0,>=0.1.12->langchain-experimental==0.0.54) (0.6.4)\n",
            "Requirement already satisfied: jsonpatch<2.0,>=1.33 in /usr/local/lib/python3.10/dist-packages (from langchain<0.2.0,>=0.1.12->langchain-experimental==0.0.54) (1.33)\n",
            "Requirement already satisfied: langchain-community<0.1,>=0.0.28 in /usr/local/lib/python3.10/dist-packages (from langchain<0.2.0,>=0.1.12->langchain-experimental==0.0.54) (0.0.28)\n",
            "Requirement already satisfied: langchain-text-splitters<0.1,>=0.0.1 in /usr/local/lib/python3.10/dist-packages (from langchain<0.2.0,>=0.1.12->langchain-experimental==0.0.54) (0.0.1)\n",
            "Requirement already satisfied: langsmith<0.2.0,>=0.1.17 in /usr/local/lib/python3.10/dist-packages (from langchain<0.2.0,>=0.1.12->langchain-experimental==0.0.54) (0.1.27)\n",
            "Requirement already satisfied: numpy<2,>=1 in /usr/local/lib/python3.10/dist-packages (from langchain<0.2.0,>=0.1.12->langchain-experimental==0.0.54) (1.26.4)\n",
            "Requirement already satisfied: pydantic<3,>=1 in /usr/local/lib/python3.10/dist-packages (from langchain<0.2.0,>=0.1.12->langchain-experimental==0.0.54) (2.6.4)\n",
            "Requirement already satisfied: requests<3,>=2 in /usr/local/lib/python3.10/dist-packages (from langchain<0.2.0,>=0.1.12->langchain-experimental==0.0.54) (2.31.0)\n",
            "Requirement already satisfied: tenacity<9.0.0,>=8.1.0 in /usr/local/lib/python3.10/dist-packages (from langchain<0.2.0,>=0.1.12->langchain-experimental==0.0.54) (8.2.3)\n",
            "Requirement already satisfied: anyio<5,>=3 in /usr/local/lib/python3.10/dist-packages (from langchain-core<0.2.0,>=0.1.31->langchain-experimental==0.0.54) (3.7.1)\n",
            "Requirement already satisfied: packaging<24.0,>=23.2 in /usr/local/lib/python3.10/dist-packages (from langchain-core<0.2.0,>=0.1.31->langchain-experimental==0.0.54) (23.2)\n",
            "Requirement already satisfied: aiosignal>=1.1.2 in /usr/local/lib/python3.10/dist-packages (from aiohttp<4.0.0,>=3.8.3->langchain<0.2.0,>=0.1.12->langchain-experimental==0.0.54) (1.3.1)\n",
            "Requirement already satisfied: attrs>=17.3.0 in /usr/local/lib/python3.10/dist-packages (from aiohttp<4.0.0,>=3.8.3->langchain<0.2.0,>=0.1.12->langchain-experimental==0.0.54) (23.2.0)\n",
            "Requirement already satisfied: frozenlist>=1.1.1 in /usr/local/lib/python3.10/dist-packages (from aiohttp<4.0.0,>=3.8.3->langchain<0.2.0,>=0.1.12->langchain-experimental==0.0.54) (1.4.1)\n",
            "Requirement already satisfied: multidict<7.0,>=4.5 in /usr/local/lib/python3.10/dist-packages (from aiohttp<4.0.0,>=3.8.3->langchain<0.2.0,>=0.1.12->langchain-experimental==0.0.54) (6.0.5)\n",
            "Requirement already satisfied: yarl<2.0,>=1.0 in /usr/local/lib/python3.10/dist-packages (from aiohttp<4.0.0,>=3.8.3->langchain<0.2.0,>=0.1.12->langchain-experimental==0.0.54) (1.9.4)\n",
            "Requirement already satisfied: idna>=2.8 in /usr/local/lib/python3.10/dist-packages (from anyio<5,>=3->langchain-core<0.2.0,>=0.1.31->langchain-experimental==0.0.54) (3.6)\n",
            "Requirement already satisfied: sniffio>=1.1 in /usr/local/lib/python3.10/dist-packages (from anyio<5,>=3->langchain-core<0.2.0,>=0.1.31->langchain-experimental==0.0.54) (1.3.1)\n",
            "Requirement already satisfied: exceptiongroup in /usr/local/lib/python3.10/dist-packages (from anyio<5,>=3->langchain-core<0.2.0,>=0.1.31->langchain-experimental==0.0.54) (1.2.0)\n",
            "Requirement already satisfied: marshmallow<4.0.0,>=3.18.0 in /usr/local/lib/python3.10/dist-packages (from dataclasses-json<0.7,>=0.5.7->langchain<0.2.0,>=0.1.12->langchain-experimental==0.0.54) (3.20.2)\n",
            "Requirement already satisfied: typing-inspect<1,>=0.4.0 in /usr/local/lib/python3.10/dist-packages (from dataclasses-json<0.7,>=0.5.7->langchain<0.2.0,>=0.1.12->langchain-experimental==0.0.54) (0.9.0)\n",
            "Requirement already satisfied: jsonpointer>=1.9 in /usr/local/lib/python3.10/dist-packages (from jsonpatch<2.0,>=1.33->langchain<0.2.0,>=0.1.12->langchain-experimental==0.0.54) (2.4)\n",
            "Requirement already satisfied: orjson<4.0.0,>=3.9.14 in /usr/local/lib/python3.10/dist-packages (from langsmith<0.2.0,>=0.1.17->langchain<0.2.0,>=0.1.12->langchain-experimental==0.0.54) (3.9.15)\n",
            "Requirement already satisfied: annotated-types>=0.4.0 in /usr/local/lib/python3.10/dist-packages (from pydantic<3,>=1->langchain<0.2.0,>=0.1.12->langchain-experimental==0.0.54) (0.6.0)\n",
            "Requirement already satisfied: pydantic-core==2.16.3 in /usr/local/lib/python3.10/dist-packages (from pydantic<3,>=1->langchain<0.2.0,>=0.1.12->langchain-experimental==0.0.54) (2.16.3)\n",
            "Requirement already satisfied: typing-extensions>=4.6.1 in /usr/local/lib/python3.10/dist-packages (from pydantic<3,>=1->langchain<0.2.0,>=0.1.12->langchain-experimental==0.0.54) (4.9.0)\n",
            "Requirement already satisfied: charset-normalizer<4,>=2 in /usr/local/lib/python3.10/dist-packages (from requests<3,>=2->langchain<0.2.0,>=0.1.12->langchain-experimental==0.0.54) (3.3.2)\n",
            "Requirement already satisfied: urllib3<3,>=1.21.1 in /usr/local/lib/python3.10/dist-packages (from requests<3,>=2->langchain<0.2.0,>=0.1.12->langchain-experimental==0.0.54) (1.26.18)\n",
            "Requirement already satisfied: certifi>=2017.4.17 in /usr/local/lib/python3.10/dist-packages (from requests<3,>=2->langchain<0.2.0,>=0.1.12->langchain-experimental==0.0.54) (2024.2.2)\n",
            "Requirement already satisfied: greenlet!=0.4.17 in /usr/local/lib/python3.10/dist-packages (from SQLAlchemy<3,>=1.4->langchain<0.2.0,>=0.1.12->langchain-experimental==0.0.54) (3.0.3)\n",
            "Requirement already satisfied: mypy-extensions>=0.3.0 in /usr/local/lib/python3.10/dist-packages (from typing-inspect<1,>=0.4.0->dataclasses-json<0.7,>=0.5.7->langchain<0.2.0,>=0.1.12->langchain-experimental==0.0.54) (1.0.0)\n",
            "Requirement already satisfied: langchain-core==0.1.32 in /usr/local/lib/python3.10/dist-packages (0.1.32)\n",
            "Requirement already satisfied: PyYAML>=5.3 in /usr/local/lib/python3.10/dist-packages (from langchain-core==0.1.32) (6.0.1)\n",
            "Requirement already satisfied: anyio<5,>=3 in /usr/local/lib/python3.10/dist-packages (from langchain-core==0.1.32) (3.7.1)\n",
            "Requirement already satisfied: jsonpatch<2.0,>=1.33 in /usr/local/lib/python3.10/dist-packages (from langchain-core==0.1.32) (1.33)\n",
            "Requirement already satisfied: langsmith<0.2.0,>=0.1.0 in /usr/local/lib/python3.10/dist-packages (from langchain-core==0.1.32) (0.1.27)\n",
            "Requirement already satisfied: packaging<24.0,>=23.2 in /usr/local/lib/python3.10/dist-packages (from langchain-core==0.1.32) (23.2)\n",
            "Requirement already satisfied: pydantic<3,>=1 in /usr/local/lib/python3.10/dist-packages (from langchain-core==0.1.32) (2.6.4)\n",
            "Requirement already satisfied: requests<3,>=2 in /usr/local/lib/python3.10/dist-packages (from langchain-core==0.1.32) (2.31.0)\n",
            "Requirement already satisfied: tenacity<9.0.0,>=8.1.0 in /usr/local/lib/python3.10/dist-packages (from langchain-core==0.1.32) (8.2.3)\n",
            "Requirement already satisfied: idna>=2.8 in /usr/local/lib/python3.10/dist-packages (from anyio<5,>=3->langchain-core==0.1.32) (3.6)\n",
            "Requirement already satisfied: sniffio>=1.1 in /usr/local/lib/python3.10/dist-packages (from anyio<5,>=3->langchain-core==0.1.32) (1.3.1)\n",
            "Requirement already satisfied: exceptiongroup in /usr/local/lib/python3.10/dist-packages (from anyio<5,>=3->langchain-core==0.1.32) (1.2.0)\n",
            "Requirement already satisfied: jsonpointer>=1.9 in /usr/local/lib/python3.10/dist-packages (from jsonpatch<2.0,>=1.33->langchain-core==0.1.32) (2.4)\n",
            "Requirement already satisfied: orjson<4.0.0,>=3.9.14 in /usr/local/lib/python3.10/dist-packages (from langsmith<0.2.0,>=0.1.0->langchain-core==0.1.32) (3.9.15)\n",
            "Requirement already satisfied: annotated-types>=0.4.0 in /usr/local/lib/python3.10/dist-packages (from pydantic<3,>=1->langchain-core==0.1.32) (0.6.0)\n",
            "Requirement already satisfied: pydantic-core==2.16.3 in /usr/local/lib/python3.10/dist-packages (from pydantic<3,>=1->langchain-core==0.1.32) (2.16.3)\n",
            "Requirement already satisfied: typing-extensions>=4.6.1 in /usr/local/lib/python3.10/dist-packages (from pydantic<3,>=1->langchain-core==0.1.32) (4.9.0)\n",
            "Requirement already satisfied: charset-normalizer<4,>=2 in /usr/local/lib/python3.10/dist-packages (from requests<3,>=2->langchain-core==0.1.32) (3.3.2)\n",
            "Requirement already satisfied: urllib3<3,>=1.21.1 in /usr/local/lib/python3.10/dist-packages (from requests<3,>=2->langchain-core==0.1.32) (1.26.18)\n",
            "Requirement already satisfied: certifi>=2017.4.17 in /usr/local/lib/python3.10/dist-packages (from requests<3,>=2->langchain-core==0.1.32) (2024.2.2)\n",
            "Requirement already satisfied: langchain-openai==0.0.8 in /usr/local/lib/python3.10/dist-packages (0.0.8)\n",
            "Requirement already satisfied: langchain-core<0.2.0,>=0.1.27 in /usr/local/lib/python3.10/dist-packages (from langchain-openai==0.0.8) (0.1.32)\n",
            "Requirement already satisfied: openai<2.0.0,>=1.10.0 in /usr/local/lib/python3.10/dist-packages (from langchain-openai==0.0.8) (1.14.3)\n",
            "Requirement already satisfied: tiktoken<1,>=0.5.2 in /usr/local/lib/python3.10/dist-packages (from langchain-openai==0.0.8) (0.6.0)\n",
            "Requirement already satisfied: PyYAML>=5.3 in /usr/local/lib/python3.10/dist-packages (from langchain-core<0.2.0,>=0.1.27->langchain-openai==0.0.8) (6.0.1)\n",
            "Requirement already satisfied: anyio<5,>=3 in /usr/local/lib/python3.10/dist-packages (from langchain-core<0.2.0,>=0.1.27->langchain-openai==0.0.8) (3.7.1)\n",
            "Requirement already satisfied: jsonpatch<2.0,>=1.33 in /usr/local/lib/python3.10/dist-packages (from langchain-core<0.2.0,>=0.1.27->langchain-openai==0.0.8) (1.33)\n",
            "Requirement already satisfied: langsmith<0.2.0,>=0.1.0 in /usr/local/lib/python3.10/dist-packages (from langchain-core<0.2.0,>=0.1.27->langchain-openai==0.0.8) (0.1.27)\n",
            "Requirement already satisfied: packaging<24.0,>=23.2 in /usr/local/lib/python3.10/dist-packages (from langchain-core<0.2.0,>=0.1.27->langchain-openai==0.0.8) (23.2)\n",
            "Requirement already satisfied: pydantic<3,>=1 in /usr/local/lib/python3.10/dist-packages (from langchain-core<0.2.0,>=0.1.27->langchain-openai==0.0.8) (2.6.4)\n",
            "Requirement already satisfied: requests<3,>=2 in /usr/local/lib/python3.10/dist-packages (from langchain-core<0.2.0,>=0.1.27->langchain-openai==0.0.8) (2.31.0)\n",
            "Requirement already satisfied: tenacity<9.0.0,>=8.1.0 in /usr/local/lib/python3.10/dist-packages (from langchain-core<0.2.0,>=0.1.27->langchain-openai==0.0.8) (8.2.3)\n",
            "Requirement already satisfied: distro<2,>=1.7.0 in /usr/lib/python3/dist-packages (from openai<2.0.0,>=1.10.0->langchain-openai==0.0.8) (1.7.0)\n",
            "Requirement already satisfied: httpx<1,>=0.23.0 in /usr/local/lib/python3.10/dist-packages (from openai<2.0.0,>=1.10.0->langchain-openai==0.0.8) (0.27.0)\n",
            "Requirement already satisfied: sniffio in /usr/local/lib/python3.10/dist-packages (from openai<2.0.0,>=1.10.0->langchain-openai==0.0.8) (1.3.1)\n",
            "Requirement already satisfied: tqdm>4 in /usr/local/lib/python3.10/dist-packages (from openai<2.0.0,>=1.10.0->langchain-openai==0.0.8) (4.66.2)\n",
            "Requirement already satisfied: typing-extensions<5,>=4.7 in /usr/local/lib/python3.10/dist-packages (from openai<2.0.0,>=1.10.0->langchain-openai==0.0.8) (4.9.0)\n",
            "Requirement already satisfied: regex>=2022.1.18 in /usr/local/lib/python3.10/dist-packages (from tiktoken<1,>=0.5.2->langchain-openai==0.0.8) (2023.12.25)\n",
            "Requirement already satisfied: idna>=2.8 in /usr/local/lib/python3.10/dist-packages (from anyio<5,>=3->langchain-core<0.2.0,>=0.1.27->langchain-openai==0.0.8) (3.6)\n",
            "Requirement already satisfied: exceptiongroup in /usr/local/lib/python3.10/dist-packages (from anyio<5,>=3->langchain-core<0.2.0,>=0.1.27->langchain-openai==0.0.8) (1.2.0)\n",
            "Requirement already satisfied: certifi in /usr/local/lib/python3.10/dist-packages (from httpx<1,>=0.23.0->openai<2.0.0,>=1.10.0->langchain-openai==0.0.8) (2024.2.2)\n",
            "Requirement already satisfied: httpcore==1.* in /usr/local/lib/python3.10/dist-packages (from httpx<1,>=0.23.0->openai<2.0.0,>=1.10.0->langchain-openai==0.0.8) (1.0.4)\n",
            "Requirement already satisfied: h11<0.15,>=0.13 in /usr/local/lib/python3.10/dist-packages (from httpcore==1.*->httpx<1,>=0.23.0->openai<2.0.0,>=1.10.0->langchain-openai==0.0.8) (0.14.0)\n",
            "Requirement already satisfied: jsonpointer>=1.9 in /usr/local/lib/python3.10/dist-packages (from jsonpatch<2.0,>=1.33->langchain-core<0.2.0,>=0.1.27->langchain-openai==0.0.8) (2.4)\n",
            "Requirement already satisfied: orjson<4.0.0,>=3.9.14 in /usr/local/lib/python3.10/dist-packages (from langsmith<0.2.0,>=0.1.0->langchain-core<0.2.0,>=0.1.27->langchain-openai==0.0.8) (3.9.15)\n",
            "Requirement already satisfied: annotated-types>=0.4.0 in /usr/local/lib/python3.10/dist-packages (from pydantic<3,>=1->langchain-core<0.2.0,>=0.1.27->langchain-openai==0.0.8) (0.6.0)\n",
            "Requirement already satisfied: pydantic-core==2.16.3 in /usr/local/lib/python3.10/dist-packages (from pydantic<3,>=1->langchain-core<0.2.0,>=0.1.27->langchain-openai==0.0.8) (2.16.3)\n",
            "Requirement already satisfied: charset-normalizer<4,>=2 in /usr/local/lib/python3.10/dist-packages (from requests<3,>=2->langchain-core<0.2.0,>=0.1.27->langchain-openai==0.0.8) (3.3.2)\n",
            "Requirement already satisfied: urllib3<3,>=1.21.1 in /usr/local/lib/python3.10/dist-packages (from requests<3,>=2->langchain-core<0.2.0,>=0.1.27->langchain-openai==0.0.8) (1.26.18)\n",
            "Requirement already satisfied: langsmith==0.1.27 in /usr/local/lib/python3.10/dist-packages (0.1.27)\n",
            "Requirement already satisfied: orjson<4.0.0,>=3.9.14 in /usr/local/lib/python3.10/dist-packages (from langsmith==0.1.27) (3.9.15)\n",
            "Requirement already satisfied: pydantic<3,>=1 in /usr/local/lib/python3.10/dist-packages (from langsmith==0.1.27) (2.6.4)\n",
            "Requirement already satisfied: requests<3,>=2 in /usr/local/lib/python3.10/dist-packages (from langsmith==0.1.27) (2.31.0)\n",
            "Requirement already satisfied: annotated-types>=0.4.0 in /usr/local/lib/python3.10/dist-packages (from pydantic<3,>=1->langsmith==0.1.27) (0.6.0)\n",
            "Requirement already satisfied: pydantic-core==2.16.3 in /usr/local/lib/python3.10/dist-packages (from pydantic<3,>=1->langsmith==0.1.27) (2.16.3)\n",
            "Requirement already satisfied: typing-extensions>=4.6.1 in /usr/local/lib/python3.10/dist-packages (from pydantic<3,>=1->langsmith==0.1.27) (4.9.0)\n",
            "Requirement already satisfied: charset-normalizer<4,>=2 in /usr/local/lib/python3.10/dist-packages (from requests<3,>=2->langsmith==0.1.27) (3.3.2)\n",
            "Requirement already satisfied: idna<4,>=2.5 in /usr/local/lib/python3.10/dist-packages (from requests<3,>=2->langsmith==0.1.27) (3.6)\n",
            "Requirement already satisfied: urllib3<3,>=1.21.1 in /usr/local/lib/python3.10/dist-packages (from requests<3,>=2->langsmith==0.1.27) (1.26.18)\n",
            "Requirement already satisfied: certifi>=2017.4.17 in /usr/local/lib/python3.10/dist-packages (from requests<3,>=2->langsmith==0.1.27) (2024.2.2)\n",
            "Requirement already satisfied: langchainhub==0.1.15 in /usr/local/lib/python3.10/dist-packages (0.1.15)\n",
            "Requirement already satisfied: requests<3,>=2 in /usr/local/lib/python3.10/dist-packages (from langchainhub==0.1.15) (2.31.0)\n",
            "Requirement already satisfied: types-requests<3.0.0.0,>=2.31.0.2 in /usr/local/lib/python3.10/dist-packages (from langchainhub==0.1.15) (2.31.0.20240311)\n",
            "Requirement already satisfied: charset-normalizer<4,>=2 in /usr/local/lib/python3.10/dist-packages (from requests<3,>=2->langchainhub==0.1.15) (3.3.2)\n",
            "Requirement already satisfied: idna<4,>=2.5 in /usr/local/lib/python3.10/dist-packages (from requests<3,>=2->langchainhub==0.1.15) (3.6)\n",
            "Requirement already satisfied: urllib3<3,>=1.21.1 in /usr/local/lib/python3.10/dist-packages (from requests<3,>=2->langchainhub==0.1.15) (1.26.18)\n",
            "Requirement already satisfied: certifi>=2017.4.17 in /usr/local/lib/python3.10/dist-packages (from requests<3,>=2->langchainhub==0.1.15) (2024.2.2)\n",
            "Collecting urllib3<3,>=1.21.1 (from requests<3,>=2->langchainhub==0.1.15)\n",
            "  Downloading urllib3-2.2.1-py3-none-any.whl (121 kB)\n",
            "\u001b[2K     \u001b[90m━━━━━━━━━━━━━━━━━━━━━━━━━━━━━━━━━━━━━━━━\u001b[0m \u001b[32m121.1/121.1 kB\u001b[0m \u001b[31m1.4 MB/s\u001b[0m eta \u001b[36m0:00:00\u001b[0m\n",
            "\u001b[?25hInstalling collected packages: urllib3\n",
            "  Attempting uninstall: urllib3\n",
            "    Found existing installation: urllib3 1.26.18\n",
            "    Uninstalling urllib3-1.26.18:\n",
            "      Successfully uninstalled urllib3-1.26.18\n",
            "\u001b[31mERROR: pip's dependency resolver does not currently take into account all the packages that are installed. This behaviour is the source of the following dependency conflicts.\n",
            "tensorflow 2.15.0 requires wrapt<1.15,>=1.11.0, but you have wrapt 1.16.0 which is incompatible.\n",
            "unstructured 0.12.6 requires urllib3==1.26.18, but you have urllib3 2.2.1 which is incompatible.\u001b[0m\u001b[31m\n",
            "\u001b[0mSuccessfully installed urllib3-2.2.1\n",
            "Requirement already satisfied: pypdf==4.1.0 in /usr/local/lib/python3.10/dist-packages (4.1.0)\n",
            "Requirement already satisfied: faiss-cpu==1.8.0 in /usr/local/lib/python3.10/dist-packages (1.8.0)\n",
            "Requirement already satisfied: numpy in /usr/local/lib/python3.10/dist-packages (from faiss-cpu==1.8.0) (1.26.4)\n",
            "\u001b[31mERROR: pip's dependency resolver does not currently take into account all the packages that are installed. This behaviour is the source of the following dependency conflicts.\n",
            "unstructured-inference 0.7.25 requires onnxruntime<1.16, but you have onnxruntime 1.17.1 which is incompatible.\u001b[0m\u001b[31m\n",
            "\u001b[0m\u001b[31mERROR: Could not find a version that satisfies the requirement sentence_transformers==4.38.2 (from versions: 0.1.0, 0.2.0, 0.2.1, 0.2.2, 0.2.3, 0.2.4, 0.2.4.1, 0.2.5, 0.2.5.1, 0.2.6, 0.2.6.1, 0.2.6.2, 0.3.0, 0.3.1, 0.3.2, 0.3.3, 0.3.4, 0.3.5, 0.3.5.1, 0.3.6, 0.3.7, 0.3.7.1, 0.3.7.2, 0.3.8, 0.3.9, 0.4.0, 0.4.1, 0.4.1.1, 0.4.1.2, 1.0.0, 1.0.1, 1.0.2, 1.0.3, 1.0.4, 1.1.0, 1.1.1, 1.2.0, 1.2.1, 2.0.0, 2.1.0, 2.2.0, 2.2.1, 2.2.2, 2.3.0, 2.3.1, 2.4.0, 2.5.0, 2.5.1, 2.6.0, 2.6.1)\u001b[0m\u001b[31m\n",
            "\u001b[0m\u001b[31mERROR: No matching distribution found for sentence_transformers==4.38.2\u001b[0m\u001b[31m\n",
            "\u001b[0mRequirement already satisfied: pdfplumber in /usr/local/lib/python3.10/dist-packages (0.11.0)\n",
            "Requirement already satisfied: pdfminer.six==20231228 in /usr/local/lib/python3.10/dist-packages (from pdfplumber) (20231228)\n",
            "Requirement already satisfied: Pillow>=9.1 in /usr/local/lib/python3.10/dist-packages (from pdfplumber) (9.4.0)\n",
            "Requirement already satisfied: pypdfium2>=4.18.0 in /usr/local/lib/python3.10/dist-packages (from pdfplumber) (4.28.0)\n",
            "Requirement already satisfied: charset-normalizer>=2.0.0 in /usr/local/lib/python3.10/dist-packages (from pdfminer.six==20231228->pdfplumber) (3.3.2)\n",
            "Requirement already satisfied: cryptography>=36.0.0 in /usr/local/lib/python3.10/dist-packages (from pdfminer.six==20231228->pdfplumber) (42.0.5)\n",
            "Requirement already satisfied: cffi>=1.12 in /usr/local/lib/python3.10/dist-packages (from cryptography>=36.0.0->pdfminer.six==20231228->pdfplumber) (1.16.0)\n",
            "Requirement already satisfied: pycparser in /usr/local/lib/python3.10/dist-packages (from cffi>=1.12->cryptography>=36.0.0->pdfminer.six==20231228->pdfplumber) (2.21)\n",
            "Requirement already satisfied: PyMuPDF in /usr/local/lib/python3.10/dist-packages (1.24.0)\n",
            "Requirement already satisfied: PyMuPDFb==1.24.0 in /usr/local/lib/python3.10/dist-packages (from PyMuPDF) (1.24.0)\n",
            "Requirement already satisfied: chardet in /usr/local/lib/python3.10/dist-packages (5.2.0)\n",
            "Requirement already satisfied: httpx in /usr/local/lib/python3.10/dist-packages (0.27.0)\n",
            "Requirement already satisfied: anyio in /usr/local/lib/python3.10/dist-packages (from httpx) (3.7.1)\n",
            "Requirement already satisfied: certifi in /usr/local/lib/python3.10/dist-packages (from httpx) (2024.2.2)\n",
            "Requirement already satisfied: httpcore==1.* in /usr/local/lib/python3.10/dist-packages (from httpx) (1.0.4)\n",
            "Requirement already satisfied: idna in /usr/local/lib/python3.10/dist-packages (from httpx) (3.6)\n",
            "Requirement already satisfied: sniffio in /usr/local/lib/python3.10/dist-packages (from httpx) (1.3.1)\n",
            "Requirement already satisfied: h11<0.15,>=0.13 in /usr/local/lib/python3.10/dist-packages (from httpcore==1.*->httpx) (0.14.0)\n",
            "Requirement already satisfied: exceptiongroup in /usr/local/lib/python3.10/dist-packages (from anyio->httpx) (1.2.0)\n",
            "Requirement already satisfied: chromadb in /usr/local/lib/python3.10/dist-packages (0.4.24)\n",
            "Requirement already satisfied: build>=1.0.3 in /usr/local/lib/python3.10/dist-packages (from chromadb) (1.1.1)\n",
            "Requirement already satisfied: requests>=2.28 in /usr/local/lib/python3.10/dist-packages (from chromadb) (2.31.0)\n",
            "Requirement already satisfied: pydantic>=1.9 in /usr/local/lib/python3.10/dist-packages (from chromadb) (2.6.4)\n",
            "Requirement already satisfied: chroma-hnswlib==0.7.3 in /usr/local/lib/python3.10/dist-packages (from chromadb) (0.7.3)\n",
            "Requirement already satisfied: fastapi>=0.95.2 in /usr/local/lib/python3.10/dist-packages (from chromadb) (0.110.0)\n",
            "Requirement already satisfied: uvicorn[standard]>=0.18.3 in /usr/local/lib/python3.10/dist-packages (from chromadb) (0.29.0)\n",
            "Requirement already satisfied: numpy>=1.22.5 in /usr/local/lib/python3.10/dist-packages (from chromadb) (1.26.4)\n",
            "Requirement already satisfied: posthog>=2.4.0 in /usr/local/lib/python3.10/dist-packages (from chromadb) (3.5.0)\n",
            "Requirement already satisfied: typing-extensions>=4.5.0 in /usr/local/lib/python3.10/dist-packages (from chromadb) (4.9.0)\n",
            "Requirement already satisfied: pulsar-client>=3.1.0 in /usr/local/lib/python3.10/dist-packages (from chromadb) (3.4.0)\n",
            "Requirement already satisfied: onnxruntime>=1.14.1 in /usr/local/lib/python3.10/dist-packages (from chromadb) (1.17.1)\n",
            "Requirement already satisfied: opentelemetry-api>=1.2.0 in /usr/local/lib/python3.10/dist-packages (from chromadb) (1.23.0)\n",
            "Requirement already satisfied: opentelemetry-exporter-otlp-proto-grpc>=1.2.0 in /usr/local/lib/python3.10/dist-packages (from chromadb) (1.23.0)\n",
            "Requirement already satisfied: opentelemetry-instrumentation-fastapi>=0.41b0 in /usr/local/lib/python3.10/dist-packages (from chromadb) (0.44b0)\n",
            "Requirement already satisfied: opentelemetry-sdk>=1.2.0 in /usr/local/lib/python3.10/dist-packages (from chromadb) (1.23.0)\n",
            "Requirement already satisfied: tokenizers>=0.13.2 in /usr/local/lib/python3.10/dist-packages (from chromadb) (0.15.2)\n",
            "Requirement already satisfied: pypika>=0.48.9 in /usr/local/lib/python3.10/dist-packages (from chromadb) (0.48.9)\n",
            "Requirement already satisfied: tqdm>=4.65.0 in /usr/local/lib/python3.10/dist-packages (from chromadb) (4.66.2)\n",
            "Requirement already satisfied: overrides>=7.3.1 in /usr/local/lib/python3.10/dist-packages (from chromadb) (7.7.0)\n",
            "Requirement already satisfied: importlib-resources in /usr/local/lib/python3.10/dist-packages (from chromadb) (6.3.2)\n",
            "Requirement already satisfied: grpcio>=1.58.0 in /usr/local/lib/python3.10/dist-packages (from chromadb) (1.62.1)\n",
            "Requirement already satisfied: bcrypt>=4.0.1 in /usr/local/lib/python3.10/dist-packages (from chromadb) (4.1.2)\n",
            "Requirement already satisfied: typer>=0.9.0 in /usr/local/lib/python3.10/dist-packages (from chromadb) (0.9.0)\n",
            "Requirement already satisfied: kubernetes>=28.1.0 in /usr/local/lib/python3.10/dist-packages (from chromadb) (29.0.0)\n",
            "Requirement already satisfied: tenacity>=8.2.3 in /usr/local/lib/python3.10/dist-packages (from chromadb) (8.2.3)\n",
            "Requirement already satisfied: PyYAML>=6.0.0 in /usr/local/lib/python3.10/dist-packages (from chromadb) (6.0.1)\n",
            "Requirement already satisfied: mmh3>=4.0.1 in /usr/local/lib/python3.10/dist-packages (from chromadb) (4.1.0)\n",
            "Requirement already satisfied: orjson>=3.9.12 in /usr/local/lib/python3.10/dist-packages (from chromadb) (3.9.15)\n",
            "Requirement already satisfied: packaging>=19.0 in /usr/local/lib/python3.10/dist-packages (from build>=1.0.3->chromadb) (23.2)\n",
            "Requirement already satisfied: pyproject_hooks in /usr/local/lib/python3.10/dist-packages (from build>=1.0.3->chromadb) (1.0.0)\n",
            "Requirement already satisfied: tomli>=1.1.0 in /usr/local/lib/python3.10/dist-packages (from build>=1.0.3->chromadb) (2.0.1)\n",
            "Requirement already satisfied: starlette<0.37.0,>=0.36.3 in /usr/local/lib/python3.10/dist-packages (from fastapi>=0.95.2->chromadb) (0.36.3)\n",
            "Requirement already satisfied: certifi>=14.05.14 in /usr/local/lib/python3.10/dist-packages (from kubernetes>=28.1.0->chromadb) (2024.2.2)\n",
            "Requirement already satisfied: six>=1.9.0 in /usr/local/lib/python3.10/dist-packages (from kubernetes>=28.1.0->chromadb) (1.16.0)\n",
            "Requirement already satisfied: python-dateutil>=2.5.3 in /usr/local/lib/python3.10/dist-packages (from kubernetes>=28.1.0->chromadb) (2.8.2)\n",
            "Requirement already satisfied: google-auth>=1.0.1 in /usr/local/lib/python3.10/dist-packages (from kubernetes>=28.1.0->chromadb) (2.27.0)\n",
            "Requirement already satisfied: websocket-client!=0.40.0,!=0.41.*,!=0.42.*,>=0.32.0 in /usr/local/lib/python3.10/dist-packages (from kubernetes>=28.1.0->chromadb) (1.7.0)\n",
            "Requirement already satisfied: requests-oauthlib in /usr/local/lib/python3.10/dist-packages (from kubernetes>=28.1.0->chromadb) (1.4.0)\n",
            "Requirement already satisfied: oauthlib>=3.2.2 in /usr/local/lib/python3.10/dist-packages (from kubernetes>=28.1.0->chromadb) (3.2.2)\n",
            "Requirement already satisfied: urllib3>=1.24.2 in /usr/local/lib/python3.10/dist-packages (from kubernetes>=28.1.0->chromadb) (2.2.1)\n",
            "Requirement already satisfied: coloredlogs in /usr/local/lib/python3.10/dist-packages (from onnxruntime>=1.14.1->chromadb) (15.0.1)\n",
            "Requirement already satisfied: flatbuffers in /usr/local/lib/python3.10/dist-packages (from onnxruntime>=1.14.1->chromadb) (24.3.7)\n",
            "Requirement already satisfied: protobuf in /usr/local/lib/python3.10/dist-packages (from onnxruntime>=1.14.1->chromadb) (3.20.3)\n",
            "Requirement already satisfied: sympy in /usr/local/lib/python3.10/dist-packages (from onnxruntime>=1.14.1->chromadb) (1.12)\n",
            "Requirement already satisfied: deprecated>=1.2.6 in /usr/local/lib/python3.10/dist-packages (from opentelemetry-api>=1.2.0->chromadb) (1.2.14)\n",
            "Requirement already satisfied: importlib-metadata<7.0,>=6.0 in /usr/local/lib/python3.10/dist-packages (from opentelemetry-api>=1.2.0->chromadb) (6.11.0)\n",
            "Requirement already satisfied: googleapis-common-protos~=1.52 in /usr/local/lib/python3.10/dist-packages (from opentelemetry-exporter-otlp-proto-grpc>=1.2.0->chromadb) (1.63.0)\n",
            "Requirement already satisfied: opentelemetry-exporter-otlp-proto-common==1.23.0 in /usr/local/lib/python3.10/dist-packages (from opentelemetry-exporter-otlp-proto-grpc>=1.2.0->chromadb) (1.23.0)\n",
            "Requirement already satisfied: opentelemetry-proto==1.23.0 in /usr/local/lib/python3.10/dist-packages (from opentelemetry-exporter-otlp-proto-grpc>=1.2.0->chromadb) (1.23.0)\n",
            "Requirement already satisfied: opentelemetry-instrumentation-asgi==0.44b0 in /usr/local/lib/python3.10/dist-packages (from opentelemetry-instrumentation-fastapi>=0.41b0->chromadb) (0.44b0)\n",
            "Requirement already satisfied: opentelemetry-instrumentation==0.44b0 in /usr/local/lib/python3.10/dist-packages (from opentelemetry-instrumentation-fastapi>=0.41b0->chromadb) (0.44b0)\n",
            "Requirement already satisfied: opentelemetry-semantic-conventions==0.44b0 in /usr/local/lib/python3.10/dist-packages (from opentelemetry-instrumentation-fastapi>=0.41b0->chromadb) (0.44b0)\n",
            "Requirement already satisfied: opentelemetry-util-http==0.44b0 in /usr/local/lib/python3.10/dist-packages (from opentelemetry-instrumentation-fastapi>=0.41b0->chromadb) (0.44b0)\n",
            "Requirement already satisfied: setuptools>=16.0 in /usr/local/lib/python3.10/dist-packages (from opentelemetry-instrumentation==0.44b0->opentelemetry-instrumentation-fastapi>=0.41b0->chromadb) (67.7.2)\n",
            "Requirement already satisfied: wrapt<2.0.0,>=1.0.0 in /usr/local/lib/python3.10/dist-packages (from opentelemetry-instrumentation==0.44b0->opentelemetry-instrumentation-fastapi>=0.41b0->chromadb) (1.16.0)\n",
            "Requirement already satisfied: asgiref~=3.0 in /usr/local/lib/python3.10/dist-packages (from opentelemetry-instrumentation-asgi==0.44b0->opentelemetry-instrumentation-fastapi>=0.41b0->chromadb) (3.8.1)\n",
            "Requirement already satisfied: monotonic>=1.5 in /usr/local/lib/python3.10/dist-packages (from posthog>=2.4.0->chromadb) (1.6)\n",
            "Requirement already satisfied: backoff>=1.10.0 in /usr/local/lib/python3.10/dist-packages (from posthog>=2.4.0->chromadb) (2.2.1)\n",
            "Requirement already satisfied: annotated-types>=0.4.0 in /usr/local/lib/python3.10/dist-packages (from pydantic>=1.9->chromadb) (0.6.0)\n",
            "Requirement already satisfied: pydantic-core==2.16.3 in /usr/local/lib/python3.10/dist-packages (from pydantic>=1.9->chromadb) (2.16.3)\n",
            "Requirement already satisfied: charset-normalizer<4,>=2 in /usr/local/lib/python3.10/dist-packages (from requests>=2.28->chromadb) (3.3.2)\n",
            "Requirement already satisfied: idna<4,>=2.5 in /usr/local/lib/python3.10/dist-packages (from requests>=2.28->chromadb) (3.6)\n",
            "Requirement already satisfied: huggingface_hub<1.0,>=0.16.4 in /usr/local/lib/python3.10/dist-packages (from tokenizers>=0.13.2->chromadb) (0.20.3)\n",
            "Requirement already satisfied: click<9.0.0,>=7.1.1 in /usr/local/lib/python3.10/dist-packages (from typer>=0.9.0->chromadb) (8.1.7)\n",
            "Requirement already satisfied: h11>=0.8 in /usr/local/lib/python3.10/dist-packages (from uvicorn[standard]>=0.18.3->chromadb) (0.14.0)\n",
            "Requirement already satisfied: httptools>=0.5.0 in /usr/local/lib/python3.10/dist-packages (from uvicorn[standard]>=0.18.3->chromadb) (0.6.1)\n",
            "Requirement already satisfied: python-dotenv>=0.13 in /usr/local/lib/python3.10/dist-packages (from uvicorn[standard]>=0.18.3->chromadb) (1.0.1)\n",
            "Requirement already satisfied: uvloop!=0.15.0,!=0.15.1,>=0.14.0 in /usr/local/lib/python3.10/dist-packages (from uvicorn[standard]>=0.18.3->chromadb) (0.19.0)\n",
            "Requirement already satisfied: watchfiles>=0.13 in /usr/local/lib/python3.10/dist-packages (from uvicorn[standard]>=0.18.3->chromadb) (0.21.0)\n",
            "Requirement already satisfied: websockets>=10.4 in /usr/local/lib/python3.10/dist-packages (from uvicorn[standard]>=0.18.3->chromadb) (11.0.3)\n",
            "Requirement already satisfied: cachetools<6.0,>=2.0.0 in /usr/local/lib/python3.10/dist-packages (from google-auth>=1.0.1->kubernetes>=28.1.0->chromadb) (5.3.3)\n",
            "Requirement already satisfied: pyasn1-modules>=0.2.1 in /usr/local/lib/python3.10/dist-packages (from google-auth>=1.0.1->kubernetes>=28.1.0->chromadb) (0.3.0)\n",
            "Requirement already satisfied: rsa<5,>=3.1.4 in /usr/local/lib/python3.10/dist-packages (from google-auth>=1.0.1->kubernetes>=28.1.0->chromadb) (4.9)\n",
            "Requirement already satisfied: filelock in /usr/local/lib/python3.10/dist-packages (from huggingface_hub<1.0,>=0.16.4->tokenizers>=0.13.2->chromadb) (3.13.1)\n",
            "Requirement already satisfied: fsspec>=2023.5.0 in /usr/local/lib/python3.10/dist-packages (from huggingface_hub<1.0,>=0.16.4->tokenizers>=0.13.2->chromadb) (2023.6.0)\n",
            "Requirement already satisfied: zipp>=0.5 in /usr/local/lib/python3.10/dist-packages (from importlib-metadata<7.0,>=6.0->opentelemetry-api>=1.2.0->chromadb) (3.18.1)\n",
            "Requirement already satisfied: anyio<5,>=3.4.0 in /usr/local/lib/python3.10/dist-packages (from starlette<0.37.0,>=0.36.3->fastapi>=0.95.2->chromadb) (3.7.1)\n",
            "Requirement already satisfied: humanfriendly>=9.1 in /usr/local/lib/python3.10/dist-packages (from coloredlogs->onnxruntime>=1.14.1->chromadb) (10.0)\n",
            "Requirement already satisfied: mpmath>=0.19 in /usr/local/lib/python3.10/dist-packages (from sympy->onnxruntime>=1.14.1->chromadb) (1.3.0)\n",
            "Requirement already satisfied: sniffio>=1.1 in /usr/local/lib/python3.10/dist-packages (from anyio<5,>=3.4.0->starlette<0.37.0,>=0.36.3->fastapi>=0.95.2->chromadb) (1.3.1)\n",
            "Requirement already satisfied: exceptiongroup in /usr/local/lib/python3.10/dist-packages (from anyio<5,>=3.4.0->starlette<0.37.0,>=0.36.3->fastapi>=0.95.2->chromadb) (1.2.0)\n",
            "Requirement already satisfied: pyasn1<0.6.0,>=0.4.6 in /usr/local/lib/python3.10/dist-packages (from pyasn1-modules>=0.2.1->google-auth>=1.0.1->kubernetes>=28.1.0->chromadb) (0.5.1)\n",
            "Requirement already satisfied: rank_bm25 in /usr/local/lib/python3.10/dist-packages (0.2.2)\n",
            "Requirement already satisfied: numpy in /usr/local/lib/python3.10/dist-packages (from rank_bm25) (1.26.4)\n",
            "Requirement already satisfied: gradio in /usr/local/lib/python3.10/dist-packages (4.23.0)\n",
            "Requirement already satisfied: aiofiles<24.0,>=22.0 in /usr/local/lib/python3.10/dist-packages (from gradio) (23.2.1)\n",
            "Requirement already satisfied: altair<6.0,>=4.2.0 in /usr/local/lib/python3.10/dist-packages (from gradio) (4.2.2)\n",
            "Requirement already satisfied: fastapi in /usr/local/lib/python3.10/dist-packages (from gradio) (0.110.0)\n",
            "Requirement already satisfied: ffmpy in /usr/local/lib/python3.10/dist-packages (from gradio) (0.3.2)\n",
            "Requirement already satisfied: gradio-client==0.14.0 in /usr/local/lib/python3.10/dist-packages (from gradio) (0.14.0)\n",
            "Requirement already satisfied: httpx>=0.24.1 in /usr/local/lib/python3.10/dist-packages (from gradio) (0.27.0)\n",
            "Requirement already satisfied: huggingface-hub>=0.19.3 in /usr/local/lib/python3.10/dist-packages (from gradio) (0.20.3)\n",
            "Requirement already satisfied: importlib-resources<7.0,>=1.3 in /usr/local/lib/python3.10/dist-packages (from gradio) (6.3.2)\n",
            "Requirement already satisfied: jinja2<4.0 in /usr/local/lib/python3.10/dist-packages (from gradio) (3.1.3)\n",
            "Requirement already satisfied: markupsafe~=2.0 in /usr/local/lib/python3.10/dist-packages (from gradio) (2.1.5)\n",
            "Requirement already satisfied: matplotlib~=3.0 in /usr/local/lib/python3.10/dist-packages (from gradio) (3.7.1)\n",
            "Requirement already satisfied: numpy~=1.0 in /usr/local/lib/python3.10/dist-packages (from gradio) (1.26.4)\n",
            "Requirement already satisfied: orjson~=3.0 in /usr/local/lib/python3.10/dist-packages (from gradio) (3.9.15)\n",
            "Requirement already satisfied: packaging in /usr/local/lib/python3.10/dist-packages (from gradio) (23.2)\n",
            "Requirement already satisfied: pandas<3.0,>=1.0 in /usr/local/lib/python3.10/dist-packages (from gradio) (1.5.3)\n",
            "Requirement already satisfied: pillow<11.0,>=8.0 in /usr/local/lib/python3.10/dist-packages (from gradio) (9.4.0)\n",
            "Requirement already satisfied: pydantic>=2.0 in /usr/local/lib/python3.10/dist-packages (from gradio) (2.6.4)\n",
            "Requirement already satisfied: pydub in /usr/local/lib/python3.10/dist-packages (from gradio) (0.25.1)\n",
            "Requirement already satisfied: python-multipart>=0.0.9 in /usr/local/lib/python3.10/dist-packages (from gradio) (0.0.9)\n",
            "Requirement already satisfied: pyyaml<7.0,>=5.0 in /usr/local/lib/python3.10/dist-packages (from gradio) (6.0.1)\n",
            "Requirement already satisfied: ruff>=0.2.2 in /usr/local/lib/python3.10/dist-packages (from gradio) (0.3.4)\n",
            "Requirement already satisfied: semantic-version~=2.0 in /usr/local/lib/python3.10/dist-packages (from gradio) (2.10.0)\n",
            "Requirement already satisfied: tomlkit==0.12.0 in /usr/local/lib/python3.10/dist-packages (from gradio) (0.12.0)\n",
            "Requirement already satisfied: typer[all]<1.0,>=0.9 in /usr/local/lib/python3.10/dist-packages (from gradio) (0.9.0)\n",
            "Requirement already satisfied: typing-extensions~=4.0 in /usr/local/lib/python3.10/dist-packages (from gradio) (4.9.0)\n",
            "Requirement already satisfied: uvicorn>=0.14.0 in /usr/local/lib/python3.10/dist-packages (from gradio) (0.29.0)\n",
            "Requirement already satisfied: fsspec in /usr/local/lib/python3.10/dist-packages (from gradio-client==0.14.0->gradio) (2023.6.0)\n",
            "Requirement already satisfied: websockets<12.0,>=10.0 in /usr/local/lib/python3.10/dist-packages (from gradio-client==0.14.0->gradio) (11.0.3)\n",
            "Requirement already satisfied: entrypoints in /usr/local/lib/python3.10/dist-packages (from altair<6.0,>=4.2.0->gradio) (0.4)\n",
            "Requirement already satisfied: jsonschema>=3.0 in /usr/local/lib/python3.10/dist-packages (from altair<6.0,>=4.2.0->gradio) (4.19.2)\n",
            "Requirement already satisfied: toolz in /usr/local/lib/python3.10/dist-packages (from altair<6.0,>=4.2.0->gradio) (0.12.1)\n",
            "Requirement already satisfied: anyio in /usr/local/lib/python3.10/dist-packages (from httpx>=0.24.1->gradio) (3.7.1)\n",
            "Requirement already satisfied: certifi in /usr/local/lib/python3.10/dist-packages (from httpx>=0.24.1->gradio) (2024.2.2)\n",
            "Requirement already satisfied: httpcore==1.* in /usr/local/lib/python3.10/dist-packages (from httpx>=0.24.1->gradio) (1.0.4)\n",
            "Requirement already satisfied: idna in /usr/local/lib/python3.10/dist-packages (from httpx>=0.24.1->gradio) (3.6)\n",
            "Requirement already satisfied: sniffio in /usr/local/lib/python3.10/dist-packages (from httpx>=0.24.1->gradio) (1.3.1)\n",
            "Requirement already satisfied: h11<0.15,>=0.13 in /usr/local/lib/python3.10/dist-packages (from httpcore==1.*->httpx>=0.24.1->gradio) (0.14.0)\n",
            "Requirement already satisfied: filelock in /usr/local/lib/python3.10/dist-packages (from huggingface-hub>=0.19.3->gradio) (3.13.1)\n",
            "Requirement already satisfied: requests in /usr/local/lib/python3.10/dist-packages (from huggingface-hub>=0.19.3->gradio) (2.31.0)\n",
            "Requirement already satisfied: tqdm>=4.42.1 in /usr/local/lib/python3.10/dist-packages (from huggingface-hub>=0.19.3->gradio) (4.66.2)\n",
            "Requirement already satisfied: contourpy>=1.0.1 in /usr/local/lib/python3.10/dist-packages (from matplotlib~=3.0->gradio) (1.2.0)\n",
            "Requirement already satisfied: cycler>=0.10 in /usr/local/lib/python3.10/dist-packages (from matplotlib~=3.0->gradio) (0.12.1)\n",
            "Requirement already satisfied: fonttools>=4.22.0 in /usr/local/lib/python3.10/dist-packages (from matplotlib~=3.0->gradio) (4.50.0)\n",
            "Requirement already satisfied: kiwisolver>=1.0.1 in /usr/local/lib/python3.10/dist-packages (from matplotlib~=3.0->gradio) (1.4.5)\n",
            "Requirement already satisfied: pyparsing>=2.3.1 in /usr/local/lib/python3.10/dist-packages (from matplotlib~=3.0->gradio) (3.1.2)\n",
            "Requirement already satisfied: python-dateutil>=2.7 in /usr/local/lib/python3.10/dist-packages (from matplotlib~=3.0->gradio) (2.8.2)\n",
            "Requirement already satisfied: pytz>=2020.1 in /usr/local/lib/python3.10/dist-packages (from pandas<3.0,>=1.0->gradio) (2023.4)\n",
            "Requirement already satisfied: annotated-types>=0.4.0 in /usr/local/lib/python3.10/dist-packages (from pydantic>=2.0->gradio) (0.6.0)\n",
            "Requirement already satisfied: pydantic-core==2.16.3 in /usr/local/lib/python3.10/dist-packages (from pydantic>=2.0->gradio) (2.16.3)\n",
            "Requirement already satisfied: click<9.0.0,>=7.1.1 in /usr/local/lib/python3.10/dist-packages (from typer[all]<1.0,>=0.9->gradio) (8.1.7)\n",
            "Requirement already satisfied: colorama<0.5.0,>=0.4.3 in /usr/local/lib/python3.10/dist-packages (from typer[all]<1.0,>=0.9->gradio) (0.4.6)\n",
            "Requirement already satisfied: shellingham<2.0.0,>=1.3.0 in /usr/local/lib/python3.10/dist-packages (from typer[all]<1.0,>=0.9->gradio) (1.5.4)\n",
            "Requirement already satisfied: rich<14.0.0,>=10.11.0 in /usr/local/lib/python3.10/dist-packages (from typer[all]<1.0,>=0.9->gradio) (13.7.1)\n",
            "Requirement already satisfied: starlette<0.37.0,>=0.36.3 in /usr/local/lib/python3.10/dist-packages (from fastapi->gradio) (0.36.3)\n",
            "Requirement already satisfied: attrs>=22.2.0 in /usr/local/lib/python3.10/dist-packages (from jsonschema>=3.0->altair<6.0,>=4.2.0->gradio) (23.2.0)\n",
            "Requirement already satisfied: jsonschema-specifications>=2023.03.6 in /usr/local/lib/python3.10/dist-packages (from jsonschema>=3.0->altair<6.0,>=4.2.0->gradio) (2023.12.1)\n",
            "Requirement already satisfied: referencing>=0.28.4 in /usr/local/lib/python3.10/dist-packages (from jsonschema>=3.0->altair<6.0,>=4.2.0->gradio) (0.34.0)\n",
            "Requirement already satisfied: rpds-py>=0.7.1 in /usr/local/lib/python3.10/dist-packages (from jsonschema>=3.0->altair<6.0,>=4.2.0->gradio) (0.18.0)\n",
            "Requirement already satisfied: six>=1.5 in /usr/local/lib/python3.10/dist-packages (from python-dateutil>=2.7->matplotlib~=3.0->gradio) (1.16.0)\n",
            "Requirement already satisfied: markdown-it-py>=2.2.0 in /usr/local/lib/python3.10/dist-packages (from rich<14.0.0,>=10.11.0->typer[all]<1.0,>=0.9->gradio) (3.0.0)\n",
            "Requirement already satisfied: pygments<3.0.0,>=2.13.0 in /usr/local/lib/python3.10/dist-packages (from rich<14.0.0,>=10.11.0->typer[all]<1.0,>=0.9->gradio) (2.16.1)\n",
            "Requirement already satisfied: exceptiongroup in /usr/local/lib/python3.10/dist-packages (from anyio->httpx>=0.24.1->gradio) (1.2.0)\n",
            "Requirement already satisfied: charset-normalizer<4,>=2 in /usr/local/lib/python3.10/dist-packages (from requests->huggingface-hub>=0.19.3->gradio) (3.3.2)\n",
            "Requirement already satisfied: urllib3<3,>=1.21.1 in /usr/local/lib/python3.10/dist-packages (from requests->huggingface-hub>=0.19.3->gradio) (2.2.1)\n",
            "Requirement already satisfied: mdurl~=0.1 in /usr/local/lib/python3.10/dist-packages (from markdown-it-py>=2.2.0->rich<14.0.0,>=10.11.0->typer[all]<1.0,>=0.9->gradio) (0.1.2)\n"
          ]
        }
      ],
      "source": [
        "# setup\n",
        "!pip install python-dotenv==1.0.1\n",
        "!pip install langchain==0.1.12\n",
        "!pip install langchain-community==0.0.28\n",
        "!pip install langchain-experimental==0.0.54\n",
        "!pip install langchain-core==0.1.32\n",
        "!pip install langchain-openai==0.0.8\n",
        "!pip install langsmith==0.1.27\n",
        "!pip install langchainhub==0.1.15\n",
        "!pip install pypdf==4.1.0\n",
        "!pip install faiss-cpu==1.8.0\n",
        "!pip install fastembed -q\n",
        "!pip install sentence_transformers\n",
        "# !pip install sentence_transformers==2.6.1\n",
        "!pip install pdfplumber\n",
        "# !pip install --force-reinstall charset-normalizer==3.1.0 --user\n",
        "!pip install PyMuPDF\n",
        "# !pip install unstructured unstructured-inference\n",
        "!pip install --upgrade chardet\n",
        "!pip install -U httpx\n",
        "!pip install chromadb\n",
        "!pip install rank_bm25\n",
        "!pip install gradio\n"
      ]
    },
    {
      "cell_type": "markdown",
      "id": "c5bdc5e9",
      "metadata": {
        "id": "c5bdc5e9"
      },
      "source": [
        "## 0) Setting"
      ]
    },
    {
      "cell_type": "markdown",
      "id": "a224fd32",
      "metadata": {
        "id": "a224fd32"
      },
      "source": [
        "API KEY 를 설정합니다.\n",
        "\n",
        "'.env' 파일을 만들고, 그 안에 OpenAI의 API 키를 저장\n",
        "\n",
        "ex) OPENAI_API_KEY=sk-xxxxxxxxxxxxxxxxxxxxxxxxxxxxxxxxxxxxxxx"
      ]
    },
    {
      "cell_type": "code",
      "execution_count": 2,
      "id": "2b34e067",
      "metadata": {
        "code_folding": [
          0
        ],
        "id": "2b34e067"
      },
      "outputs": [],
      "source": [
        "# import\n",
        "import os\n",
        "import bs4\n",
        "from langchain import hub\n",
        "from langchain.text_splitter import RecursiveCharacterTextSplitter\n",
        "from langchain_community.document_loaders import WebBaseLoader\n",
        "from langchain_community.vectorstores import Chroma, FAISS\n",
        "from langchain_core.output_parsers import StrOutputParser\n",
        "from langchain_core.runnables import RunnablePassthrough\n",
        "from langchain_openai import ChatOpenAI, OpenAIEmbeddings\n",
        "from pprint import pprint\n"
      ]
    },
    {
      "cell_type": "code",
      "execution_count": 3,
      "id": "418ab505",
      "metadata": {
        "code_folding": [
          0
        ],
        "id": "418ab505"
      },
      "outputs": [],
      "source": [
        "# # API 키를 환경변수로 관리하기 위한 설정 파일\n",
        "# from dotenv import load_dotenv\n",
        "# import os\n",
        "\n",
        "# # API 키 정보 로드\n",
        "# load_dotenv()\n",
        "# # os.environ['OPENAI_API_KEY'] = 'sk   -   xwLy4kTzJD6qxl8jqJt7T3BlbkFJOJsz3o96g86wElid0CBe   '\n",
        "# api_key = os.environ.get(\"OPENAI_API_KEY\")\n",
        "# print('API KEY: %s...'%api_key[:-30])"
      ]
    },
    {
      "cell_type": "code",
      "execution_count": 4,
      "id": "fd89a27b",
      "metadata": {
        "colab": {
          "base_uri": "https://localhost:8080/"
        },
        "id": "fd89a27b",
        "outputId": "6e1c6d10-183a-4b6c-caa8-a74a7954cee3"
      },
      "outputs": [
        {
          "name": "stdout",
          "output_type": "stream",
          "text": [
            "API KEY: sk-xwLy4kTzJD6qxl8jqJ...\n"
          ]
        }
      ],
      "source": [
        "OPENAI_API_KEY = 'sk   -   proj-d36MFnJ08dMAz6YqCPpUT3BlbkFJbBTv8Jpldn1UZQJUh9x4   '\n",
        "OPENAI_API_KEY = OPENAI_API_KEY.replace(\" \", \"\")\n",
        "os.environ['OPENAI_API_KEY'] = OPENAI_API_KEY\n",
        "api_key = os.environ.get(\"OPENAI_API_KEY\")\n",
        "print('API KEY: %s...'%api_key[:-30])"
      ]
    },
    {
      "cell_type": "code",
      "execution_count": 5,
      "id": "5cd60fd4",
      "metadata": {
        "code_folding": [
          0
        ],
        "colab": {
          "base_uri": "https://localhost:8080/"
        },
        "id": "5cd60fd4",
        "outputId": "a3e81414-0159-4084-fb6d-b1de5e2f9804"
      },
      "outputs": [
        {
          "name": "stdout",
          "output_type": "stream",
          "text": [
            "## 질문: 대한민국의 수도는 어디인가요?\n",
            "## 답변\n",
            "content='대한민국의 수도는 서울입니다.' response_metadata={'finish_reason': 'stop', 'logprobs': None}\n"
          ]
        }
      ],
      "source": [
        "# check\n",
        "from langchain_openai import ChatOpenAI\n",
        "\n",
        "# 객체 생성\n",
        "llm = ChatOpenAI(\n",
        "    temperature=0.1,  # 창의성 (0.0 ~ 2.0)\n",
        "    max_tokens=2048,  # 최대 토큰수\n",
        "    model_name=\"gpt-3.5-turbo\",  # 모델명\n",
        ")\n",
        "\n",
        "# 질의내용\n",
        "question = \"대한민국의 수도는 어디인가요?\"\n",
        "\n",
        "answer = llm.invoke(question)\n",
        "\n",
        "# 질의\n",
        "print(f\"## 질문: {question}\")\n",
        "print(f\"## 답변\\n{answer}\")"
      ]
    },
    {
      "cell_type": "code",
      "execution_count": 6,
      "id": "94892a4d",
      "metadata": {
        "code_folding": [
          0
        ],
        "colab": {
          "base_uri": "https://localhost:8080/"
        },
        "id": "94892a4d",
        "outputId": "c6e6ca54-6e98-4962-8a3e-d6023c745481"
      },
      "outputs": [
        {
          "name": "stdout",
          "output_type": "stream",
          "text": [
            "[Document(page_content=\"\\nEU, 세계 최초 'AI 규제법' 통과…위반시 매출 7%까지 과징금\\n\\n\\n\\n\\n\\n\\n유럽연합(EU)이 세계 최초로 인공지능(AI)를 규제하는 법을 통과시켰다. 게티이미지뱅크 제공   유럽연합(EU)이 세계 최초로 인공지능(AI)을 규제하는 법을 통과시켰다.    13일(현지시간) 유럽의회는 프랑스 스트라스부르에서 열린 본회의에서 'AI 법(AI Act)' 최종안을 찬성 523표, 반대 46표로 가결했다. 기권은 49표였다. EU는 이 법안이 빠른 속도로 발전하는 기술의 위험으로부터 시민을 보호하는 동시에 혁신을 촉진할 것이라고 보고 있다.    법안에 따르면 EU는 AI 활용 분야를 총 4단계의 위험 등급으로 나눠 차등 규제한다. 고위험 등급으로 분류되는 의료, 교육을 비롯한 공공 서비스나 선거, 핵심 인프라, 자율주행 등에서는 AI 기술 사용 시 사람이 반드시 감독하도록 하고 위험관리시스템을 구축해야 한다.   또 광범위한 사이버 공격, ‘유해한 선입견’ 전파 등 EU가 시스템적 위험이라고 규정한 사고 발생을 방지하기 위한 조치를 해야 한다. 별도의 정보 공개·고지 의무도 부과된다.   사람과 유사한 수준 또는 그 이상의 지능을 갖춘 AI인 '범용 AI'를 개발하는 기업에 대해서는 기술 개발 과정에서의 ‘투명성 의무’를 부여하기로 했다. 이 조항은 2021년 발의된 초안에는 없었지만 이듬해 챗GPT 등 생성형 AI가 보편화되면서 AI 오남용에 대한 우려가 확산돼 입법 과정에서 추가됐다.   일부 AI 기술 활용은 원천 금지된다. 이른바 개인의 특성·행동과 관련된 데이터로 개별 점수를 매기는 관행인 ‘사회적 점수 평가’(소셜 스코어링)가 대표적이다. AI를 활용한 실시간 원격 생체인식 식별 시스템 사용도 중대 범죄 용의자 수색을 비롯해 예외적인 경우를 제외하곤 사실상 금지된다. 이 밖에 딥페이크 영상이나 이미지는 AI로 만든 조작 콘텐츠라는 점을 표기하도록 했다.   이번에 통과된 법안은 EU 27개국 장관들이 내달 최종 승인하고 오는 6월 EU 관보에 게재된 뒤 발효된다. 일부 금지 조항은 발효 뒤 6개월부터 적용되며 이후 단계적으로 도입돼 2026년 이후 전면 시행된다. 법을 위반할 경우 경중에 따라 전 세계 매출의 1.5%에서 최대 7%에 해당하는 과징금이 부과될 수 있다.\\n\\n\", metadata={'source': 'https://n.news.naver.com/mnews/article/584/0000026285'})]\n",
            "######################################################################\n",
            "## chunking ##\n",
            "## page_content=\"EU, 세계 최초 'AI 규제법' 통과…위반시 매출 7%까지 과징금\" metadata={'source': 'https://n.news.naver.com/mnews/article/584/0000026285'}\n",
            "\n",
            "## page_content=\"유럽연합(EU)이 세계 최초로 인공지능(AI)를 규제하는 법을 통과시켰다. 게티이미지뱅크 제공   유럽연합(EU)이 세계 최초로 인공지능(AI)을 규제하는 법을 통과시켰다.    13일(현지시간) 유럽의회는 프랑스 스트라스부르에서 열린 본회의에서 'AI 법(AI Act)' 최종안을 찬성 523표, 반대 46표로 가결했다. 기권은 49표였다. EU는 이 법안이 빠른 속도로 발전하는 기술의 위험으로부터 시민을 보호하는 동시에 혁신을 촉진할 것이라고 보고 있다.    법안에 따르면 EU는 AI 활용 분야를 총 4단계의 위험 등급으로 나눠 차등 규제한다. 고위험 등급으로 분류되는 의료, 교육을 비롯한 공공 서비스나 선거, 핵심 인프라, 자율주행 등에서는 AI 기술 사용 시 사람이 반드시 감독하도록 하고 위험관리시스템을 구축해야 한다.   또 광범위한 사이버 공격, ‘유해한 선입견’ 전파 등 EU가 시스템적 위험이라고 규정한 사고 발생을 방지하기 위한 조치를 해야 한다. 별도의 정보\" metadata={'source': 'https://n.news.naver.com/mnews/article/584/0000026285'}\n",
            "\n",
            "## page_content=\"시스템적 위험이라고 규정한 사고 발생을 방지하기 위한 조치를 해야 한다. 별도의 정보 공개·고지 의무도 부과된다.   사람과 유사한 수준 또는 그 이상의 지능을 갖춘 AI인 '범용 AI'를 개발하는 기업에 대해서는 기술 개발 과정에서의 ‘투명성 의무’를 부여하기로 했다. 이 조항은 2021년 발의된 초안에는 없었지만 이듬해 챗GPT 등 생성형 AI가 보편화되면서 AI 오남용에 대한 우려가 확산돼 입법 과정에서 추가됐다.   일부 AI 기술 활용은 원천 금지된다. 이른바 개인의 특성·행동과 관련된 데이터로 개별 점수를 매기는 관행인 ‘사회적 점수 평가’(소셜 스코어링)가 대표적이다. AI를 활용한 실시간 원격 생체인식 식별 시스템 사용도 중대 범죄 용의자 수색을 비롯해 예외적인 경우를 제외하곤 사실상 금지된다. 이 밖에 딥페이크 영상이나 이미지는 AI로 만든 조작 콘텐츠라는 점을 표기하도록 했다.   이번에 통과된 법안은 EU 27개국 장관들이 내달 최종 승인하고 오는 6월 EU\" metadata={'source': 'https://n.news.naver.com/mnews/article/584/0000026285'}\n",
            "\n",
            "## page_content='이번에 통과된 법안은 EU 27개국 장관들이 내달 최종 승인하고 오는 6월 EU 관보에 게재된 뒤 발효된다. 일부 금지 조항은 발효 뒤 6개월부터 적용되며 이후 단계적으로 도입돼 2026년 이후 전면 시행된다. 법을 위반할 경우 경중에 따라 전 세계 매출의 1.5%에서 최대 7%에 해당하는 과징금이 부과될 수 있다.' metadata={'source': 'https://n.news.naver.com/mnews/article/584/0000026285'}\n",
            "\n"
          ]
        }
      ],
      "source": [
        "# 단계 1: 문서 로드(Load Documents)\n",
        "# 뉴스기사 내용을 로드하고, 청크로 나누고, 인덱싱합니다.\n",
        "url = \"https://n.news.naver.com/mnews/article/584/0000026285\"\n",
        "loader = WebBaseLoader(\n",
        "    web_paths=(url,),\n",
        "    bs_kwargs=dict(\n",
        "        parse_only=bs4.SoupStrainer(\n",
        "            \"div\",\n",
        "            attrs={\"class\": [\"newsct_article _article_body\", \"media_end_head_title\"]},\n",
        "        )\n",
        "    ),\n",
        ")\n",
        "docs = loader.load()\n",
        "print(docs)\n",
        "\n",
        "print('#'*70)\n",
        "print('## chunking ##')\n",
        "\n",
        "# 단계 2: 문서 분할(Split Documents)\n",
        "text_splitter = RecursiveCharacterTextSplitter(chunk_size=500, chunk_overlap=50)\n",
        "splits = text_splitter.split_documents(docs)\n",
        "for tmp in splits:\n",
        "    print(f'## {tmp}\\n')"
      ]
    },
    {
      "cell_type": "code",
      "execution_count": 7,
      "id": "962da9bf",
      "metadata": {
        "code_folding": [
          0
        ],
        "id": "962da9bf"
      },
      "outputs": [],
      "source": [
        "# 단계 3: 임베딩 & 벡터스토어 생성(Create Vectorstore)\n",
        "# 벡터스토어를 생성합니다.\n",
        "vectorstore = FAISS.from_documents(documents=splits, embedding=OpenAIEmbeddings())\n",
        "\n",
        "# 단계 4: 검색(Search)\n",
        "# 뉴스에 포함되어 있는 정보를 검색하고 생성합니다.\n",
        "retriever = vectorstore.as_retriever()\n",
        "\n",
        "# 단계 5: 프롬프트 생성(Create Prompt)\n",
        "# 프롬프트를 생성합니다.\n",
        "prompt = hub.pull(\"rlm/rag-prompt\")\n",
        "\n",
        "# 단계 6: 언어모델 생성(Create LLM)\n",
        "# 모델(LLM) 을 생성합니다.\n",
        "llm = ChatOpenAI(model_name=\"gpt-3.5-turbo\", temperature=0)\n",
        "\n",
        "\n",
        "def format_docs(docs):\n",
        "    # 검색한 문서 결과를 하나의 문단으로 합쳐줍니다.\n",
        "    return \"\\n\\n\".join(doc.page_content for doc in docs)\n",
        "\n",
        "\n",
        "# 단계 7: 체인 생성(Create Chain)\n",
        "rag_chain = (\n",
        "    {\"context\": retriever | format_docs, \"question\": RunnablePassthrough()}\n",
        "    | prompt\n",
        "    | llm\n",
        "    | StrOutputParser()\n",
        ")"
      ]
    },
    {
      "cell_type": "code",
      "execution_count": 8,
      "id": "b9b98463",
      "metadata": {
        "code_folding": [
          0
        ],
        "colab": {
          "base_uri": "https://localhost:8080/"
        },
        "id": "b9b98463",
        "outputId": "f78d57c4-cab1-46c0-b5ee-28b83a261c45"
      },
      "outputs": [
        {
          "name": "stdout",
          "output_type": "stream",
          "text": [
            "URL: https://n.news.naver.com/mnews/article/584/0000026285\n",
            "문서의 수: 1\n",
            "============================================================\n",
            "[HUMAN]\n",
            "ai 규제법에 대해 알려줘\n",
            "\n",
            "[AI]\n",
            "유럽연합(EU)은 세계 최초로 인공지능(AI)를 규제하는 법을 통과시켰다. 법안에 따라 AI 활용 분야를 4단계의 위험 등급으로 나눠 차등 규제하며, 위반 시 매출의 1.5%에서 최대 7%에 해당하는 과징금이 부과될 수 있다. 이번에 통과된 법안은 EU 27개국 장관들이 내달 최종 승인하고 오는 6월 EU 관보에 게재된 뒤 발효된다.\n"
          ]
        }
      ],
      "source": [
        "# 단계 8: 체인 실행(Run Chain)\n",
        "# 문서에 대한 질의를 입력하고, 답변을 출력합니다.\n",
        "question = \"ai 규제법에 대해 알려줘\"\n",
        "response = rag_chain.invoke(question)\n",
        "\n",
        "# 결과 출력\n",
        "print(f\"URL: {url}\")\n",
        "print(f\"문서의 수: {len(docs)}\")\n",
        "print(\"===\" * 20)\n",
        "print(f\"[HUMAN]\\n{question}\\n\")\n",
        "print(f\"[AI]\\n{response}\")"
      ]
    },
    {
      "cell_type": "markdown",
      "id": "31b686d9",
      "metadata": {
        "heading_collapsed": true,
        "id": "31b686d9"
      },
      "source": [
        "## 단계 1: 문서 로드(Load Documents)\n",
        "\n",
        "- [공식문서 링크 - Document loaders](https://python.langchain.com/docs/modules/data_connection/document_loaders/)\n"
      ]
    },
    {
      "cell_type": "markdown",
      "id": "595217a5",
      "metadata": {
        "heading_collapsed": true,
        "hidden": true,
        "id": "595217a5"
      },
      "source": [
        "### 1.1) 웹페이지\n",
        "\n",
        "`WebBaseLoader`는 지정된 웹 페이지에서 필요한 부분만을 파싱하기 위해 `bs4.SoupStrainer`를 사용합니다.\n",
        "\n",
        "[참고]\n",
        "\n",
        "- `bs4.SoupStrainer` 는 편리하게 웹에서 원하는 요소를 가져올 수 있도록 해줍니다.\n",
        "\n",
        "(예시)\n",
        "\n",
        "```python\n",
        "bs4.SoupStrainer(\n",
        "    \"div\",\n",
        "    attrs={\"class\": [\"newsct_article _article_body\", \"media_end_head_title\"]}, # 클래스 명을 입력\n",
        ")\n",
        "\n",
        "bs4.SoupStrainer(\n",
        "    \"article\",\n",
        "    attrs={\"id\": [\"dic_area\"]}, # 클래스 명을 입력\n",
        ")\n",
        "```\n"
      ]
    },
    {
      "cell_type": "markdown",
      "id": "8a040ec3",
      "metadata": {
        "hidden": true,
        "id": "8a040ec3"
      },
      "source": [
        "아래의 BBC 뉴스 기사입니다. 영문으로 작성된 기사로 시험해 보고 싶다면, 아래의 주석을 해제하고 실행해 보세요.\n"
      ]
    },
    {
      "cell_type": "code",
      "execution_count": 9,
      "id": "6887db92",
      "metadata": {
        "code_folding": [
          0
        ],
        "colab": {
          "base_uri": "https://localhost:8080/",
          "height": 109
        },
        "hidden": true,
        "id": "6887db92",
        "outputId": "a858e04a-174b-4d57-918c-ef43141769dd"
      },
      "outputs": [
        {
          "name": "stdout",
          "output_type": "stream",
          "text": [
            "문서의 수: 1\n"
          ]
        },
        {
          "data": {
            "application/vnd.google.colaboratory.intrinsic+json": {
              "type": "string"
            },
            "text/plain": [
              "\"EU, 세계 최초 'AI 규제법' 통과…위반시 매출 7%까지 과징금\\n\\n\\n\\n\\n\\n\\n유럽연합(EU)이 세계 최초로 인공지능(AI)를 규제하는 법을 통과시켰다. 게티이미지뱅크 제공   유럽연합(EU)이 세계 최초로 인공지능(AI)을 규제하는 법을 통과시켰다.    13일(현지시간) 유럽의회는 프랑스 스트라스부르에서 열린 본회의에서 'AI 법(AI Act)' 최종안을 찬성 523표, 반대 46표로 가결했다. 기권은 49표였다. EU는 이 법안이 빠른 속도로 발전하는 기술의 위험으로부터 시민을 보호하는 동시에 혁신을 촉진할 것이라고 보고 있다.    법안에 따르면 EU는 AI 활용 분야를 총 4단계의 위험 등급으로 나눠 차등 규제한다. 고위험 등급으로 분류되는 의료, 교육을 비롯한 공공 서비스나 선거, 핵심 인프라, 자율주행 등에서는 AI 기술 사용 시 사람이 반드시 감독하도록 하고 위험관리시스템을 구축해야 한다.   또 광범위한 사이버 공격, ‘유해한 선입견’ 전파 등 EU가 시스템적 위험\""
            ]
          },
          "execution_count": 9,
          "metadata": {},
          "output_type": "execute_result"
        }
      ],
      "source": [
        "# 뉴스기사의 내용을 로드하고, 청크로 나누고, 인덱싱합니다.\n",
        "from langchain_community.document_loaders import WebBaseLoader\n",
        "url = 'https://n.news.naver.com/mnews/article/584/0000026285'\n",
        "\n",
        "loader = WebBaseLoader(\n",
        "    web_paths=(url,),\n",
        "    bs_kwargs=dict(\n",
        "        parse_only=bs4.SoupStrainer(\n",
        "            \"div\",\n",
        "            attrs={\"class\": [\"newsct_article _article_body\", \"media_end_head_title\"]},\n",
        "        )\n",
        "    ),\n",
        ")\n",
        "docs = loader.load()\n",
        "print(f\"문서의 수: {len(docs)}\")\n",
        "docs[0].page_content[:500].strip()"
      ]
    },
    {
      "cell_type": "markdown",
      "id": "f43be1cf",
      "metadata": {
        "heading_collapsed": true,
        "hidden": true,
        "id": "f43be1cf"
      },
      "source": [
        "### 1.2) PDF\n"
      ]
    },
    {
      "cell_type": "markdown",
      "id": "6e86de2e",
      "metadata": {
        "heading_collapsed": true,
        "hidden": true,
        "id": "6e86de2e"
      },
      "source": [
        "#### 실습 PDF\n",
        "- [챗GPT 등 생성형 AI 활용 보안 가이드라인](https://www.ncsc.go.kr:4018/main/cop/bbs/selectBoardArticle.do?bbsId=InstructionGuide_main&nttId=54340&pageIndex=1&searchCnd2=#LINK)\n",
        "- [국가공공기관 민간클라우드컴퓨팅서비스 도입 가능 목록](https://www.ncsc.go.kr:4018/main/cop/bbs/selectBoardArticle.do?bbsId=InstructionGuide_main&nttId=115751&pageIndex=1&searchCnd2=#LINK)"
      ]
    },
    {
      "cell_type": "code",
      "execution_count": 14,
      "id": "b14f827c",
      "metadata": {
        "code_folding": [
          0
        ],
        "colab": {
          "base_uri": "https://localhost:8080/"
        },
        "hidden": true,
        "id": "b14f827c",
        "outputId": "437b2761-3b6d-4807-fb35-b699befaa6e4"
      },
      "outputs": [
        {
          "name": "stdout",
          "output_type": "stream",
          "text": [
            "## 문서의 수: 60 ##\n",
            "\n",
            "## content ##\n",
            "4 8챗GPT 등 생성형 AI 활용 보안 가이드라인\n",
            "[정보 유출 방지를 위한 방안 마련] \n",
            "-  개발자는 AI 모델의 학습 데이터에 의도하지 않게 포함될 수 있는 기관 내 주요 정보 \n",
            "또는 개인정보를 보호하기 위해, 학습 과정에서 임의의 노이즈( noise )를 삽입하여 \n",
            "정보 노출의 위험도를 낮춰주기 위한 정보보호 알고리즘( differential  privacy )을 적용할 \n",
            "수 있다.\n",
            "•평가 및 테스트 단계\n",
            "[어뷰징 질문에 대한 답변 거부]\n",
            " 개발자는 AI 모델이 의도하지 않은 질문에 대한 답변을 거부할 수 있도록 신중한 미세 \n",
            "조정 방식을 고려해야 한다. 예를 들어, 내부 정보의 유출 유도 또는 혐오 발언, 선정성 \n",
            "등과 같이 사회적으로 논란이나 거부감을 일으킬 수 있는 답변은 거부하거나, 윤리적인 \n",
            "규범에 따라 조정되어야 한다. 또한 빈 프롬프트(입력이 공백 문자열로만 이루어진 경우)를 \n",
            "받았을 때는 메시지가 끊긴 것으로 간주하고 답변을 다시 확인해달라는 응답을 반환\n",
            "하여 \n",
            "\n",
            "## metadata ##\n",
            "{'page': 1, 'source': 'data/PDF_1_챗GPT 등 생성형 AI 활용 보안 가이드라인(2023.6).pdf'}\n"
          ]
        }
      ],
      "source": [
        "# load pdf 1) PyPDFLoader\n",
        "from langchain.document_loaders import PyPDFLoader\n",
        "\n",
        "# PDF 파일 로드. 파일의 경로 입력\n",
        "file_path_pdf = \"data/PDF_1_챗GPT 등 생성형 AI 활용 보안 가이드라인(2023.6).pdf\"\n",
        "# file_path_pdf = \"data/PDF_3_Karspersky_Lazarus_attacked_cryptocurrency_company_with_LPEClient_and_Gopuram.pdf\"\n",
        "\n",
        "loader = PyPDFLoader(file_path_pdf)\n",
        "\n",
        "# 페이지 별 문서 로드\n",
        "docs = loader.load()\n",
        "print(f\"## 문서의 수: {len(docs)} ##\")\n",
        "\n",
        "# 10번째 페이지의 내용 출력\n",
        "print(f\"\\n## content ##\\n{docs[9*int(len(docs)/10)-1].page_content[:500]}\\n\")\n",
        "print('## metadata ##')\n",
        "pprint(docs[1].metadata)"
      ]
    },
    {
      "cell_type": "code",
      "execution_count": 15,
      "id": "762ce9db",
      "metadata": {
        "code_folding": [
          0
        ],
        "colab": {
          "base_uri": "https://localhost:8080/"
        },
        "hidden": true,
        "id": "762ce9db",
        "outputId": "c8a7ccb9-e735-419a-93c4-dd0789b43772",
        "scrolled": true
      },
      "outputs": [
        {
          "name": "stdout",
          "output_type": "stream",
          "text": [
            "## 문서의 수: 60 ##\n",
            "\n",
            "## content ##\n",
            "[정보 유출 방지를 위한 방안 마련]\n",
            "- 개발자는 AI 모델의 학습 데이터에 의도하지 않게 포함될 수 있는 기관 내 주요 정보\n",
            "또는 개인정보를 보호하기 위해, 학습 과정에서 임의의 노이즈(noise)를 삽입하여\n",
            "정보 노출의 위험도를 낮춰주기 위한 정보보호 알고리즘(differential privacy)을 적용할\n",
            "수 있다.\n",
            "•평가 및 테스트 단계\n",
            "[어뷰징 질문에 대한 답변 거부]\n",
            "개발자는 AI 모델이 의도하지 않은 질문에 대한 답변을 거부할 수 있도록 신중한 미세\n",
            "조정 방식을 고려해야 한다. 예를 들어, 내부 정보의 유출 유도 또는 혐오 발언, 선정성\n",
            "등과 같이 사회적으로 논란이나 거부감을 일으킬 수 있는 답변은 거부하거나, 윤리적인\n",
            "규범에 따라 조정되어야 한다. 또한 빈 프롬프트(입력이 공백 문자열로만 이루어진 경우)를\n",
            "받았을 때는 메시지가 끊긴 것으로 간주하고 답변을 다시 확인해달라는 응답을 반환\n",
            "하여 훈련 데이터 추출 공격을 예방할 수 있다.\n",
            "[AI 모델의 출력 결과 제한]\n",
            "- \n",
            "\n",
            "## metadata ##\n",
            "{'CreationDate': \"D:20230626102018+09'00'\",\n",
            " 'Creator': 'Adobe InDesign 15.0 (Windows)',\n",
            " 'ModDate': \"D:20230628095130+09'00'\",\n",
            " 'Producer': 'Adobe PDF Library 15.0',\n",
            " 'Trapped': 'False',\n",
            " 'file_path': 'data/PDF_1_챗GPT 등 생성형 AI 활용 보안 가이드라인(2023.6).pdf',\n",
            " 'page': 1,\n",
            " 'source': 'data/PDF_1_챗GPT 등 생성형 AI 활용 보안 가이드라인(2023.6).pdf',\n",
            " 'total_pages': 60}\n"
          ]
        }
      ],
      "source": [
        "# load pdf 2) PDFPlumberLoader\n",
        "# 예제 코드에 가장 많이 출현하는 방식\n",
        "# • 평균적으로 우수(한글 인코딩 처리, 속도, metadata)\n",
        "# • page 단위로 데이터를 로드: 20 page PDF 파일 로드시: 20개의 문서로 로드\n",
        "# • metadata\n",
        "#   • source: 파일명\n",
        "#   • page: 페이지 번호 표기\n",
        "from langchain_community.document_loaders import PDFPlumberLoader\n",
        "loader = PDFPlumberLoader(file_path_pdf)\n",
        "# 페이지 별 문서 로드\n",
        "docs = loader.load()\n",
        "print(f\"## 문서의 수: {len(docs)} ##\")\n",
        "\n",
        "# 10번째 페이지의 내용 출력\n",
        "print(f\"\\n## content ##\\n{docs[9*int(len(docs)/10)-1].page_content[:500]}\\n\")\n",
        "print('## metadata ##')\n",
        "pprint(docs[1].metadata)"
      ]
    },
    {
      "cell_type": "code",
      "execution_count": 16,
      "id": "8d22c2c0",
      "metadata": {
        "code_folding": [
          0
        ],
        "colab": {
          "base_uri": "https://localhost:8080/"
        },
        "hidden": true,
        "id": "8d22c2c0",
        "outputId": "3220f395-4b10-4ed3-b3e2-5bfd53f84501",
        "scrolled": true
      },
      "outputs": [
        {
          "name": "stdout",
          "output_type": "stream",
          "text": [
            "## 문서의 수: 60 ##\n",
            "\n",
            "## content ##\n",
            "48\n",
            "챗GPT 등 생성형 AI 활용 보안 가이드라인\n",
            "[정보 유출 방지를 위한 방안 마련] \n",
            "- \u0007\n",
            "개발자는 AI 모델의 학습 데이터에 의도하지 않게 포함될 수 있는 기관 내 주요 정보 \n",
            "또는 개인정보를 보호하기 위해, 학습 과정에서 임의의 노이즈(noise)를 삽입하여 \n",
            "정보 노출의 위험도를 낮춰주기 위한 정보보호 알고리즘(differential privacy)을 적용할 \n",
            "수 있다.\n",
            "•평가 및 테스트 단계\n",
            "[어뷰징 질문에 대한 답변 거부]\n",
            "\t 개발자는 AI 모델이 의도하지 않은 질문에 대한 답변을 거부할 수 있도록 신중한 미세 \n",
            "조정 방식을 고려해야 한다. 예를 들어, 내부 정보의 유출 유도 또는 혐오 발언, 선정성 \n",
            "등과 같이 사회적으로 논란이나 거부감을 일으킬 수 있는 답변은 거부하거나, 윤리적인 \n",
            "규범에 따라 조정되어야 한다. 또한 빈 프롬프트(입력이 공백 문자열로만 이루어진 경우)를 \n",
            "받았을 때는 메시지가 끊긴 것으로 간주하고 답변을 다시 확인해달라는 응답을 반환\n",
            "하여 훈련 \n",
            "\n",
            "## metadata ##\n",
            "{'author': '',\n",
            " 'creationDate': \"D:20230626102018+09'00'\",\n",
            " 'creator': 'Adobe InDesign 15.0 (Windows)',\n",
            " 'encryption': None,\n",
            " 'format': 'PDF 1.6',\n",
            " 'keywords': '',\n",
            " 'modDate': \"D:20230628095130+09'00'\",\n",
            " 'producer': 'Adobe PDF Library 15.0',\n",
            " 'subject': '',\n",
            " 'title': '',\n",
            " 'trapped': ''}\n"
          ]
        }
      ],
      "source": [
        "# load pdf 3) fitz\n",
        "# • 단순하게 모든 Text 를 읽어서 하나의 문자열을 합칠 때 유용\n",
        "# • 전체 페이지 요약\n",
        "# • 페이지를 읽는 속도가 가장 빠름\n",
        "# • 페이지 번호 제공\n",
        "# • 페이지 번호를 제외한 metadata 미지원\n",
        "import fitz\n",
        "\n",
        "docs = fitz.open(file_path_pdf) # open a document\n",
        "print(f\"## 문서의 수: {len(docs)} ##\")\n",
        "\n",
        "list_txt = []\n",
        "for page in docs:\n",
        "    list_txt.append(page.get_text())\n",
        "\n",
        "# 1번째 페이지의 내용 출력\n",
        "print(f\"\\n## content ##\\n{list_txt[9*int(len(docs)/10)-1][:500]}\\n\")\n",
        "print('## metadata ##')\n",
        "pprint(docs.metadata)"
      ]
    },
    {
      "cell_type": "markdown",
      "id": "a45216d9",
      "metadata": {
        "heading_collapsed": true,
        "hidden": true,
        "id": "a45216d9"
      },
      "source": [
        "### 1.3) CSV\n",
        "\n",
        "CSV 는 페이지 번호 대신 행번호로 데이터를 조회합니다.\n"
      ]
    },
    {
      "cell_type": "code",
      "execution_count": 18,
      "id": "77419a2a",
      "metadata": {
        "code_folding": [
          0
        ],
        "colab": {
          "base_uri": "https://localhost:8080/"
        },
        "hidden": true,
        "id": "77419a2a",
        "outputId": "c1a373cb-e7d9-4614-8df3-872b423a9186"
      },
      "outputs": [
        {
          "name": "stdout",
          "output_type": "stream",
          "text": [
            "문서의 수: 5\n",
            "\n",
            "## content ##\n",
            "제목: AI 윤리 강령\n",
            "내용: AI 기술 및 시스템 사용 시 윤리적인 원칙을 준수하고 인권을 보호하기 위해 AI 윤리 강령을 제정하였습니다.\n",
            "링크: https://www.example.com/ai-ethics-code\n",
            "\n",
            "## metadata ##\n",
            "{'row': 0, 'source': './data/csv_example.csv'}\n"
          ]
        }
      ],
      "source": [
        "# load csv\n",
        "from langchain_community.document_loaders.csv_loader import CSVLoader\n",
        "\n",
        "# CSV 파일 로드\n",
        "loader = CSVLoader(file_path=\"./data/csv_example.csv\", encoding='UTF-8')\n",
        "docs = loader.load()\n",
        "print(f\"문서의 수: {len(docs)}\")\n",
        "\n",
        "# 10번째 페이지의 내용 출력\n",
        "print(f\"\\n## content ##\\n{docs[1].page_content[:500]}\\n\")\n",
        "print('## metadata ##')\n",
        "pprint(docs[0].metadata)"
      ]
    },
    {
      "cell_type": "markdown",
      "id": "4866c8ea",
      "metadata": {
        "heading_collapsed": true,
        "hidden": true,
        "id": "4866c8ea"
      },
      "source": [
        "### 1.4) TXT 파일\n"
      ]
    },
    {
      "cell_type": "code",
      "execution_count": 19,
      "id": "e5c00113",
      "metadata": {
        "code_folding": [
          0
        ],
        "colab": {
          "base_uri": "https://localhost:8080/"
        },
        "hidden": true,
        "id": "e5c00113",
        "outputId": "ecd9aadf-df1b-46d9-b355-990cf5def69e"
      },
      "outputs": [
        {
          "name": "stdout",
          "output_type": "stream",
          "text": [
            "문서의 수: 1\n",
            "\n",
            "## content ##\n",
            "Semantic Search\n",
            "\n",
            "정의: 의미론적 검색은 사용자의 질의를 단순한 키워드 매칭을 넘어서 그 의미를 파악하여 관련된 결과를 반환하는 검색 방식입니다.\n",
            "예시: 사용자가 \"태양계 행성\"이라고 검색하면, \"목성\", \"화성\" 등과 같이 관련된 행성에 대한 정보를 반환합니다.\n",
            "연관키워드: 자연어 처리, 검색 알고리즘, 데이터 마이닝\n",
            "\n",
            "Embedding\n",
            "\n",
            "정의: 임베딩은 단어나 문장 같은 텍스트 데이터를 저차원의 연속적인 벡터로 변환하는 과정입니다. 이를 통해 컴퓨터가 텍스트를 이해하고 처리할 수 있게 합니다.\n",
            "예시: \"사과\"라는 단어를 [0.65, -0.23, 0.17]과 같은 벡터로 표현합니다.\n",
            "연관키워드: 자연어 처리, 벡터화, 딥러닝\n",
            "\n",
            "Token\n",
            "\n",
            "정의: 토큰은 텍스트를 더 작은 단위로 분할하는 것을 의미합니다. 이는 일반적으로 단어, 문장, 또는 구절일 수 있습니다.\n",
            "예시: 문장 \"나는 학교에 간다\"를 \"나는\", \"학교에\", \"간다\"로 분할합니다.\n",
            "연관키워드: 토큰화, 자연어\n",
            "\n",
            "## metadata ##\n",
            "{'source': './data/appendix-keywords.txt'}\n"
          ]
        }
      ],
      "source": [
        "# load txt\n",
        "from langchain_community.document_loaders import TextLoader\n",
        "\n",
        "loader = TextLoader(\"./data/appendix-keywords.txt\", encoding='UTF-8')\n",
        "docs = loader.load()\n",
        "print(f\"문서의 수: {len(docs)}\")\n",
        "\n",
        "# 10번째 페이지의 내용 출력\n",
        "print(f\"\\n## content ##\\n{docs[0].page_content[:500]}\\n\")\n",
        "print('## metadata ##')\n",
        "pprint(docs[0].metadata)"
      ]
    },
    {
      "cell_type": "markdown",
      "id": "505bd21b",
      "metadata": {
        "hidden": true,
        "id": "505bd21b"
      },
      "source": [
        "---\n"
      ]
    },
    {
      "cell_type": "markdown",
      "id": "1fe4f1b8",
      "metadata": {
        "heading_collapsed": true,
        "id": "1fe4f1b8"
      },
      "source": [
        "## 단계 2: 문서 분절(Chunking)"
      ]
    },
    {
      "cell_type": "markdown",
      "id": "62dc11cb",
      "metadata": {
        "heading_collapsed": true,
        "hidden": true,
        "id": "62dc11cb"
      },
      "source": [
        "### 2.1) CharacterTextSplitter\n",
        "\n",
        "이것은 가장 간단한 방법입니다. 이 방법은 문자를 기준으로 분할합니다(기본값은 \"\\n\\n\") 그리고 청크의 길이를 문자의 수로 측정합니다.\n",
        "\n",
        "1. 텍스트가 어떻게 분할되는지: 단일 문자 단위\n",
        "2. 청크 크기가 어떻게 측정되는지: `len` of characters.\n",
        "\n",
        "시각화 예제: https://chunkviz.up.railway.app/\n"
      ]
    },
    {
      "cell_type": "markdown",
      "id": "14d4a799",
      "metadata": {
        "hidden": true,
        "id": "14d4a799"
      },
      "source": [
        "`CharacterTextSplitter` 클래스는 텍스트를 특정 크기의 청크로 분할하는 기능을 제공합니다.\n",
        "\n",
        "- `separator` 매개변수는 청크를 구분하는 데 사용되는 문자열을 지정하며, 여기서는 두 개의 개행 문자(`\"\\n\\n\"`)를 사용합니다\n",
        "- `chunk_size`는 각 청크의 최대 길이를 결정합니다\n",
        "- `chunk_overlap`은 인접한 청크 간에 겹치는 문자의 수를 지정합니다.\n",
        "- `length_function`은 청크의 길이를 계산하는 데 사용되는 함수를 결정하며, 기본적으로 문자열의 길이를 반환하는 `len` 함수가 사용됩니다.\n",
        "- `is_separator_regex`는 `separator`가 정규 표현식으로 해석될지 여부를 결정하는 불리언 값입니다.\n"
      ]
    },
    {
      "cell_type": "code",
      "execution_count": 20,
      "id": "1432b4f5",
      "metadata": {
        "code_folding": [
          0
        ],
        "colab": {
          "base_uri": "https://localhost:8080/"
        },
        "hidden": true,
        "id": "1432b4f5",
        "outputId": "0d67195b-dcbb-46ce-9f38-c4016c57f73b"
      },
      "outputs": [
        {
          "name": "stdout",
          "output_type": "stream",
          "text": [
            "## 문서의 수: 60 ##\n",
            "4 8챗GPT 등 생성형 AI 활용 보안 가이드라인\n",
            "[정보 유출 방지를 위한 방안 마련] \n",
            "-  개발자는 AI 모델의 학습 데이터에 의도하지 않게 포함될 수 있는 기관 내 주요 정보 \n",
            "또는 개인정보를 보호하기 위해, 학습 과정에서 임의의 노이즈( noise )를 삽입하여 \n",
            "정보 노출의 위험도를 낮춰주기 위한 정보보호 알고리즘( differential  privacy )을 적용할 \n",
            "수 있다.\n",
            "•평가 및 테스트 단계\n",
            "[어뷰징 질문에 대한 답변 거부]\n",
            " 개발자는 AI 모델이 의도하지 않은 질문에 대한 답변을 거부할 수 있도록 신중한 미세 \n",
            "조정 방식을 고려해야 한다. 예를 들어, 내부 정보의 유출 유도 또는 혐오 발언, 선정성 \n",
            "등과 같이 사회적으로 논란이나 거부감을 일으킬 수 있는 답변은 거부하거나, 윤리적인 \n",
            "규범에 따라 조정되어야 한다. 또한 빈 프롬프트(입력이 공백 문자열로만 이루어진 경우)를 \n",
            "받았을 때는 메시지가 끊긴 것으로 간주하고 답변을 다시 확인해달라는 응답을 반환\n",
            "하여 훈련 데이터 추출 공격을 예방할 수 있다.\n",
            "[AI 모델의 출력 결과 제한]\n",
            "- 개발자는 입력에 대한 AI 모델의 모든 출력을 사용자에게 그대로 전달하는 것을 제한\n",
            "해야 한다. 만약 입력에 대한 AI 모델의 모든 출력 결과를 사용자에게 전달한다면, \n",
            "공격자는 이러한 쿼리를 반복하여 수행함으로써 비공개 모델의 복제본을 생성할 수 \n",
            "있다. 이를 방지하기 위해 사용자에게 반환하는 각 단어의 신뢰도에 노이즈를 추가\n",
            "하여 교란하거나, 사용자가 가장 선호할 것으로 예상되는 단일 또는 일정 개수의 답안을 \n",
            "반환하는 형태로 응답을 제한해야 한다.\n",
            "•배포 및 서비스 단계\n",
            "[정보 유출 대책 마련] \n",
            "- 개발자는 AI 모델이 생성한 데이터에 개인정보 또는 비공개 업무자료 등 민감한 \n",
            "정보로 의심되는 표현이 등장할 경우를 대비하여 적절한 대응체계를 사전에 준비해야 \n",
            "한다. 각급기관은 국가정보원의 「국가 정보보안 기본지침」 및 개인정보보호위원회의 \n",
            "「개인정보 유출 대응 매뉴얼」 등을 참고하여 자료유출 등 사고 발생 대비 대책을 마련\n"
          ]
        }
      ],
      "source": [
        "# load pdf 1) PyPDFLoader\n",
        "from langchain.document_loaders import PyPDFLoader\n",
        "\n",
        "# PDF 파일 로드. 파일의 경로 입력\n",
        "file_path_pdf = \"data/PDF_1_챗GPT 등 생성형 AI 활용 보안 가이드라인(2023.6).pdf\"\n",
        "# file_path_pdf = \"data/PDF_2_FireEye_Chinas_Leading_Cyber_Security_Firms_Reveal_Advanced_Foreign_Threat_Groups;_Identify_Little_Known_Actors\"\n",
        "# file_path_pdf = \"data/PDF_3_crowdstrike_CSA-240331_Chinese_Threat_Actor_Aims_to_Monetize_Phishing_Through_Payment_Gateway_Fraud.pdf\"\n",
        "\n",
        "loader = PyPDFLoader(file_path_pdf)\n",
        "\n",
        "# 페이지 별 문서 로드\n",
        "docs = loader.load()\n",
        "print(f\"## 문서의 수: {len(docs)} ##\")\n",
        "\n",
        "text = docs[9*int(len(docs)/10)-1].page_content\n",
        "print(text)"
      ]
    },
    {
      "cell_type": "code",
      "execution_count": 21,
      "id": "ade83078",
      "metadata": {
        "hidden": true,
        "id": "ade83078"
      },
      "outputs": [],
      "source": [
        "from langchain.text_splitter import CharacterTextSplitter\n",
        "\n",
        "text_splitter = CharacterTextSplitter(\n",
        "    separator=\"\\n\\n\",\n",
        "    chunk_size=100,\n",
        "    chunk_overlap=10,\n",
        "    length_function=len,\n",
        "    is_separator_regex=False,\n",
        ")"
      ]
    },
    {
      "cell_type": "markdown",
      "id": "ea7d7e0d",
      "metadata": {
        "hidden": true,
        "id": "ea7d7e0d"
      },
      "source": [
        "이 함수는 `text_splitter` 객체의 `create_documents` 메소드를 사용하여 주어진 텍스트(`state_of_the_union`)를 여러 문서로 분할하고, 그 결과를 `texts` 변수에 저장합니다. 이후 `texts`의 첫 번째 문서를 출력합니다. 이 과정은 텍스트 데이터를 처리하고 분석하기 위한 초기 단계로 볼 수 있으며, 특히 큰 텍스트 데이터를 관리 가능한 크기의 단위로 나누는 데 유용합니다.\n"
      ]
    },
    {
      "cell_type": "code",
      "execution_count": 22,
      "id": "70e11f5b",
      "metadata": {
        "colab": {
          "base_uri": "https://localhost:8080/"
        },
        "hidden": true,
        "id": "70e11f5b",
        "outputId": "802656b1-51a3-4587-f9e5-44a81fff6fe7"
      },
      "outputs": [
        {
          "data": {
            "text/plain": [
              "['4 8챗GPT 등 생성형 AI 활용 보안 가이드라인\\n[정보 유출 방지를 위한 방안 마련] \\n-  개발자는 AI 모델의 학습 데이터에 의도하지 않게 포함될 수 있는 기관 내 주요 정보 \\n또는 개인정보를 보호하기 위해, 학습 과정에서 임의의 노이즈( noise )를 삽입하여 \\n정보 노출의 위험도를 낮춰주기 위한 정보보호 알고리즘( differential  privacy )을 적용할 \\n수 있다.\\n•평가 및 테스트 단계\\n[어뷰징 질문에 대한 답변 거부]\\n 개발자는 AI 모델이 의도하지 않은 질문에 대한 답변을 거부할 수 있도록 신중한 미세 \\n조정 방식을 고려해야 한다. 예를 들어, 내부 정보의 유출 유도 또는 혐오 발언, 선정성 \\n등과 같이 사회적으로 논란이나 거부감을 일으킬 수 있는 답변은 거부하거나, 윤리적인 \\n규범에 따라 조정되어야 한다. 또한 빈 프롬프트(입력이 공백 문자열로만 이루어진 경우)를 \\n받았을 때는 메시지가 끊긴 것으로 간주하고 답변을 다시 확인해달라는 응답을 반환\\n하여 훈련 데이터 추출 공격을 예방할 수 있다.\\n[AI 모델의 출력 결과 제한]\\n- 개발자는 입력에 대한 AI 모델의 모든 출력을 사용자에게 그대로 전달하는 것을 제한\\n해야 한다. 만약 입력에 대한 AI 모델의 모든 출력 결과를 사용자에게 전달한다면, \\n공격자는 이러한 쿼리를 반복하여 수행함으로써 비공개 모델의 복제본을 생성할 수 \\n있다. 이를 방지하기 위해 사용자에게 반환하는 각 단어의 신뢰도에 노이즈를 추가\\n하여 교란하거나, 사용자가 가장 선호할 것으로 예상되는 단일 또는 일정 개수의 답안을 \\n반환하는 형태로 응답을 제한해야 한다.\\n•배포 및 서비스 단계\\n[정보 유출 대책 마련] \\n- 개발자는 AI 모델이 생성한 데이터에 개인정보 또는 비공개 업무자료 등 민감한 \\n정보로 의심되는 표현이 등장할 경우를 대비하여 적절한 대응체계를 사전에 준비해야 \\n한다. 각급기관은 국가정보원의 「국가 정보보안 기본지침」 및 개인정보보호위원회의 \\n「개인정보 유출 대응 매뉴얼」 등을 참고하여 자료유출 등 사고 발생 대비 대책을 마련']"
            ]
          },
          "execution_count": 22,
          "metadata": {},
          "output_type": "execute_result"
        }
      ],
      "source": [
        "text_splitter = CharacterTextSplitter(chunk_size=100,\n",
        "                                      chunk_overlap=10,\n",
        "                                      separator=\"\\n\\n\")\n",
        "text_splitter.split_text(text)"
      ]
    },
    {
      "cell_type": "code",
      "execution_count": 23,
      "id": "24506d98",
      "metadata": {
        "colab": {
          "base_uri": "https://localhost:8080/"
        },
        "hidden": true,
        "id": "24506d98",
        "outputId": "a8b77e8c-daf7-4177-c72c-5f8749165207"
      },
      "outputs": [
        {
          "data": {
            "text/plain": [
              "['4 8챗GPT 등 생성형 AI 활용 보안 가이드라인\\n[정보 유출 방지를 위한 방안 마련]',\n",
              " '-  개발자는 AI 모델의 학습 데이터에 의도하지 않게 포함될 수 있는 기관 내 주요 정보',\n",
              " '또는 개인정보를 보호하기 위해, 학습 과정에서 임의의 노이즈( noise )를 삽입하여',\n",
              " '정보 노출의 위험도를 낮춰주기 위한 정보보호 알고리즘( differential  privacy )을 적용할 \\n수 있다.\\n•평가 및 테스트 단계\\n[어뷰징 질문에 대한 답변 거부]',\n",
              " '개발자는 AI 모델이 의도하지 않은 질문에 대한 답변을 거부할 수 있도록 신중한 미세 \\n조정 방식을 고려해야 한다. 예를 들어, 내부 정보의 유출 유도 또는 혐오 발언, 선정성',\n",
              " '등과 같이 사회적으로 논란이나 거부감을 일으킬 수 있는 답변은 거부하거나, 윤리적인 \\n규범에 따라 조정되어야 한다. 또한 빈 프롬프트(입력이 공백 문자열로만 이루어진 경우)를',\n",
              " '받았을 때는 메시지가 끊긴 것으로 간주하고 답변을 다시 확인해달라는 응답을 반환\\n하여 훈련 데이터 추출 공격을 예방할 수 있다.\\n[AI 모델의 출력 결과 제한]',\n",
              " '- 개발자는 입력에 대한 AI 모델의 모든 출력을 사용자에게 그대로 전달하는 것을 제한\\n해야 한다. 만약 입력에 대한 AI 모델의 모든 출력 결과를 사용자에게 전달한다면,',\n",
              " '공격자는 이러한 쿼리를 반복하여 수행함으로써 비공개 모델의 복제본을 생성할 수 \\n있다. 이를 방지하기 위해 사용자에게 반환하는 각 단어의 신뢰도에 노이즈를 추가',\n",
              " '하여 교란하거나, 사용자가 가장 선호할 것으로 예상되는 단일 또는 일정 개수의 답안을 \\n반환하는 형태로 응답을 제한해야 한다.\\n•배포 및 서비스 단계\\n[정보 유출 대책 마련]',\n",
              " '- 개발자는 AI 모델이 생성한 데이터에 개인정보 또는 비공개 업무자료 등 민감한 \\n정보로 의심되는 표현이 등장할 경우를 대비하여 적절한 대응체계를 사전에 준비해야',\n",
              " '한다. 각급기관은 국가정보원의 「국가 정보보안 기본지침」 및 개인정보보호위원회의 \\n「개인정보 유출 대응 매뉴얼」 등을 참고하여 자료유출 등 사고 발생 대비 대책을 마련']"
            ]
          },
          "execution_count": 23,
          "metadata": {},
          "output_type": "execute_result"
        }
      ],
      "source": [
        "text_splitter = CharacterTextSplitter(chunk_size=100,\n",
        "                                      chunk_overlap=10,\n",
        "                                      separator=\"\\n\")\n",
        "text_splitter.split_text(text)"
      ]
    },
    {
      "cell_type": "code",
      "execution_count": 24,
      "id": "57da16a7",
      "metadata": {
        "colab": {
          "base_uri": "https://localhost:8080/"
        },
        "hidden": true,
        "id": "57da16a7",
        "outputId": "09921613-bd16-4267-e977-acd46b4b2a02"
      },
      "outputs": [
        {
          "data": {
            "text/plain": [
              "['4 8챗GPT 등 생성형 AI 활용 보안 가이드라인\\n[정보 유출 방지를 위한 방안 마련] \\n- 개발자는 AI 모델의 학습 데이터에 의도하지 않게 포함될 수 있는 기관 내 주요 정보',\n",
              " '기관 내 주요 정보 \\n또는 개인정보를 보호하기 위해, 학습 과정에서 임의의 노이즈( noise )를 삽입하여 \\n정보 노출의 위험도를 낮춰주기 위한 정보보호 알고리즘(',\n",
              " '정보보호 알고리즘( differential privacy )을 적용할 \\n수 있다.\\n•평가 및 테스트 단계\\n[어뷰징 질문에 대한 답변 거부]\\n 개발자는 AI 모델이 의도하지 않은',\n",
              " '의도하지 않은 질문에 대한 답변을 거부할 수 있도록 신중한 미세 \\n조정 방식을 고려해야 한다. 예를 들어, 내부 정보의 유출 유도 또는 혐오 발언, 선정성 \\n등과 같이 사회적으로',\n",
              " '같이 사회적으로 논란이나 거부감을 일으킬 수 있는 답변은 거부하거나, 윤리적인 \\n규범에 따라 조정되어야 한다. 또한 빈 프롬프트(입력이 공백 문자열로만 이루어진 경우)를 \\n받았을',\n",
              " '경우)를 \\n받았을 때는 메시지가 끊긴 것으로 간주하고 답변을 다시 확인해달라는 응답을 반환\\n하여 훈련 데이터 추출 공격을 예방할 수 있다.\\n[AI 모델의 출력 결과 제한]\\n-',\n",
              " '결과 제한]\\n- 개발자는 입력에 대한 AI 모델의 모든 출력을 사용자에게 그대로 전달하는 것을 제한\\n해야 한다. 만약 입력에 대한 AI 모델의 모든 출력 결과를 사용자에게',\n",
              " '결과를 사용자에게 전달한다면, \\n공격자는 이러한 쿼리를 반복하여 수행함으로써 비공개 모델의 복제본을 생성할 수 \\n있다. 이를 방지하기 위해 사용자에게 반환하는 각 단어의 신뢰도에',\n",
              " '각 단어의 신뢰도에 노이즈를 추가\\n하여 교란하거나, 사용자가 가장 선호할 것으로 예상되는 단일 또는 일정 개수의 답안을 \\n반환하는 형태로 응답을 제한해야 한다.\\n•배포 및 서비스',\n",
              " '및 서비스 단계\\n[정보 유출 대책 마련] \\n- 개발자는 AI 모델이 생성한 데이터에 개인정보 또는 비공개 업무자료 등 민감한 \\n정보로 의심되는 표현이 등장할 경우를 대비하여 적절한',\n",
              " '대비하여 적절한 대응체계를 사전에 준비해야 \\n한다. 각급기관은 국가정보원의 「국가 정보보안 기본지침」 및 개인정보보호위원회의 \\n「개인정보 유출 대응 매뉴얼」 등을 참고하여 자료유출',\n",
              " '참고하여 자료유출 등 사고 발생 대비 대책을 마련']"
            ]
          },
          "execution_count": 24,
          "metadata": {},
          "output_type": "execute_result"
        }
      ],
      "source": [
        "text_splitter = CharacterTextSplitter(chunk_size=100,\n",
        "                                      chunk_overlap=10,\n",
        "                                      separator=\" \")\n",
        "text_splitter.split_text(text)"
      ]
    },
    {
      "cell_type": "code",
      "execution_count": 25,
      "id": "9c743226",
      "metadata": {
        "colab": {
          "base_uri": "https://localhost:8080/"
        },
        "hidden": true,
        "id": "9c743226",
        "outputId": "4c8e8a6f-a237-4102-de69-546634c2adf4"
      },
      "outputs": [
        {
          "data": {
            "text/plain": [
              "['4 8챗GPT 등 생성형 AI 활용 보안 가이드라인\\n[정보 유출 방지를 위한 방안 마련] \\n- 개발자는 AI 모델의 학습 데이터에 의도하지 않게 포함될 수 있는 기관 내 주요 정보',\n",
              " '또는 개인정보를 보호하기 위해, 학습 과정에서 임의의 노이즈( noise )를 삽입하여 \\n정보 노출의 위험도를 낮춰주기 위한 정보보호 알고리즘( differential',\n",
              " 'privacy )을 적용할 \\n수 있다.\\n•평가 및 테스트 단계\\n[어뷰징 질문에 대한 답변 거부]\\n 개발자는 AI 모델이 의도하지 않은 질문에 대한 답변을 거부할 수 있도록 신중한',\n",
              " '미세 \\n조정 방식을 고려해야 한다. 예를 들어, 내부 정보의 유출 유도 또는 혐오 발언, 선정성 \\n등과 같이 사회적으로 논란이나 거부감을 일으킬 수 있는 답변은 거부하거나,',\n",
              " '윤리적인 \\n규범에 따라 조정되어야 한다. 또한 빈 프롬프트(입력이 공백 문자열로만 이루어진 경우)를 \\n받았을 때는 메시지가 끊긴 것으로 간주하고 답변을 다시 확인해달라는 응답을',\n",
              " '반환\\n하여 훈련 데이터 추출 공격을 예방할 수 있다.\\n[AI 모델의 출력 결과 제한]\\n- 개발자는 입력에 대한 AI 모델의 모든 출력을 사용자에게 그대로 전달하는 것을 제한\\n해야',\n",
              " '한다. 만약 입력에 대한 AI 모델의 모든 출력 결과를 사용자에게 전달한다면, \\n공격자는 이러한 쿼리를 반복하여 수행함으로써 비공개 모델의 복제본을 생성할 수 \\n있다. 이를',\n",
              " '방지하기 위해 사용자에게 반환하는 각 단어의 신뢰도에 노이즈를 추가\\n하여 교란하거나, 사용자가 가장 선호할 것으로 예상되는 단일 또는 일정 개수의 답안을 \\n반환하는 형태로 응답을',\n",
              " '제한해야 한다.\\n•배포 및 서비스 단계\\n[정보 유출 대책 마련] \\n- 개발자는 AI 모델이 생성한 데이터에 개인정보 또는 비공개 업무자료 등 민감한 \\n정보로 의심되는 표현이 등장할',\n",
              " '경우를 대비하여 적절한 대응체계를 사전에 준비해야 \\n한다. 각급기관은 국가정보원의 「국가 정보보안 기본지침」 및 개인정보보호위원회의 \\n「개인정보 유출 대응 매뉴얼」 등을 참고하여',\n",
              " '자료유출 등 사고 발생 대비 대책을 마련']"
            ]
          },
          "execution_count": 25,
          "metadata": {},
          "output_type": "execute_result"
        }
      ],
      "source": [
        "text_splitter = CharacterTextSplitter(chunk_size=100,\n",
        "                                      chunk_overlap=0,\n",
        "                                      separator=\" \")\n",
        "text_splitter.split_text(text)"
      ]
    },
    {
      "cell_type": "code",
      "execution_count": 26,
      "id": "2b5b02d4",
      "metadata": {
        "code_folding": [],
        "colab": {
          "base_uri": "https://localhost:8080/"
        },
        "hidden": true,
        "id": "2b5b02d4",
        "outputId": "9ac67272-e9bd-40a2-9d47-2340898cedf8"
      },
      "outputs": [
        {
          "name": "stdout",
          "output_type": "stream",
          "text": [
            "chunk 개수: 6\n"
          ]
        },
        {
          "data": {
            "text/plain": [
              "['4 8챗GPT 등 생성형 AI 활용 보안 가이드라인\\n[정보 유출 방지를 위한 방안 마련] \\n- 개발자는 AI 모델의 학습 데이터에 의도하지 않게 포함될 수 있는 기관 내 주요 정보 \\n또는 개인정보를 보호하기 위해, 학습 과정에서 임의의 노이즈( noise )를 삽입하여 \\n정보 노출의 위험도를 낮춰주기 위한 정보보호 알고리즘( differential',\n",
              " '알고리즘( differential privacy )을 적용할 \\n수 있다.\\n•평가 및 테스트 단계\\n[어뷰징 질문에 대한 답변 거부]\\n 개발자는 AI 모델이 의도하지 않은 질문에 대한 답변을 거부할 수 있도록 신중한 미세 \\n조정 방식을 고려해야 한다. 예를 들어, 내부 정보의 유출 유도 또는 혐오 발언, 선정성 \\n등과 같이 사회적으로 논란이나 거부감을 일으킬',\n",
              " '사회적으로 논란이나 거부감을 일으킬 수 있는 답변은 거부하거나, 윤리적인 \\n규범에 따라 조정되어야 한다. 또한 빈 프롬프트(입력이 공백 문자열로만 이루어진 경우)를 \\n받았을 때는 메시지가 끊긴 것으로 간주하고 답변을 다시 확인해달라는 응답을 반환\\n하여 훈련 데이터 추출 공격을 예방할 수 있다.\\n[AI 모델의 출력 결과 제한]\\n- 개발자는 입력에 대한 AI',\n",
              " '제한]\\n- 개발자는 입력에 대한 AI 모델의 모든 출력을 사용자에게 그대로 전달하는 것을 제한\\n해야 한다. 만약 입력에 대한 AI 모델의 모든 출력 결과를 사용자에게 전달한다면, \\n공격자는 이러한 쿼리를 반복하여 수행함으로써 비공개 모델의 복제본을 생성할 수 \\n있다. 이를 방지하기 위해 사용자에게 반환하는 각 단어의 신뢰도에 노이즈를 추가\\n하여 교란하거나,',\n",
              " '노이즈를 추가\\n하여 교란하거나, 사용자가 가장 선호할 것으로 예상되는 단일 또는 일정 개수의 답안을 \\n반환하는 형태로 응답을 제한해야 한다.\\n•배포 및 서비스 단계\\n[정보 유출 대책 마련] \\n- 개발자는 AI 모델이 생성한 데이터에 개인정보 또는 비공개 업무자료 등 민감한 \\n정보로 의심되는 표현이 등장할 경우를 대비하여 적절한 대응체계를 사전에 준비해야',\n",
              " '적절한 대응체계를 사전에 준비해야 \\n한다. 각급기관은 국가정보원의 「국가 정보보안 기본지침」 및 개인정보보호위원회의 \\n「개인정보 유출 대응 매뉴얼」 등을 참고하여 자료유출 등 사고 발생 대비 대책을 마련']"
            ]
          },
          "execution_count": 26,
          "metadata": {},
          "output_type": "execute_result"
        }
      ],
      "source": [
        "text_splitter = CharacterTextSplitter(chunk_size=200,\n",
        "                                      chunk_overlap=20,\n",
        "                                      separator=\" \")\n",
        "# text 파일을 청크로 나누어줍니다.\n",
        "split_docs = text_splitter.split_text(text)\n",
        "print('chunk 개수: %d'%len(split_docs))\n",
        "split_docs"
      ]
    },
    {
      "cell_type": "markdown",
      "id": "1e49d975",
      "metadata": {
        "heading_collapsed": true,
        "hidden": true,
        "id": "1e49d975"
      },
      "source": [
        "### 2.2) Semantic Similarity\n",
        "\n",
        "의미적 유사성을 기준으로 텍스트를 분할합니다.\n",
        "\n",
        "출처: [Greg Kamradt’s Notebook](https://github.com/FullStackRetrieval-com/RetrievalTutorials/blob/main/5_Levels_Of_Text_Splitting.ipynb)\n",
        "\n",
        "높은 수준(high level)에서 문장으로 분할한 다음 3개 문장으로 그룹화한 다음 임베딩 공간에서 유사한 문장을 병합하는 방식입니다.\n"
      ]
    },
    {
      "cell_type": "code",
      "execution_count": 29,
      "id": "dccff243",
      "metadata": {
        "colab": {
          "base_uri": "https://localhost:8080/"
        },
        "hidden": true,
        "id": "dccff243",
        "outputId": "1e21fbcf-e924-4e4f-d25f-f8feca3f9f4f"
      },
      "outputs": [
        {
          "name": "stdout",
          "output_type": "stream",
          "text": [
            "chunk 개수: 2\n",
            "4 8챗GPT 등 생성형 AI 활용 보안 가이드라인\n",
            "[정보 유출 방지를 위한 방안 마련] \n",
            "-  개발자는 AI 모델의 학습 데이터에 의도하지 않게 포함될 수 있는 기관 내 주요 정보 \n",
            "또는 개인정보를 보호하기 위해, 학습 과정에서 임의의 노이즈( noise )를 삽입하여 \n",
            "정보 노출의 위험도를 낮춰주기 위한 정보보호 알고리즘( differential  privacy )을 적용할 \n",
            "수 있다. •평가 및 테스트 단계\n",
            "[어뷰징 질문에 대한 답변 거부]\n",
            " 개발자는 AI 모델이 의도하지 않은 질문에 대한 답변을 거부할 수 있도록 신중한 미세 \n",
            "조정 방식을 고려해야 한다.\n",
            "============================================================\n",
            "예를 들어, 내부 정보의 유출 유도 또는 혐오 발언, 선정성 \n",
            "등과 같이 사회적으로 논란이나 거부감을 일으킬 수 있는 답변은 거부하거나, 윤리적인 \n",
            "규범에 따라 조정되어야 한다. 또한 빈 프롬프트(입력이 공백 문자열로만 이루어진 경우)를 \n",
            "받았을 때는 메시지가 끊긴 것으로 간주하고 답변을 다시 확인해달라는 응답을 반환\n",
            "하여 훈련 데이터 추출 공격을 예방할 수 있다. [AI 모델의 출력 결과 제한]\n",
            "- 개발자는 입력에 대한 AI 모델의 모든 출력을 사용자에게 그대로 전달하는 것을 제한\n",
            "해야 한다. 만약 입력에 대한 AI 모델의 모든 출력 결과를 사용자에게 전달한다면, \n",
            "공격자는 이러한 쿼리를 반복하여 수행함으로써 비공개 모델의 복제본을 생성할 수 \n",
            "있다. 이를 방지하기 위해 사용자에게 반환하는 각 단어의 신뢰도에 노이즈를 추가\n",
            "하여 교란하거나, 사용자가 가장 선호할 것으로 예상되는 단일 또는 일정 개수의 답안을 \n",
            "반환하는 형태로 응답을 제한해야 한다. •배포 및 서비스 단계\n",
            "[정보 유출 대책 마련] \n",
            "- 개발자는 AI 모델이 생성한 데이터에 개인정보 또는 비공개 업무자료 등 민감한 \n",
            "정보로 의심되는 표현이 등장할 경우를 대비하여 적절한 대응체계를 사전에 준비해야 \n",
            "한다. 각급기관은 국가정보원의 「국가 정보보안 기본지침」 및 개인정보보호위원회의 \n",
            "「개인정보 유출 대응 매뉴얼」 등을 참고하여 자료유출 등 사고 발생 대비 대책을 마련\n",
            "============================================================\n"
          ]
        }
      ],
      "source": [
        "from langchain_experimental.text_splitter import SemanticChunker\n",
        "from langchain_openai.embeddings import OpenAIEmbeddings\n",
        "\n",
        "# SemanticChunker 를 생성합니다.\n",
        "semantic_text_splitter = SemanticChunker(\n",
        "    OpenAIEmbeddings(), add_start_index=True)\n",
        "\n",
        "# text 파일을 청크로 나누어줍니다.\n",
        "split_docs = semantic_text_splitter.split_text(text)\n",
        "print('chunk 개수: %d'%len(split_docs))\n",
        "\n",
        "for sent in split_docs:\n",
        "    print(sent)\n",
        "    print(\"===\" * 20)"
      ]
    },
    {
      "cell_type": "markdown",
      "id": "f04f3467",
      "metadata": {
        "heading_collapsed": true,
        "id": "f04f3467"
      },
      "source": [
        "## 3 단계: 임베딩\n",
        "\n",
        "참고: https://python.langchain.com/docs/integrations/text_embedding\n"
      ]
    },
    {
      "cell_type": "markdown",
      "id": "9affbaf8",
      "metadata": {
        "heading_collapsed": true,
        "hidden": true,
        "id": "9affbaf8"
      },
      "source": [
        "### 3.1) 유료 과금 임베딩(OpenAI)\n"
      ]
    },
    {
      "cell_type": "code",
      "execution_count": 30,
      "id": "42df2a5d",
      "metadata": {
        "code_folding": [
          0
        ],
        "colab": {
          "base_uri": "https://localhost:8080/"
        },
        "hidden": true,
        "id": "42df2a5d",
        "outputId": "a97d4ea7-19bd-4d88-cc56-7f92aeb88d56"
      },
      "outputs": [
        {
          "name": "stdout",
          "output_type": "stream",
          "text": [
            "chunk 개수: 228\n"
          ]
        },
        {
          "data": {
            "text/plain": [
              "[Document(page_content='챗GPT 등 \\n생성형 AI 활용  \\n보안 가이드라인챗GPT 등 \\n생성형 AI 활용보안 가이드라인', metadata={'source': 'data/PDF_1_챗GPT 등 생성형 AI 활용 보안 가이드라인(2023.6).pdf', 'page': 0}),\n",
              " Document(page_content='챗GPT 등 \\n생성형 AI 활용  \\n보안 가이드라인', metadata={'source': 'data/PDF_1_챗GPT 등 생성형 AI 활용 보안 가이드라인(2023.6).pdf', 'page': 2})]"
            ]
          },
          "execution_count": 30,
          "metadata": {},
          "output_type": "execute_result"
        }
      ],
      "source": [
        "text_splitter = CharacterTextSplitter(chunk_size=200,\n",
        "                                      chunk_overlap=15,\n",
        "                                      separator=\"\\n\")\n",
        "# text 파일을 청크로 나누어줍니다.\n",
        "text_splitter.split_text(text)\n",
        "\n",
        "# document를 청크로 나누어줍니다.\n",
        "split_docs = text_splitter.split_documents(docs)\n",
        "print('chunk 개수: %d'%len(split_docs))\n",
        "split_docs[:2]"
      ]
    },
    {
      "cell_type": "code",
      "execution_count": 31,
      "id": "ccc62a14",
      "metadata": {
        "code_folding": [
          0
        ],
        "hidden": true,
        "id": "ccc62a14"
      },
      "outputs": [],
      "source": [
        "# vector db 생성\n",
        "from langchain_community.vectorstores import FAISS, Chroma\n",
        "from langchain_openai.embeddings import OpenAIEmbeddings\n",
        "\n",
        "# 단계 3: 임베딩 & 벡터스토어 생성(Create Vectorstore)\n",
        "# 벡터스토어를 생성합니다.\n",
        "\n",
        "# embedder_model = \"text-embedding-3-small\"\n",
        "# embedder_model = \"text-embedding-3-large\"\n",
        "embedder_model = \"text-embedding-ada-002\"\n",
        "\n",
        "vectorstore = FAISS.from_documents(documents=split_docs,\n",
        "                                   embedding=OpenAIEmbeddings(model=embedder_model))"
      ]
    },
    {
      "cell_type": "markdown",
      "id": "7f65e243",
      "metadata": {
        "hidden": true,
        "id": "7f65e243"
      },
      "source": [
        "다음은 `OpenAI` 의 지원되는 Embedding 모델들의 목록입니다.\n",
        "\n",
        "- 기본 값은 `text-embeding-ada-002` 입니다.\n"
      ]
    },
    {
      "cell_type": "markdown",
      "id": "97c021b1",
      "metadata": {
        "hidden": true,
        "id": "97c021b1"
      },
      "source": [
        "| MODEL                  | ROUGH PAGES PER DOLLAR | EXAMPLE PERFORMANCE ON MTEB EVAL |\n",
        "| ---------------------- | ---------------------- | -------------------------------- |\n",
        "| text-embedding-3-small | 62,500                 | 62.3%                            |\n",
        "| text-embedding-3-large | 9,615                  | 64.6%                            |\n",
        "| text-embedding-ada-002 | 12,500                 | 61.0%                            |\n"
      ]
    },
    {
      "cell_type": "markdown",
      "id": "241cf6e8",
      "metadata": {
        "heading_collapsed": true,
        "hidden": true,
        "id": "241cf6e8"
      },
      "source": [
        "### 3.2) 무료 Open Source 기반 임베딩\n"
      ]
    },
    {
      "cell_type": "code",
      "execution_count": 35,
      "id": "8ca55cbf",
      "metadata": {
        "colab": {
          "base_uri": "https://localhost:8080/",
          "height": 479,
          "referenced_widgets": [
            "62a9e6426a904dd68d93bac868063754",
            "2e3bc6fd349e451bb2417adc93e9817c",
            "afb80fd927354daea48f516a44834352",
            "087cd01a956d49ae95ca0520adcc2244",
            "5f4e4d2503da4cb085c29577ac49febf",
            "d631a066ab914d109b2cc547fb50ce38",
            "4f9836137a9f471a8e5da6899f4ec922",
            "6e203b6c93374a1a9751203d9a4a23e6",
            "b13bcf23fb834a99a8afd6c94298510b",
            "91dbe323c9854ce5aa32fc51c89854c2",
            "cc645dda687b43f79ebd46ceb13c8b11",
            "9c5b7f7d12094fd78047eeaebaf21aae",
            "6ae1a3e25f5c4ce582f36585e1106c92",
            "5234b81efa7c42e4ad87bff43fc94986",
            "7a3cacaaed284ea391a4d04f95141683",
            "6978f0b73d084075acc20e486edb9328",
            "29b9d8f7d2aa471c9621e0661e71abba",
            "7248e29a6e284b148475cd0f35d59b56",
            "70fd82bcf9f14adcbb3808da6e98cd4e",
            "46ef3bf68f514fc699f648dbd8d16eef",
            "dc41fa611668461ab6b6d2b1ab4dccd1",
            "fce49f54b6f04f398cf3e86186280e06",
            "718373a649a349f8b90f6a251ee6334a",
            "f6076097872b47c7a7f0dfd4fd82eb5b",
            "536dab760b284dd6bbf11fd17db0618e",
            "fa526c958dd44c1fae041bfebf8845fc",
            "bb2b5b2b5b5d49f987f2c5f4be1b6773",
            "59b1576e77ce4fa7b501373cb172f666",
            "5ab9d52d347d40c09348f5ef571f4d62",
            "5aa8ca412d7f4c7c9845ec4e81f6faf3",
            "afef292a50654af9b4403c2a3377e849",
            "84e51359b7f84956b7c1301a0886b099",
            "591b8828f47b45bf99350dfc56fccef8",
            "2e09608a4162464e828ee018b2be1176",
            "ef830d7f58664a09ad57f7c494223ade",
            "af4ae8a922114adc90e145adf7b2cd92",
            "eb09d6cd301945e19bdb3a6dbac8ffbd",
            "61fe223ab29d4ab180c3700d1daa61a3",
            "0bc8dc66b0504c3b9c5cb33a56225545",
            "9bdc5c7e98784e9a8adb615262353903",
            "5e3ad5b218d04688a9f054f42756b2c8",
            "a9e4a71f55224a3bacfb4def565766cf",
            "c99c1de9a24241c2bf7e950095d611ac",
            "1090fe96f63941709aa0e2f494c2cea2",
            "6b1878452ce245c8a8437c885c993ab0",
            "10f30d88a0b34b1a9de440117d5f98f1",
            "eabd9cd215f14b7fb83ad4893ddf4f72",
            "d269b5df449b40d5952bc3bb5e3b60e1",
            "0edfb0f7ee6b4953b02108f558b1fc82",
            "0f0b6ec94597485e83791c578e7d6ac5",
            "97205c159521496a863b2bea93b734b8",
            "9fd7c6bf7ee74f3cabfdfcc8e603adaf",
            "cd92ffafad57402692722d190af3c28d",
            "c0b8da03c3bf40879495215833629f2b",
            "fd8ac805d48040439440297a815b9aac",
            "ba8f2423a68c444bb9521647ed066add",
            "9ab871cfd3bf440e8261a4ea87e57030",
            "5ca6cec9c2c94a48bf5fcf9eb4531fb6",
            "d25ed02a7e8848c6be168badc50f19c7",
            "7e7f782c7aee4bb6ad1c1d0008ca14b8",
            "5d119b3435cc4d439fc6069ea4d97754",
            "f4524f0b83b24a04b0e68be8f60dde37",
            "03bf182549b04b88adc4592c3bfaddd8",
            "d33a41bc6ee64d11adaa825cd53fdabd",
            "755c73e145bb479e98034aaf6d919f7f",
            "4e05dfea6d5d4d52bbe3ac0f45a48397",
            "97179ab335c149649bf0bef1dbf22cb6",
            "055565d8c00549cd9b25a7e5196ecf9d",
            "a6554c090e1d46e7bfbbc2c79eaea669",
            "d33f9dbb71924871a99692e9f82d4e64",
            "8b018dad308e49738373669bc8a33d91",
            "4aa64799c43b490b94b0759a5a715fd7",
            "f0a145d6a37e408c9c704a5eff54eaf8",
            "26ba9875c07047c48bc874aa714faeed",
            "56a9263d13ff426ba34e0c290f57769a",
            "509f1f3b01cb437cbaffe847ceb57c7c",
            "16f4558829f54d1d841d733644238957",
            "a161691903554ca59171b5c446d7465e",
            "87d08e5535bd4904a0088569f8cb5327",
            "a627852691ea47ada9942152ad6ddf47",
            "cbf3d92fc3e1487dbadfc982dcacf789",
            "6cb6e320624e4a38aa02d56eb3f864d8",
            "b35a7b74d99e4e0b8f501780385320dc",
            "d1f32e895c774163b59d9d40081540a3",
            "4ff6613ad5134f25981c7b8371f07507",
            "4dea580a99cb4c07afcefc7d4349d676",
            "5a2ed8a5936e4f3e9dce054ef60dd12a",
            "cce6069ab4cf4826a7482d0896db30ad",
            "7272f5be74dc4c85902671f73c3da6a9",
            "369e8be8155841ca8194b578c22fd682",
            "e7f040aff78446188574be37c0ba4d1c",
            "546c40d59b0040c49d3a37d82a6f0f3f",
            "a5e4558d769c45938677b282f4ded22d",
            "ee4b683bd5b5410c9071024e0664936a",
            "b76e86bbe2e24bfa8eadfe09e67594d2",
            "e42c2105ce36427686013ffe03d6f40b",
            "4aae66bcb7b54e63beee38a934c92ba4",
            "610bad0b112d4e34bc550ae81d906ca5",
            "bdc78ca626284e02a43cd82c5b2dadf4",
            "d947a148cdf847efa70a2e2db76b535c",
            "ad6347b77b7249a49e8f80ae4ee8eb0b",
            "ea631a84c2b2416880edbe0a4d22114d",
            "a4d5c612ee0c453b9ab21cab0713d459",
            "396a032318d74a80859a45173508ad82",
            "0b0d8b3b1fa94c5cb55c22e4921562f3",
            "47f6202561344d00a760a88980e0921b",
            "133d42281da84b6ca6f2bf6d7b2af061",
            "e542192873544e66af22479537f392c8",
            "b32022753a404f28930d0e0a19d95ea2",
            "ea836ad9a4a84192a0a6e17f02c1a7c1",
            "6521eadb8aee4e5d8cc50e4975fe2666",
            "eb740961d05f48eeb8d557ba5cb4d345",
            "788a67fc0fbe49b085d4b5dd5406d807",
            "499aa007a55b4a96b6ee9e58f128921a",
            "c10823ccda8d4b479204da3aaaafc4e5",
            "d25934a5065f4ae1b1ea5cb5f384752d",
            "ff0be1217efe4447b9b63baa8f1ef09d",
            "e2b2b587698148c5a26d0d020e5c54df",
            "df957d5b7b714af984a801465199e72e",
            "07f58eb7374f4c159b86174e2f9c1484",
            "075db42cbe394f4a9e434935a7709f76"
          ]
        },
        "hidden": true,
        "id": "8ca55cbf",
        "outputId": "b38d622f-25b2-4dd2-b7a5-ebb4e62f14c9",
        "scrolled": true
      },
      "outputs": [
        {
          "name": "stderr",
          "output_type": "stream",
          "text": [
            "/usr/local/lib/python3.10/dist-packages/huggingface_hub/utils/_token.py:88: UserWarning: \n",
            "The secret `HF_TOKEN` does not exist in your Colab secrets.\n",
            "To authenticate with the Hugging Face Hub, create a token in your settings tab (https://huggingface.co/settings/tokens), set it as secret in your Google Colab and restart your session.\n",
            "You will be able to reuse this secret in all of your notebooks.\n",
            "Please note that authentication is recommended but still optional to access public models or datasets.\n",
            "  warnings.warn(\n"
          ]
        },
        {
          "data": {
            "application/vnd.jupyter.widget-view+json": {
              "model_id": "62a9e6426a904dd68d93bac868063754",
              "version_major": 2,
              "version_minor": 0
            },
            "text/plain": [
              "modules.json:   0%|          | 0.00/349 [00:00<?, ?B/s]"
            ]
          },
          "metadata": {},
          "output_type": "display_data"
        },
        {
          "data": {
            "application/vnd.jupyter.widget-view+json": {
              "model_id": "9c5b7f7d12094fd78047eeaebaf21aae",
              "version_major": 2,
              "version_minor": 0
            },
            "text/plain": [
              "config_sentence_transformers.json:   0%|          | 0.00/124 [00:00<?, ?B/s]"
            ]
          },
          "metadata": {},
          "output_type": "display_data"
        },
        {
          "data": {
            "application/vnd.jupyter.widget-view+json": {
              "model_id": "718373a649a349f8b90f6a251ee6334a",
              "version_major": 2,
              "version_minor": 0
            },
            "text/plain": [
              "README.md:   0%|          | 0.00/90.8k [00:00<?, ?B/s]"
            ]
          },
          "metadata": {},
          "output_type": "display_data"
        },
        {
          "data": {
            "application/vnd.jupyter.widget-view+json": {
              "model_id": "2e09608a4162464e828ee018b2be1176",
              "version_major": 2,
              "version_minor": 0
            },
            "text/plain": [
              "sentence_bert_config.json:   0%|          | 0.00/52.0 [00:00<?, ?B/s]"
            ]
          },
          "metadata": {},
          "output_type": "display_data"
        },
        {
          "data": {
            "application/vnd.jupyter.widget-view+json": {
              "model_id": "6b1878452ce245c8a8437c885c993ab0",
              "version_major": 2,
              "version_minor": 0
            },
            "text/plain": [
              "config.json:   0%|          | 0.00/684 [00:00<?, ?B/s]"
            ]
          },
          "metadata": {},
          "output_type": "display_data"
        },
        {
          "data": {
            "application/vnd.jupyter.widget-view+json": {
              "model_id": "ba8f2423a68c444bb9521647ed066add",
              "version_major": 2,
              "version_minor": 0
            },
            "text/plain": [
              "model.safetensors:   0%|          | 0.00/133M [00:00<?, ?B/s]"
            ]
          },
          "metadata": {},
          "output_type": "display_data"
        },
        {
          "data": {
            "application/vnd.jupyter.widget-view+json": {
              "model_id": "97179ab335c149649bf0bef1dbf22cb6",
              "version_major": 2,
              "version_minor": 0
            },
            "text/plain": [
              "tokenizer_config.json:   0%|          | 0.00/366 [00:00<?, ?B/s]"
            ]
          },
          "metadata": {},
          "output_type": "display_data"
        },
        {
          "data": {
            "application/vnd.jupyter.widget-view+json": {
              "model_id": "a161691903554ca59171b5c446d7465e",
              "version_major": 2,
              "version_minor": 0
            },
            "text/plain": [
              "vocab.txt:   0%|          | 0.00/232k [00:00<?, ?B/s]"
            ]
          },
          "metadata": {},
          "output_type": "display_data"
        },
        {
          "data": {
            "application/vnd.jupyter.widget-view+json": {
              "model_id": "7272f5be74dc4c85902671f73c3da6a9",
              "version_major": 2,
              "version_minor": 0
            },
            "text/plain": [
              "tokenizer.json:   0%|          | 0.00/711k [00:00<?, ?B/s]"
            ]
          },
          "metadata": {},
          "output_type": "display_data"
        },
        {
          "data": {
            "application/vnd.jupyter.widget-view+json": {
              "model_id": "d947a148cdf847efa70a2e2db76b535c",
              "version_major": 2,
              "version_minor": 0
            },
            "text/plain": [
              "special_tokens_map.json:   0%|          | 0.00/125 [00:00<?, ?B/s]"
            ]
          },
          "metadata": {},
          "output_type": "display_data"
        },
        {
          "data": {
            "application/vnd.jupyter.widget-view+json": {
              "model_id": "6521eadb8aee4e5d8cc50e4975fe2666",
              "version_major": 2,
              "version_minor": 0
            },
            "text/plain": [
              "1_Pooling/config.json:   0%|          | 0.00/190 [00:00<?, ?B/s]"
            ]
          },
          "metadata": {},
          "output_type": "display_data"
        }
      ],
      "source": [
        "from langchain_community.embeddings import HuggingFaceBgeEmbeddings\n",
        "\n",
        "# 단계 3: 임베딩 & 벡터스토어 생성(Create Vectorstore)\n",
        "# 벡터스토어를 생성합니다.\n",
        "vectorstore = FAISS.from_documents(documents=split_docs,\n",
        "                                   embedding=HuggingFaceBgeEmbeddings(\n",
        "                                       model_name = \"BAAI/bge-small-en\",  # \"BAAI/bge-large-en\"\n",
        "                                       model_kwargs = {'device': 'cpu'},\n",
        "                                       encode_kwargs = {'normalize_embeddings': True}))"
      ]
    },
    {
      "cell_type": "markdown",
      "id": "cd42083c",
      "metadata": {
        "heading_collapsed": true,
        "id": "cd42083c"
      },
      "source": [
        "## 4단계: 벡터스토어 생성(Create Vectorstore)\n"
      ]
    },
    {
      "cell_type": "code",
      "execution_count": 38,
      "id": "9033e0af",
      "metadata": {
        "code_folding": [],
        "colab": {
          "base_uri": "https://localhost:8080/"
        },
        "hidden": true,
        "id": "9033e0af",
        "outputId": "649a7463-6933-4e90-ad09-af5d950a2990"
      },
      "outputs": [
        {
          "data": {
            "text/plain": [
              "<langchain_community.vectorstores.faiss.FAISS at 0x7a053d5a1960>"
            ]
          },
          "execution_count": 38,
          "metadata": {},
          "output_type": "execute_result"
        }
      ],
      "source": [
        "# FAISS DB 적용\n",
        "from langchain_community.vectorstores import FAISS\n",
        "# from langchain_community.vectorstores import Chroma\n",
        "\n",
        "vectorstore = FAISS.from_documents(documents=split_docs,\n",
        "                                   embedding=OpenAIEmbeddings(model=embedder_model))\n",
        "\n",
        "# Chroma DB 적용\n",
        "# vectorstore = Chroma.from_documents(documents=split_docs,\n",
        "#                                    embedding=OpenAIEmbeddings(model=embedder_model))\n",
        "\n",
        "vectorstore"
      ]
    },
    {
      "cell_type": "markdown",
      "id": "c8150225",
      "metadata": {
        "heading_collapsed": true,
        "id": "c8150225"
      },
      "source": [
        "## 5단계: Retriever 생성\n",
        "\n",
        "리트리버는 구조화되지 않은 쿼리가 주어지면 문서를 반환하는 인터페이스입니다.\n",
        "\n",
        "리트리버는 문서를 저장할 필요 없이 문서를 반환(또는 검색)하기만 합니다.\n",
        "\n",
        "- [공식 도큐먼트](https://python.langchain.com/docs/modules/data_connection/retrievers/)\n",
        "\n",
        "생성된 VectorStore 에 `as_retriver()` 로 가져와서 **Retriever** 를 생성합니다.\n"
      ]
    },
    {
      "cell_type": "markdown",
      "id": "90798e85",
      "metadata": {
        "heading_collapsed": true,
        "hidden": true,
        "id": "90798e85"
      },
      "source": [
        "### 5.1) 유사도 기반 검색\n",
        "\n",
        "- 기본값은 코사인 유사도인 `similarity` 가 적용되어 있습니다.\n"
      ]
    },
    {
      "cell_type": "code",
      "execution_count": 39,
      "id": "57698a0a",
      "metadata": {
        "colab": {
          "base_uri": "https://localhost:8080/"
        },
        "hidden": true,
        "id": "57698a0a",
        "outputId": "af84b90e-83c9-4fa5-af38-b4a105b69da2"
      },
      "outputs": [
        {
          "name": "stdout",
          "output_type": "stream",
          "text": [
            "[Document(page_content='사용하게 되면, 정보 노출, 데이터 추론 등을 통해 훈련 데이터의 기밀성이 침해될 뿐 \\n아니라, 민감한 개인정보가 노출될 수 있다. \\n•모델 학습 단계\\n[AI 모델 성능 고려한 기밀 정보 유출 차단 전략 수립] \\n-  개발자는 AI 모델의 성능과 기밀 정보의 유출 가능성에 대한 상충 관계를 적절히 조절', metadata={'source': 'data/PDF_1_챗GPT 등 생성형 AI 활용 보안 가이드라인(2023.6).pdf', 'page': 52}), Document(page_content='4 8챗GPT 등 생성형 AI 활용 보안 가이드라인\\n[정보 유출 방지를 위한 방안 마련] \\n-  개발자는 AI 모델의 학습 데이터에 의도하지 않게 포함될 수 있는 기관 내 주요 정보 \\n또는 개인정보를 보호하기 위해, 학습 과정에서 임의의 노이즈( noise )를 삽입하여', metadata={'source': 'data/PDF_1_챗GPT 등 생성형 AI 활용 보안 가이드라인(2023.6).pdf', 'page': 53}), Document(page_content='사용자들은 AI 모델 생성기반 공격에 대해 비판적으로 접근하고, 편견이나 허위 \\n정보를 퍼뜨리는 목적으로 사용되는 콘텐츠를 구별할 수 있어야 한다. 또한, 다양한 \\n도구를 사용하고 보안 전문가와 인공지능 개발자들이 함께 시스템을 구축하여 \\n이러한 공격에 대응해야 한다.\\n인공지능 생성 콘텐츠', metadata={'source': 'data/PDF_1_챗GPT 등 생성형 AI 활용 보안 가이드라인(2023.6).pdf', 'page': 42}), Document(page_content='정보뿐만 아니라 다양한 형태의 데이터를 악용하여 유해한 행동을 수행할 위험이 있다. \\n예를 들어, 모델이 악의적인 이미지를 생성하거나 음성 인증 시스템을 속일 수 있는  \\n음성을 생성하는 등의 악용 가능성이 있다.AI 모델 \\n적용 범위 확장\\n안전성 확인 \\n미흡해커 에이전트화된 \\nAI 모델 악용\\nAI 모델 \\n플러그인\\n취약 서비스멀티 모달 악용', metadata={'source': 'data/PDF_1_챗GPT 등 생성형 AI 활용 보안 가이드라인(2023.6).pdf', 'page': 25})]\n"
          ]
        }
      ],
      "source": [
        "query = \"생성형 AI를 사용할 때 정보 유출 방지를 위해 어떤것을 고려해야해?\"\n",
        "\n",
        "retriever = vectorstore.as_retriever(search_type=\"similarity\")\n",
        "search_result = retriever.get_relevant_documents(query)\n",
        "print(search_result)"
      ]
    },
    {
      "cell_type": "markdown",
      "id": "e107dea5",
      "metadata": {
        "hidden": true,
        "id": "e107dea5"
      },
      "source": [
        "`similarity_score_threshold` 는 유사도 기반 검색에서 `score_threshold` 이상인 결과만 반환합니다.\n"
      ]
    },
    {
      "cell_type": "code",
      "execution_count": 40,
      "id": "067f05aa",
      "metadata": {
        "colab": {
          "base_uri": "https://localhost:8080/"
        },
        "hidden": true,
        "id": "067f05aa",
        "outputId": "cc68e787-d1ed-477f-d1c0-96bf26a70423"
      },
      "outputs": [
        {
          "name": "stdout",
          "output_type": "stream",
          "text": [
            "[Document(page_content='사용하게 되면, 정보 노출, 데이터 추론 등을 통해 훈련 데이터의 기밀성이 침해될 뿐 \\n아니라, 민감한 개인정보가 노출될 수 있다. \\n•모델 학습 단계\\n[AI 모델 성능 고려한 기밀 정보 유출 차단 전략 수립] \\n-  개발자는 AI 모델의 성능과 기밀 정보의 유출 가능성에 대한 상충 관계를 적절히 조절', metadata={'source': 'data/PDF_1_챗GPT 등 생성형 AI 활용 보안 가이드라인(2023.6).pdf', 'page': 52}), Document(page_content='4 8챗GPT 등 생성형 AI 활용 보안 가이드라인\\n[정보 유출 방지를 위한 방안 마련] \\n-  개발자는 AI 모델의 학습 데이터에 의도하지 않게 포함될 수 있는 기관 내 주요 정보 \\n또는 개인정보를 보호하기 위해, 학습 과정에서 임의의 노이즈( noise )를 삽입하여', metadata={'source': 'data/PDF_1_챗GPT 등 생성형 AI 활용 보안 가이드라인(2023.6).pdf', 'page': 53}), Document(page_content='사용자들은 AI 모델 생성기반 공격에 대해 비판적으로 접근하고, 편견이나 허위 \\n정보를 퍼뜨리는 목적으로 사용되는 콘텐츠를 구별할 수 있어야 한다. 또한, 다양한 \\n도구를 사용하고 보안 전문가와 인공지능 개발자들이 함께 시스템을 구축하여 \\n이러한 공격에 대응해야 한다.\\n인공지능 생성 콘텐츠', metadata={'source': 'data/PDF_1_챗GPT 등 생성형 AI 활용 보안 가이드라인(2023.6).pdf', 'page': 42}), Document(page_content='정보뿐만 아니라 다양한 형태의 데이터를 악용하여 유해한 행동을 수행할 위험이 있다. \\n예를 들어, 모델이 악의적인 이미지를 생성하거나 음성 인증 시스템을 속일 수 있는  \\n음성을 생성하는 등의 악용 가능성이 있다.AI 모델 \\n적용 범위 확장\\n안전성 확인 \\n미흡해커 에이전트화된 \\nAI 모델 악용\\nAI 모델 \\n플러그인\\n취약 서비스멀티 모달 악용', metadata={'source': 'data/PDF_1_챗GPT 등 생성형 AI 활용 보안 가이드라인(2023.6).pdf', 'page': 25})]\n"
          ]
        }
      ],
      "source": [
        "query = \"생성형 AI를 사용할 때 정보 유출 방지를 위해 어떤것을 고려해야해?\"\n",
        "\n",
        "retriever = vectorstore.as_retriever(\n",
        "    search_type=\"similarity_score_threshold\", search_kwargs={\"score_threshold\": 0.8}\n",
        ")\n",
        "search_result = retriever.get_relevant_documents(query)\n",
        "print(search_result)"
      ]
    },
    {
      "cell_type": "markdown",
      "id": "6a72fee8",
      "metadata": {
        "hidden": true,
        "id": "6a72fee8"
      },
      "source": [
        "`maximum marginal search result` 를 사용하여 검색합니다.\n"
      ]
    },
    {
      "cell_type": "code",
      "execution_count": 41,
      "id": "405337a9",
      "metadata": {
        "colab": {
          "base_uri": "https://localhost:8080/"
        },
        "hidden": true,
        "id": "405337a9",
        "outputId": "6646c0af-40b1-4e16-cfe2-8c23d32fcd90"
      },
      "outputs": [
        {
          "name": "stdout",
          "output_type": "stream",
          "text": [
            "[Document(page_content='사용하게 되면, 정보 노출, 데이터 추론 등을 통해 훈련 데이터의 기밀성이 침해될 뿐 \\n아니라, 민감한 개인정보가 노출될 수 있다. \\n•모델 학습 단계\\n[AI 모델 성능 고려한 기밀 정보 유출 차단 전략 수립] \\n-  개발자는 AI 모델의 성능과 기밀 정보의 유출 가능성에 대한 상충 관계를 적절히 조절', metadata={'source': 'data/PDF_1_챗GPT 등 생성형 AI 활용 보안 가이드라인(2023.6).pdf', 'page': 52}), Document(page_content='2 9챗GPT 등 생성형 AI 활용 보안 가이드라인2   서비스 답변의 유해성은 어떻게 피할 수 있는가?\\n2   사용자는 서비스가 생성한 결과물을 항상 주의 깊게 검토하고, 부적절한 내용이나 \\n유해한 요소가 포함되어 있는지 확인해야 한다. 또한, 관련 규정을 준수하고 \\n있는지에 대해서도 주의를 기울여야 한다.', metadata={'source': 'data/PDF_1_챗GPT 등 생성형 AI 활용 보안 가이드라인(2023.6).pdf', 'page': 34})]\n"
          ]
        }
      ],
      "source": [
        "query = \"생성형 AI를 사용할 때 정보 유출 방지를 위해 어떤것을 고려해야해?\"\n",
        "\n",
        "retriever = vectorstore.as_retriever(search_type=\"mmr\", search_kwargs={\"k\": 2})\n",
        "search_result = retriever.get_relevant_documents(query)\n",
        "print(search_result)"
      ]
    },
    {
      "cell_type": "markdown",
      "id": "e9a96b86",
      "metadata": {
        "heading_collapsed": true,
        "hidden": true,
        "id": "e9a96b86"
      },
      "source": [
        "### 5.2) 다양한 쿼리 생성\n"
      ]
    },
    {
      "cell_type": "code",
      "execution_count": 45,
      "id": "3473f1af",
      "metadata": {
        "colab": {
          "base_uri": "https://localhost:8080/"
        },
        "hidden": true,
        "id": "3473f1af",
        "outputId": "c1c0ab9c-dc85-4df1-f074-87730b188a5a"
      },
      "outputs": [
        {
          "name": "stderr",
          "output_type": "stream",
          "text": [
            "INFO:langchain.retrievers.multi_query:Generated queries: ['1. AI 생성형 모델을 사용할 때 정보 유출을 방지하기 위한 고려 사항은 무엇인가요?', '2. 정보 유출 방지를 위해 AI 생성형 기술을 적용할 때 고려해야 할 사항은 무엇인가요?', '3. AI 생성형을 활용할 때 정보 보안을 강화하기 위해 고려해야 할 사항은 무엇인가요?']\n"
          ]
        },
        {
          "data": {
            "text/plain": [
              "8"
            ]
          },
          "execution_count": 45,
          "metadata": {},
          "output_type": "execute_result"
        }
      ],
      "source": [
        "from langchain.retrievers.multi_query import MultiQueryRetriever\n",
        "from langchain_openai import ChatOpenAI\n",
        "\n",
        "query = \"생성형 AI를 사용할 때 정보 유출 방지를 위해 어떤것을 고려해야해?\"\n",
        "\n",
        "llm = ChatOpenAI(temperature=0, model=\"gpt-3.5-turbo\")\n",
        "\n",
        "retriever_from_llm = MultiQueryRetriever.from_llm(\n",
        "    retriever=vectorstore.as_retriever(), llm=llm\n",
        ")\n",
        "\n",
        "# Set logging for the queries\n",
        "import logging\n",
        "\n",
        "logging.basicConfig()\n",
        "logging.getLogger(\"langchain.retrievers.multi_query\").setLevel(logging.INFO)\n",
        "\n",
        "unique_docs = retriever_from_llm.get_relevant_documents(query=query)\n",
        "len(unique_docs)"
      ]
    },
    {
      "cell_type": "markdown",
      "id": "c8185cf7",
      "metadata": {
        "heading_collapsed": true,
        "hidden": true,
        "id": "c8185cf7"
      },
      "source": [
        "### 5.3) Ensemble Retriever\n"
      ]
    },
    {
      "cell_type": "code",
      "execution_count": 48,
      "id": "cd02b2b6",
      "metadata": {
        "hidden": true,
        "id": "cd02b2b6"
      },
      "outputs": [],
      "source": [
        "from langchain.retrievers import BM25Retriever, EnsembleRetriever\n",
        "from langchain_community.vectorstores import FAISS\n",
        "from langchain_openai import OpenAIEmbeddings\n",
        "\n",
        "doc_list = [\n",
        "    \"난 오늘 많이 먹어서 배가 정말 부르다\",\n",
        "    \"떠나는 저 배가 오늘 마지막 배인가요?\",\n",
        "    \"내가 제일 좋아하는 과일들은 배, 사과, 키워, 수박 입니다.\",\n",
        "]\n",
        "\n",
        "# initialize the bm25 retriever and faiss retriever\n",
        "bm25_retriever = BM25Retriever.from_texts(doc_list)\n",
        "bm25_retriever.k = 2\n",
        "\n",
        "faiss_vectorstore = FAISS.from_texts(doc_list, OpenAIEmbeddings())\n",
        "faiss_retriever = faiss_vectorstore.as_retriever(search_kwargs={\"k\": 2})\n",
        "\n",
        "# initialize the ensemble retriever\n",
        "ensemble_retriever = EnsembleRetriever(\n",
        "    retrievers=[bm25_retriever, faiss_retriever], weights=[0.5, 0.5]\n",
        ")\n",
        "\n",
        "def pretty_print(docs):\n",
        "    for i, doc in enumerate(docs):\n",
        "        print(f\"[{i+1}] {doc.page_content}\")"
      ]
    },
    {
      "cell_type": "code",
      "execution_count": 49,
      "id": "f046a5bf",
      "metadata": {
        "colab": {
          "base_uri": "https://localhost:8080/"
        },
        "hidden": true,
        "id": "f046a5bf",
        "outputId": "a65c2d21-4872-46ff-9b3a-5a08c854d318"
      },
      "outputs": [
        {
          "name": "stdout",
          "output_type": "stream",
          "text": [
            "[Query]\n",
            "나 요즘 배에 정말 살이 많이 쪘어...\n",
            "\n",
            "[BM25 Retriever]\n",
            "[1] 난 오늘 많이 먹어서 배가 정말 부르다\n",
            "[2] 내가 제일 좋아하는 과일들은 배, 사과, 키워, 수박 입니다.\n",
            "============================================================\n",
            "[FAISS Retriever]\n",
            "[1] 난 오늘 많이 먹어서 배가 정말 부르다\n",
            "[2] 떠나는 저 배가 오늘 마지막 배인가요?\n",
            "============================================================\n",
            "[Ensemble Retriever]\n",
            "[1] 난 오늘 많이 먹어서 배가 정말 부르다\n",
            "[2] 떠나는 저 배가 오늘 마지막 배인가요?\n",
            "[3] 내가 제일 좋아하는 과일들은 배, 사과, 키워, 수박 입니다.\n"
          ]
        }
      ],
      "source": [
        "sample_query = \"나 요즘 배에 정말 살이 많이 쪘어...\"\n",
        "print(f\"[Query]\\n{sample_query}\\n\")\n",
        "\n",
        "relevant_docs = bm25_retriever.get_relevant_documents(sample_query)\n",
        "print(\"[BM25 Retriever]\")\n",
        "pretty_print(relevant_docs)\n",
        "print(\"===\" * 20)\n",
        "relevant_docs = faiss_retriever.get_relevant_documents(sample_query)\n",
        "print(\"[FAISS Retriever]\")\n",
        "pretty_print(relevant_docs)\n",
        "print(\"===\" * 20)\n",
        "relevant_docs = ensemble_retriever.get_relevant_documents(sample_query)\n",
        "print(\"[Ensemble Retriever]\")\n",
        "pretty_print(relevant_docs)"
      ]
    },
    {
      "cell_type": "code",
      "execution_count": 50,
      "id": "99d87210",
      "metadata": {
        "colab": {
          "base_uri": "https://localhost:8080/"
        },
        "hidden": true,
        "id": "99d87210",
        "outputId": "65b6c3c3-ecca-4226-cb9d-dff51fb92f62"
      },
      "outputs": [
        {
          "name": "stdout",
          "output_type": "stream",
          "text": [
            "[Query]\n",
            "바다 위에 떠다니는 배들이 많다\n",
            "\n",
            "[BM25 Retriever]\n",
            "[1] 내가 제일 좋아하는 과일들은 배, 사과, 키워, 수박 입니다.\n",
            "[2] 떠나는 저 배가 오늘 마지막 배인가요?\n",
            "============================================================\n",
            "[FAISS Retriever]\n",
            "[1] 난 오늘 많이 먹어서 배가 정말 부르다\n",
            "[2] 떠나는 저 배가 오늘 마지막 배인가요?\n",
            "============================================================\n",
            "[Ensemble Retriever]\n",
            "[1] 떠나는 저 배가 오늘 마지막 배인가요?\n",
            "[2] 난 오늘 많이 먹어서 배가 정말 부르다\n",
            "[3] 내가 제일 좋아하는 과일들은 배, 사과, 키워, 수박 입니다.\n"
          ]
        }
      ],
      "source": [
        "sample_query = \"바다 위에 떠다니는 배들이 많다\"\n",
        "print(f\"[Query]\\n{sample_query}\\n\")\n",
        "\n",
        "relevant_docs = bm25_retriever.get_relevant_documents(sample_query)\n",
        "print(\"[BM25 Retriever]\")\n",
        "pretty_print(relevant_docs)\n",
        "print(\"===\" * 20)\n",
        "relevant_docs = faiss_retriever.get_relevant_documents(sample_query)\n",
        "print(\"[FAISS Retriever]\")\n",
        "pretty_print(relevant_docs)\n",
        "print(\"===\" * 20)\n",
        "relevant_docs = ensemble_retriever.get_relevant_documents(sample_query)\n",
        "print(\"[Ensemble Retriever]\")\n",
        "pretty_print(relevant_docs)"
      ]
    },
    {
      "cell_type": "markdown",
      "id": "bc0d8714",
      "metadata": {
        "heading_collapsed": true,
        "id": "bc0d8714"
      },
      "source": [
        "## 6단계: 언어모델 생성(Create LLM)\n"
      ]
    },
    {
      "cell_type": "markdown",
      "id": "37f99381",
      "metadata": {
        "hidden": true,
        "id": "37f99381"
      },
      "source": [
        "OpenAI 모델 중 하나를 선택합니다.\n",
        "\n",
        "- `gpt-3.5-turbo` : OpenAI의 GPT-3.5-turbo 모델\n",
        "- `gpt-4-turbo-preview` : OpenAI의 GPT-4-turbo-preview 모델\n",
        "\n",
        "자세한 비용 체계는 [OpenAI API 모델 리스트 / 요금표](https://teddylee777.github.io/openai/openai-models/)에서 확인할 수 있습니다.\n"
      ]
    },
    {
      "cell_type": "code",
      "execution_count": 51,
      "id": "85dcaa69",
      "metadata": {
        "code_folding": [
          0
        ],
        "colab": {
          "base_uri": "https://localhost:8080/"
        },
        "hidden": true,
        "id": "85dcaa69",
        "outputId": "83998bde-f9ba-4ab2-ba00-2f10fe19fe6f"
      },
      "outputs": [
        {
          "name": "stdout",
          "output_type": "stream",
          "text": [
            "content='AI를 활용한 보안기술과 보안기술을 위한 AI는 둘 다 중요합니다. \\n\\nAI를 활용한 보안기술은 보안 전문가들이 AI 기술을 활용하여 보안 위협을 탐지하고 대응하는 데 도움을 줄 수 있습니다. AI는 대량의 데이터를 분석하고 패턴을 식별하는 데 탁월한 성능을 보이기 때문에 보안 시스템을 보다 효율적으로 운영할 수 있습니다.\\n\\n반대로, 보안기술을 위한 AI는 AI 기술을 개발하고 향상시키는 데 중요합니다. AI를 활용한 보안기술이 효과적으로 작동하기 위해서는 AI 기술 자체가 안전하고 신뢰할 수 있어야 합니다. 따라서 AI를 개발하고 운영하는 과정에서 보안 측면을 고려하는 것이 중요합니다.\\n\\n결국, 두 가지 모두가 상호 보완적이며 중요하다고 볼 수 있습니다. 보안을 강화하고 향상시키기 위해서는 AI를 활용한 보안기술과 보안기술을 위한 AI를 함께 고려해야 합니다.' response_metadata={'finish_reason': 'stop', 'logprobs': None}\n",
            "Tokens Used: 432\n",
            "\tPrompt Tokens: 46\n",
            "\tCompletion Tokens: 386\n",
            "Successful Requests: 1\n",
            "Total Cost (USD): $0.000841\n"
          ]
        }
      ],
      "source": [
        "# openai gpt3.5\n",
        "from langchain_openai import ChatOpenAI\n",
        "from langchain.callbacks import get_openai_callback\n",
        "\n",
        "model = ChatOpenAI(temperature=0, model=\"gpt-3.5-turbo\")\n",
        "\n",
        "with get_openai_callback() as cb:\n",
        "    result = model.invoke(\"AI를 활용한 보안기술과, 보안기술을 위한 AI중 어느것이 중요해?\")\n",
        "\n",
        "print(result)\n",
        "print(cb)"
      ]
    },
    {
      "cell_type": "code",
      "execution_count": 52,
      "id": "5dcc5b04",
      "metadata": {
        "code_folding": [
          0
        ],
        "colab": {
          "base_uri": "https://localhost:8080/"
        },
        "hidden": true,
        "id": "5dcc5b04",
        "outputId": "cb5a9872-5aa4-4921-8a1d-94311a9c382c"
      },
      "outputs": [
        {
          "name": "stdout",
          "output_type": "stream",
          "text": [
            "content='AI를 활용한 보안기술과 보안기술을 위한 AI 모두 중요합니다. 이 두 분야는 상호 보완적인 관계에 있으며, 각각의 중요성은 그 적용 분야와 목적에 따라 달라질 수 있습니다.\\n\\n1. **AI를 활용한 보안기술**: 이는 사이버 보안, 비디오 감시, 사기 탐지, 네트워크 보안 등 다양한 분야에서 활용됩니다. AI 기술을 통해 대규모 데이터를 실시간으로 분석하고, 비정상적인 행동이나 패턴을 식별하여 보안 위협을 사전에 감지하고 대응할 수 있습니다. 예를 들어, 머신러닝 알고리즘은 이메일에서 스팸이나 피싱 시도를 필터링하거나, 네트워크 트래픽을 분석하여 해킹 시도를 탐지하는 데 사용될 수 있습니다.\\n\\n2. **보안기술을 위한 AI**: 이는 AI 시스템 자체의 보안을 강화하는 데 중점을 둡니다. AI 시스템은 데이터 조작, 악의적인 입력, 모델 도용 등 다양한 보안 위협에 취약할 수 있습니다. 따라서, AI 모델의 보안을 강화하고, 데이터의 무결성을 보장하며, AI 시스템을 안전하게 유지하기 위한 기술이 필요합니다. 예를 들어, 적대적 공격에 대응하기 위해 AI 모델을 견고하게 만드는 기술이나, AI 시스템의 결정 과정을 투명하게 만들어 신뢰성을 높이는 기술 등이 있습니다.\\n\\n결론적으로, AI를 활용한 보안기술은 사이버 공간과 실제 세계에서의 보안 위협으로부터 우리를 보호하는 데 필수적입니다. 반면, 보안기술을 위한 AI는 AI 시스템 자체가 안전하고 신뢰할 수 있도록 보장하는 데 중요합니다. 이 두 분야는 서로 의존적이며, 보안의 전반적인 효과를 극대화하기 위해 함께 발전해 나가야 합니다.' response_metadata={'finish_reason': 'stop', 'logprobs': None}\n",
            "Tokens Used: 743\n",
            "\tPrompt Tokens: 46\n",
            "\tCompletion Tokens: 697\n",
            "Successful Requests: 1\n",
            "Total Cost (USD): $0.021369999999999997\n"
          ]
        }
      ],
      "source": [
        "# openai gpt4, 27배 비용\n",
        "from langchain_openai import ChatOpenAI\n",
        "from langchain.callbacks import get_openai_callback\n",
        "\n",
        "model = ChatOpenAI(temperature=0, model=\"gpt-4-turbo-preview\")\n",
        "\n",
        "with get_openai_callback() as cb:\n",
        "    result = model.invoke(\"AI를 활용한 보안기술과, 보안기술을 위한 AI중 어느것이 중요해?\")\n",
        "\n",
        "print(result)\n",
        "print(cb)"
      ]
    },
    {
      "cell_type": "markdown",
      "id": "0d74046f",
      "metadata": {
        "id": "0d74046f"
      },
      "source": [
        "## 7단계: RAG"
      ]
    },
    {
      "cell_type": "code",
      "execution_count": 53,
      "id": "f7dcdfe6",
      "metadata": {
        "code_folding": [
          0
        ],
        "id": "f7dcdfe6"
      },
      "outputs": [],
      "source": [
        "# RAG 전체 코드 2\n",
        "# import\n",
        "from langchain.document_loaders import PyPDFLoader\n",
        "from langchain.text_splitter import RecursiveCharacterTextSplitter\n",
        "from langchain.retrievers import BM25Retriever, EnsembleRetriever\n",
        "from langchain_community.vectorstores import FAISS\n",
        "from langchain_openai import OpenAIEmbeddings\n",
        "from langchain_openai import ChatOpenAI\n",
        "from langchain.chains import RetrievalQAWithSourcesChain\n",
        "from pprint import pprint"
      ]
    },
    {
      "cell_type": "code",
      "execution_count": 54,
      "id": "33f1fb17",
      "metadata": {
        "code_folding": [],
        "id": "33f1fb17"
      },
      "outputs": [],
      "source": [
        "##############################################################################\n",
        "## 1) 분석할 파일 로드\n",
        "# PDF 파일 로드. 파일의 경로 입력\n",
        "file_path_pdf = \"data/PDF_1_챗GPT 등 생성형 AI 활용 보안 가이드라인(2023.6).pdf\"\n",
        "loader = PyPDFLoader(file_path=file_path_pdf)\n",
        "\n",
        "# 문서 분할(Split Documents)\n",
        "text_splitter = RecursiveCharacterTextSplitter(chunk_size=1000, chunk_overlap=50)\n",
        "split_docs = loader.load_and_split(text_splitter=text_splitter)\n",
        "\n",
        "##############################################################################\n",
        "## 2) 파일 벡터DB 생성\n",
        "top_k = 2  # 유사도 높은 K 개의 문서를 검색합니다.\n",
        "\n",
        "# (Sparse) bm25 retriever 생성\n",
        "bm25_retriever = BM25Retriever.from_documents(split_docs)\n",
        "bm25_retriever.k = top_k\n",
        "\n",
        "# (Dense) FAISS retriever 생성\n",
        "faiss_vectorstore = FAISS.from_documents(split_docs, OpenAIEmbeddings())\n",
        "faiss_retriever = faiss_vectorstore.as_retriever(search_kwargs={\"k\": top_k})\n",
        "\n",
        "# ensemble retriever(Sparse + Dense)\n",
        "ensemble_retriever = EnsembleRetriever(\n",
        "    retrievers=[bm25_retriever, faiss_retriever], weights=[0.5, 0.5]\n",
        ")"
      ]
    },
    {
      "cell_type": "code",
      "execution_count": 55,
      "id": "1de59bfc",
      "metadata": {
        "code_folding": [
          0
        ],
        "id": "1de59bfc"
      },
      "outputs": [],
      "source": [
        "##############################################################################\n",
        "## 3) LLM 모델 생성\n",
        "llm_model = ChatOpenAI(model_name=\"gpt-3.5-turbo\", temperature=0)\n",
        "\n",
        "##############################################################################\n",
        "## 4) 프롬프트 생성\n",
        "from langchain.prompts.chat import (\n",
        "    ChatPromptTemplate,\n",
        "    SystemMessagePromptTemplate,\n",
        "    HumanMessagePromptTemplate,\n",
        ")\n",
        "\n",
        "# system_template=\"\"\"Use the following pieces of context to answer the users question shortly.\n",
        "# Given the following summaries of a long document and a question, create a final answer with references (\"SOURCES\"), use \"SOURCES\" in capital letters regardless of the number of sources.\n",
        "# If you don't know the answer, just say that \"I don't know\", don't try to make up an answer.\n",
        "# ----------------\n",
        "# {summaries}\n",
        "\n",
        "# You MUST answer in Korean and in Markdown format. Three bullet point.\"\"\"\n",
        "\n",
        "\n",
        "system_template=\"\"\"\n",
        "주어진 문서들을 기반으로 question에 대해 답변해줘.\n",
        "모르면 꼭 \"I don't know\" 라고 답변해.\n",
        "----------------\n",
        "{summaries}\n",
        "\n",
        "한국말로 답변해.\n",
        "4줄로 요약해서 bullet point로 정리해서 답변해.\n",
        "\"\"\"\n",
        "\n",
        "# system_template=\"\"\"\n",
        "# 주어진 문서들을 기반으로 question에 대해 답변해줘.\n",
        "# 모르면 꼭 \"I don't know\" 라고 답변해.\n",
        "# ----------------\n",
        "# {summaries}\n",
        "\n",
        "# 한국말로 답변해.\n",
        "# 중학생에게 설명해주듯이 친절하고 차분하며 자세히 알려줘\n",
        "# \"\"\"\n",
        "\n",
        "messages = [\n",
        "    SystemMessagePromptTemplate.from_template(system_template),\n",
        "    HumanMessagePromptTemplate.from_template(\"{question}\")\n",
        "]\n",
        "\n",
        "prompt = ChatPromptTemplate.from_messages(messages)\n",
        "\n",
        "##############################################################################\n",
        "## 5) RAG 모델 생성\n",
        "RAG_chain = RetrievalQAWithSourcesChain.from_chain_type(\n",
        "    llm=llm_model,\n",
        "    chain_type=\"stuff\",\n",
        "    retriever = ensemble_retriever,\n",
        "    return_source_documents=True,\n",
        "    chain_type_kwargs={\"prompt\": prompt}\n",
        ")"
      ]
    },
    {
      "cell_type": "code",
      "execution_count": 56,
      "id": "ef77b919",
      "metadata": {
        "code_folding": [
          0
        ],
        "colab": {
          "base_uri": "https://localhost:8080/"
        },
        "id": "ef77b919",
        "outputId": "0ddadfef-d3f9-4141-d9bd-4eb57b03f519",
        "scrolled": true
      },
      "outputs": [
        {
          "name": "stdout",
          "output_type": "stream",
          "text": [
            "## question ##\n",
            "생성형AI의 보안대책에 대해 알려줘\n",
            "\n",
            "## answer ##\n",
            "- 사회적 혼란 조장 및 고위험 의사 결정 방지\n",
            "- 잘못된 의사 결정 유도 방지\n",
            "- 인공지능 생성 콘텐츠 위험 인지 강화\n",
            "- AI 모델 테스트 및 시스템 통합 전략 수립 필요\n",
            "\n",
            "## source ##\n",
            "################################################################################\n",
            "파일 : data/PDF_1_챗GPT 등 생성형 AI 활용 보안 가이드라인(2023.6).pdf\n",
            "페이지 : 5\n",
            "내용 : 4. 생성형 인공지능 기반 정보화사업 구축 방안 및 보안 대책 \t  39 4.1. 개요 \t  39 4.2. 구축 유형에 따른 생성형 AI 기술 도입시 고려사항 \t  40 4.3. \n",
            "################################################################################\n",
            "파일 : data/PDF_1_챗GPT 등 생성형 AI 활용 보안 가이드라인(2023.6).pdf\n",
            "페이지 : 17\n",
            "내용 : 1 2챗GPT 등 생성형 AI 활용 보안 가이드라인 •대표 보안 위협 1) 사회적 혼란 조장  AI 모델의 악용 혹은 환각 현상 등에 따라 잘못된 결과물은 사회적 혼란을 조장하거나\n",
            "################################################################################\n",
            "파일 : data/PDF_1_챗GPT 등 생성형 AI 활용 보안 가이드라인(2023.6).pdf\n",
            "페이지 : 43\n",
            "내용 : 3 8챗GPT 등 생성형 AI 활용 보안 가이드라인 인공지능 생성 콘텐츠  위험 인지 »사실 여부 확인 및 객관적 분석을 통한 비판적 콘텐츠 수용  » 감정적 자극 유도 및 소셜 \n",
            "################################################################################\n",
            "파일 : data/PDF_1_챗GPT 등 생성형 AI 활용 보안 가이드라인(2023.6).pdf\n",
            "페이지 : 51\n",
            "내용 : 4 6챗GPT 등 생성형 AI 활용 보안 가이드라인 [테스트 전략]  -  AI 모델 도입 전에는 반드시 해당 모델 결과에 대한 정확성, 적절성 등에 관한 테스트  거쳐야 한다. \n"
          ]
        }
      ],
      "source": [
        "# test 1)\n",
        "question = \"생성형AI의 보안대책에 대해 알려줘\"\n",
        "answer = RAG_chain.invoke(question)\n",
        "\n",
        "print(f\"## question ##\\n{answer['question'].strip()}\\n\")\n",
        "print(f\"## answer ##\\n{answer['answer'].strip()}\\n\")\n",
        "print(f\"## source ##\")\n",
        "for doc in answer['source_documents']:\n",
        "    print('#'*80)\n",
        "    print('파일 : ' + doc.metadata['source'])\n",
        "    print('페이지 : ' + str(doc.metadata['page']))\n",
        "    print('내용 : ' + doc.page_content[0:100].replace('\\n', ' '))"
      ]
    },
    {
      "cell_type": "code",
      "execution_count": 57,
      "id": "21a39f40",
      "metadata": {
        "code_folding": [
          0
        ],
        "colab": {
          "base_uri": "https://localhost:8080/"
        },
        "id": "21a39f40",
        "outputId": "ad686547-88df-4a26-f6c3-eb84a218d97f"
      },
      "outputs": [
        {
          "name": "stdout",
          "output_type": "stream",
          "text": [
            "## question ##\n",
            "생성형AI의 종류에 대해 알려줘\n",
            "\n",
            "## answer ##\n",
            "- 생성형 인공지능 기술은 대량의 데이터를 학습하여 새로운 데이터를 생성하는 기술이다.\n",
            "- 대규모 언어모델은 수백억 개 이상의 파라미터를 포함하며, 언어 패턴과 의미를 학습하여 다양한 추론 작업에 우수한 성능을 보유한다.\n",
            "- 주요 생성형 대규모 언어모델로는 GPT-3, GShard, LaMDA, OPT 등이 있다.\n",
            "- 대부분의 대규모 언어모델은 API 등을 통해 제한적으로만 접근 가능하다.\n",
            "\n",
            "## source ##\n",
            "################################################################################\n",
            "파일 : data/PDF_1_챗GPT 등 생성형 AI 활용 보안 가이드라인(2023.6).pdf\n",
            "페이지 : 5\n",
            "내용 : 4. 생성형 인공지능 기반 정보화사업 구축 방안 및 보안 대책 \t  39 4.1. 개요 \t  39 4.2. 구축 유형에 따른 생성형 AI 기술 도입시 고려사항 \t  40 4.3. \n",
            "################################################################################\n",
            "파일 : data/PDF_1_챗GPT 등 생성형 AI 활용 보안 가이드라인(2023.6).pdf\n",
            "페이지 : 17\n",
            "내용 : 1 2챗GPT 등 생성형 AI 활용 보안 가이드라인 •대표 보안 위협 1) 사회적 혼란 조장  AI 모델의 악용 혹은 환각 현상 등에 따라 잘못된 결과물은 사회적 혼란을 조장하거나\n",
            "################################################################################\n",
            "파일 : data/PDF_1_챗GPT 등 생성형 AI 활용 보안 가이드라인(2023.6).pdf\n",
            "페이지 : 51\n",
            "내용 : 4 6챗GPT 등 생성형 AI 활용 보안 가이드라인 [테스트 전략]  -  AI 모델 도입 전에는 반드시 해당 모델 결과에 대한 정확성, 적절성 등에 관한 테스트  거쳐야 한다. \n",
            "################################################################################\n",
            "파일 : data/PDF_1_챗GPT 등 생성형 AI 활용 보안 가이드라인(2023.6).pdf\n",
            "페이지 : 6\n",
            "내용 : 1챗GPT 등 생성형 AI 활용 보안 가이드라인1. 개요 1.1. 생성형 인공지능 기술 소개 •생성형 인공지능 기술이란 인공지능 기술의 한 종류로서 이미지, 비디오, 오디오, 텍스\n"
          ]
        }
      ],
      "source": [
        "# test 2)\n",
        "question = \"생성형AI의 종류에 대해 알려줘\"\n",
        "answer = RAG_chain.invoke(question)\n",
        "\n",
        "print(f\"## question ##\\n{answer['question'].strip()}\\n\")\n",
        "print(f\"## answer ##\\n{answer['answer'].strip()}\\n\")\n",
        "print(f\"## source ##\")\n",
        "for doc in answer['source_documents']:\n",
        "    print('#'*80)\n",
        "    print('파일 : ' + doc.metadata['source'])\n",
        "    print('페이지 : ' + str(doc.metadata['page']))\n",
        "    print('내용 : ' + doc.page_content[0:100].replace('\\n', ' '))"
      ]
    },
    {
      "cell_type": "code",
      "execution_count": 58,
      "id": "d2eb8bc8",
      "metadata": {
        "code_folding": [
          0
        ],
        "colab": {
          "base_uri": "https://localhost:8080/"
        },
        "id": "d2eb8bc8",
        "outputId": "301d257a-b3ec-4d1e-d73d-c4345c816158"
      },
      "outputs": [
        {
          "name": "stdout",
          "output_type": "stream",
          "text": [
            "## question ##\n",
            "업무 효율성을 위해 생성형AI에 회사 보안정보를 입력해도 되?\n",
            "\n",
            "## answer ##\n",
            "아니요, 회사의 보안 정보는 AI 모델에 입력하면 안 됩니다. 보안 책임자는 기밀 정보를 입력하지 말라고 권고하며, 개인 및 민감 정보가 노출될 위험이 있습니다.\n",
            "\n",
            "- AI 모델에 회사의 기밀 정보를 입력하지 말 것\n",
            "- 개인정보 및 민감 정보는 AI 모델에 입력하지 않도록 주의\n",
            "- 데이터베이스 해킹 및 회원 추론 공격에 대비하여 보안을 강화\n",
            "- 대화 기록 유출로 인한 개인 정보 노출을 방지하기 위한 조치 필요\n",
            "\n",
            "## source ##\n",
            "################################################################################\n",
            "파일 : data/PDF_1_챗GPT 등 생성형 AI 활용 보안 가이드라인(2023.6).pdf\n",
            "페이지 : 23\n",
            "내용 : 1 8챗GPT 등 생성형 AI 활용 보안 가이드라인 사용자는 AI 모델을 사용할 때 기관의 기밀 정보를 입력하지 않아야 하며, 기관 정보   보안 책임자는 이러한 정보 유출 방지를\n",
            "################################################################################\n",
            "파일 : data/PDF_1_챗GPT 등 생성형 AI 활용 보안 가이드라인(2023.6).pdf\n",
            "페이지 : 14\n",
            "내용 : 9챗GPT 등 생성형 AI 활용 보안 가이드라인- 그러나 이후 4월 28일, OpenAI 가 DPA의 요구사항을 이행함에 따라 이탈리아 정부는  챗GPT의 접속 차단을 해제하였다.\n",
            "################################################################################\n",
            "파일 : data/PDF_1_챗GPT 등 생성형 AI 활용 보안 가이드라인(2023.6).pdf\n",
            "페이지 : 30\n",
            "내용 : 2 5챗GPT 등 생성형 AI 활용 보안 가이드라인3. 안전한 생성형 인공지능 기술 사용 가이드라인 3.1. 개요 •본 장에서는 챗 GPT와 같은 대규모 언어모델 등 생성형 AI \n",
            "################################################################################\n",
            "파일 : data/PDF_1_챗GPT 등 생성형 AI 활용 보안 가이드라인(2023.6).pdf\n",
            "페이지 : 35\n",
            "내용 : 3 0챗GPT 등 생성형 AI 활용 보안 가이드라인 •개인정보 및 각급기관 내 민감 정보 처리    서비스와 대화 시 개인정보 및 소속기관 내 민감 정보는 어떻게 처리해야 하는가?\n"
          ]
        }
      ],
      "source": [
        "# test 3)\n",
        "question = \"업무 효율성을 위해 생성형AI에 회사 보안정보를 입력해도 되?\"\n",
        "answer = RAG_chain.invoke(question)\n",
        "\n",
        "print(f\"## question ##\\n{answer['question'].strip()}\\n\")\n",
        "print(f\"## answer ##\\n{answer['answer'].strip()}\\n\")\n",
        "print(f\"## source ##\")\n",
        "for doc in answer['source_documents']:\n",
        "    print('#'*80)\n",
        "    print('파일 : ' + doc.metadata['source'])\n",
        "    print('페이지 : ' + str(doc.metadata['page']))\n",
        "    print('내용 : ' + doc.page_content[0:100].replace('\\n', ' '))"
      ]
    },
    {
      "cell_type": "markdown",
      "id": "6a689e47",
      "metadata": {
        "id": "6a689e47"
      },
      "source": [
        "## 8단계: Gradio UI 만들기"
      ]
    },
    {
      "cell_type": "code",
      "execution_count": 59,
      "id": "53b0e7e2",
      "metadata": {
        "code_folding": [
          0,
          24,
          41
        ],
        "colab": {
          "base_uri": "https://localhost:8080/"
        },
        "id": "53b0e7e2",
        "outputId": "675a98f9-f5ce-4b8e-ff02-1bdb0dcb8139"
      },
      "outputs": [
        {
          "name": "stdout",
          "output_type": "stream",
          "text": [
            "API KEY: sk-xwLy4kTzJD6qxl8jqJ...\n"
          ]
        }
      ],
      "source": [
        "# functions\n",
        "# RAG 전체 코드 2\n",
        "# import\n",
        "from langchain.document_loaders import PyPDFLoader\n",
        "from langchain.text_splitter import RecursiveCharacterTextSplitter\n",
        "from langchain.retrievers import BM25Retriever, EnsembleRetriever\n",
        "from langchain_community.vectorstores import FAISS\n",
        "from langchain_openai import OpenAIEmbeddings\n",
        "from langchain_openai import ChatOpenAI\n",
        "from langchain.chains import RetrievalQAWithSourcesChain\n",
        "from pprint import pprint\n",
        "import gradio as gr\n",
        "\n",
        "# API 키를 환경변수로 관리하기 위한 설정 파일\n",
        "from dotenv import load_dotenv\n",
        "import os\n",
        "\n",
        "# API 키 정보 로드\n",
        "load_dotenv()\n",
        "# os.environ['OPENAI_API_KEY'] = 'sk- xwLy4kTzJD6qxl8jqJt7T3BlbkFJOJsz3o96g86wElid0CBe'\n",
        "api_key = os.environ.get(\"OPENAI_API_KEY\")\n",
        "print('API KEY: %s...'%api_key[:-30])\n",
        "\n",
        "\n",
        "def respond(message, chat_history):  # 채팅봇의 응답을 처리하는 함수를 정의합니다.\n",
        "\n",
        "    result = RAG_chain.invoke(message)\n",
        "\n",
        "    bot_message = result['answer']\n",
        "\n",
        "    tmp_string = '\\n' + '#'*70 + '\\n' + '[source]' + '\\n'\n",
        "    bot_message += tmp_string\n",
        "\n",
        "    for i, doc in enumerate(result['source_documents']):\n",
        "        bot_message += '[' + str(i+1) + '] ' + doc.metadata['source'] + '(' + str(doc.metadata['page']) + ') \\n'\n",
        "\n",
        "    chat_history.append((message, bot_message))  # 채팅 기록에 사용자의 메시지와 봇의 응답을 추가합니다.\n",
        "\n",
        "    return \"\", chat_history  # 수정된 채팅 기록을 반환합니다.\n",
        "\n",
        "\n",
        "def change_RAG_setting(file_path_pdf, embedding_model, LLM_model, instruction):\n",
        "    print('버튼 실행')\n",
        "    # 1) file\n",
        "    loader = PyPDFLoader(file_path=file_path_pdf)\n",
        "    text_splitter = RecursiveCharacterTextSplitter(chunk_size=1000, chunk_overlap=50)\n",
        "    split_docs = loader.load_and_split(text_splitter=text_splitter)\n",
        "\n",
        "#     print(split_docs)\n",
        "\n",
        "\n",
        "\n",
        "    ##############################################################################\n",
        "    ## 2) 파일 벡터DB 생성\n",
        "    top_k = 2  # 유사도 높은 K 개의 문서를 검색합니다.\n",
        "\n",
        "    # (Sparse) bm25 retriever 생성\n",
        "    bm25_retriever = BM25Retriever.from_documents(split_docs)\n",
        "    bm25_retriever.k = top_k\n",
        "\n",
        "    # 2) embedding_model\n",
        "    if embedding_model.startswith(\"[무료]\"):\n",
        "        embedding_model = embedding_model.replace(\"[무료]\", \"\", 1)\n",
        "        faiss_vectorstore = FAISS.from_documents(documents=split_docs,\n",
        "                                           embedding=HuggingFaceBgeEmbeddings(\n",
        "                                               model_name = embedding_model, #\"BAAI/bge-small-en\",  # \"BAAI/bge-large-en\"\n",
        "                                               model_kwargs = {'device': 'cpu'},\n",
        "                                               encode_kwargs = {'normalize_embeddings': True}))\n",
        "    else:\n",
        "        # embedder_model = \"text-embedding-3-small\"\n",
        "        # embedder_model = \"text-embedding-3-large\"\n",
        "        # embedder_model = \"text-embedding-ada-002\"\n",
        "        embedding_model = embedding_model.replace(\"[유료]OpenAIEmbeddings_\", \"\", 1)\n",
        "        faiss_vectorstore = FAISS.from_documents(documents=split_docs,\n",
        "                                           embedding=OpenAIEmbeddings(model=embedding_model))\n",
        "\n",
        "    faiss_retriever = faiss_vectorstore.as_retriever(search_kwargs={\"k\": top_k})\n",
        "\n",
        "    # ensemble retriever(Sparse + Dense)\n",
        "    ensemble_retriever = EnsembleRetriever(\n",
        "        retrievers=[bm25_retriever, faiss_retriever], weights=[0.5, 0.5]\n",
        "    )\n",
        "    print(ensemble_retriever)\n",
        "\n",
        "    ##############################################################################\n",
        "    ## 3) LLM 모델 생성\n",
        "    llm_model = ChatOpenAI(model_name=LLM_model, temperature=0)\n",
        "\n",
        "\n",
        "    ##############################################################################\n",
        "    ## 4) 프롬프트 생성\n",
        "    messages = [\n",
        "        SystemMessagePromptTemplate.from_template(instruction),\n",
        "        HumanMessagePromptTemplate.from_template(\"{question}\")\n",
        "    ]\n",
        "\n",
        "    prompt = ChatPromptTemplate.from_messages(messages)\n",
        "\n",
        "    ##############################################################################\n",
        "    ## 5) RAG 모델 생성\n",
        "    global RAG_chain\n",
        "\n",
        "    RAG_chain = RetrievalQAWithSourcesChain.from_chain_type(\n",
        "        llm=llm_model,\n",
        "        chain_type=\"stuff\",\n",
        "        retriever = ensemble_retriever,\n",
        "        return_source_documents=True,\n",
        "        chain_type_kwargs={\"prompt\": prompt}\n",
        "    )\n",
        "\n",
        "    print('### 준비 완료!! ###')\n",
        "    return\n",
        "\n",
        "\n",
        "\n",
        "system_template=\"\"\"\n",
        "주어진 문서들을 기반으로 question에 대해 답변해줘.\n",
        "모르면 꼭 \"I don't know\" 라고 답변해.\n",
        "----------------\n",
        "{summaries}\n",
        "\n",
        "한국말로 답변해.\n",
        "4줄로 요약해서 bullet point로 정리해서 답변해.\n",
        "\"\"\""
      ]
    },
    {
      "cell_type": "code",
      "execution_count": null,
      "id": "173431ab",
      "metadata": {
        "code_folding": [
          0,
          17
        ],
        "colab": {
          "base_uri": "https://localhost:8080/",
          "height": 706
        },
        "id": "173431ab",
        "outputId": "ebcc08fa-4151-446f-bf23-6996463eade2",
        "scrolled": true
      },
      "outputs": [
        {
          "name": "stderr",
          "output_type": "stream",
          "text": [
            "/usr/local/lib/python3.10/dist-packages/gradio/layouts/column.py:53: UserWarning: 'scale' value should be an integer. Using 0.5 will cause issues.\n",
            "  warnings.warn(\n"
          ]
        },
        {
          "name": "stdout",
          "output_type": "stream",
          "text": [
            "Colab notebook detected. This cell will run indefinitely so that you can see errors and logs. To turn off, set debug=False in launch().\n",
            "Running on public URL: https://83745f8e6aec98e0c6.gradio.live\n",
            "\n",
            "This share link expires in 72 hours. For free permanent hosting and GPU upgrades, run `gradio deploy` from Terminal to deploy to Spaces (https://huggingface.co/spaces)\n"
          ]
        },
        {
          "data": {
            "text/html": [
              "<div><iframe src=\"https://83745f8e6aec98e0c6.gradio.live\" width=\"100%\" height=\"500\" allow=\"autoplay; camera; microphone; clipboard-read; clipboard-write;\" frameborder=\"0\" allowfullscreen></iframe></div>"
            ],
            "text/plain": [
              "<IPython.core.display.HTML object>"
            ]
          },
          "metadata": {},
          "output_type": "display_data"
        },
        {
          "name": "stdout",
          "output_type": "stream",
          "text": [
            "버튼 실행\n",
            "retrievers=[BM25Retriever(vectorizer=<rank_bm25.BM25Okapi object at 0x7a053c695660>, k=2), VectorStoreRetriever(tags=['FAISS', 'OpenAIEmbeddings'], vectorstore=<langchain_community.vectorstores.faiss.FAISS object at 0x7a053cbf4640>, search_kwargs={'k': 2})] weights=[0.5, 0.5]\n",
            "### 준비 완료!! ###\n"
          ]
        }
      ],
      "source": [
        "# ui\n",
        "from langchain_community.embeddings import HuggingFaceBgeEmbeddings\n",
        "from langchain.prompts.chat import (\n",
        "    ChatPromptTemplate,\n",
        "    SystemMessagePromptTemplate,\n",
        "    HumanMessagePromptTemplate,\n",
        ")\n",
        "\n",
        "global RAG_chain\n",
        "\n",
        "with gr.Blocks(\n",
        "        gr.themes.Soft(primary_hue=gr.themes.colors.slate,\n",
        "                       secondary_hue=gr.themes.colors.purple)\n",
        ") as demo:  # gr.Blocks()를 사용하여 인터페이스를 생성합니다.\n",
        "    gr.Markdown('''# Langchain을 이용한 RAG 이론 및 실전구축 실습 \\n\n",
        "\n",
        "                ''')\n",
        "    with gr.Row():\n",
        "        with gr.Column(scale=0.5, variant='panel'):\n",
        "            gr.Markdown(\"## 1) Upload Document & Select the Embedding Model\")\n",
        "\n",
        "            # 파일 업로드\n",
        "            file_path_pdf = gr.File(type=\"filepath\")\n",
        "\n",
        "            with gr.Row(equal_height=True):\n",
        "                # LLM 모델 선택\n",
        "                with gr.Column(scale=0.5, variant='panel'):\n",
        "                    LLM_model = gr.Dropdown(choices=[\n",
        "                        \"gpt-3.5-turbo\",\n",
        "                        \"gpt-4-turbo-preview\",\n",
        "                    ],\n",
        "                                            value=\"gpt-3.5-turbo\",\n",
        "                                            label=\"2) Select the LLM model\",\n",
        "                                            interactive=True)\n",
        "\n",
        "                # 임베딩 모델 선택\n",
        "                with gr.Column(scale=0.5, variant='panel'):\n",
        "                    embedding_model = gr.Dropdown(\n",
        "                        choices=[\n",
        "                            \"[유료]OpenAIEmbeddings_text-embedding-ada-002\",\n",
        "                            \"[유료]OpenAIEmbeddings_text-embedding-3-small\",\n",
        "                            \"[유료]OpenAIEmbeddings_text-embedding-3-large\",\n",
        "                            \"[무료]BAAI/bge-small-en\",\n",
        "                            \"[무료]BAAI/bge-large-en\",\n",
        "                        ],\n",
        "                        value=\"[유료]OpenAIEmbeddings_text-embedding-ada-002\",\n",
        "                        label=\"3) Select the embedding model\",\n",
        "                        interactive=True)\n",
        "\n",
        "        with gr.Column(scale=0.5, variant='panel'):\n",
        "            gr.Markdown(\"## 4) Setting Prompt\")\n",
        "            # 시스템 프롬프트\n",
        "            instruction = gr.Textbox(label=\"System instruction\",\n",
        "                                     lines=3,\n",
        "                                     value=system_template,\n",
        "                                    interactive=True)\n",
        "\n",
        "    # 준비\n",
        "    start_btn = gr.Button('Prepare RAG (10초 대기)',\n",
        "                          variant='primary',\n",
        "                          scale=1)\n",
        "\n",
        "    start_btn.click(change_RAG_setting,\n",
        "                    inputs=[file_path_pdf, embedding_model, LLM_model, instruction])\n",
        "\n",
        "    chatbot = gr.Chatbot(label=\"채팅창\")  # '채팅창'이라는 레이블을 가진 채팅봇 컴포넌트를 생성합니다.\n",
        "    msg = gr.Textbox(\n",
        "        label=\"입력\",\n",
        "        value='생성형AI의 보안대책에 대해 알려줘')  # '입력'이라는 레이블을 가진 텍스트박스를 생성합니다.\n",
        "    clear = gr.Button(\"초기화\")  # '초기화'라는 레이블을 가진 버튼을 생성합니다.\n",
        "\n",
        "    msg.submit(respond, [msg, chatbot],\n",
        "               [msg, chatbot])  # 텍스트박스에 메시지를 입력하고 제출하면 respond 함수가 호출되도록 합니다.\n",
        "    clear.click(lambda: None, None, chatbot,\n",
        "                queue=False)  # '초기화' 버튼을 클릭하면 채팅 기록을 초기화합니다.\n",
        "\n",
        "demo.launch(\n",
        "    debug=True,\n",
        "    share=True\n",
        ")  # 인터페이스를 실행합니다. 실행하면 사용자는 '입력' 텍스트박스에 메시지를 작성하고 제출할 수 있으며, '초기화' 버튼을 통해 채팅 기록을 초기화 할 수 있습니다."
      ]
    },
    {
      "cell_type": "markdown",
      "id": "8f376576",
      "metadata": {
        "id": "8f376576"
      },
      "source": [
        "## Finish"
      ]
    },
    {
      "cell_type": "code",
      "execution_count": null,
      "id": "1de6e936",
      "metadata": {
        "id": "1de6e936"
      },
      "outputs": [],
      "source": []
    },
    {
      "cell_type": "code",
      "execution_count": null,
      "id": "7a4cfc44",
      "metadata": {
        "id": "7a4cfc44"
      },
      "outputs": [],
      "source": []
    },
    {
      "cell_type": "code",
      "execution_count": null,
      "id": "46fccfac",
      "metadata": {
        "id": "46fccfac"
      },
      "outputs": [],
      "source": []
    }
  ],
  "metadata": {
    "accelerator": "GPU",
    "colab": {
      "collapsed_sections": [
        "c5bdc5e9",
        "31b686d9",
        "f43be1cf",
        "6e86de2e",
        "a45216d9",
        "4866c8ea",
        "1fe4f1b8",
        "62dc11cb",
        "1e49d975",
        "f04f3467",
        "9affbaf8",
        "241cf6e8",
        "cd42083c",
        "c8150225",
        "90798e85",
        "e9a96b86",
        "c8185cf7",
        "bc0d8714",
        "0d74046f",
        "6a689e47"
      ],
      "gpuType": "V100",
      "provenance": []
    },
    "kernelspec": {
      "display_name": "venv",
      "language": "python",
      "name": "venv"
    },
    "language_info": {
      "codemirror_mode": {
        "name": "ipython",
        "version": 3
      },
      "file_extension": ".py",
      "mimetype": "text/x-python",
      "name": "python",
      "nbconvert_exporter": "python",
      "pygments_lexer": "ipython3",
      "version": "3.11.7"
    },
    "varInspector": {
      "cols": {
        "lenName": 16,
        "lenType": 16,
        "lenVar": 40
      },
      "kernels_config": {
        "python": {
          "delete_cmd_postfix": "",
          "delete_cmd_prefix": "del ",
          "library": "var_list.py",
          "varRefreshCmd": "print(var_dic_list())"
        },
        "r": {
          "delete_cmd_postfix": ") ",
          "delete_cmd_prefix": "rm(",
          "library": "var_list.r",
          "varRefreshCmd": "cat(var_dic_list()) "
        }
      },
      "types_to_exclude": [
        "module",
        "function",
        "builtin_function_or_method",
        "instance",
        "_Feature"
      ],
      "window_display": false
    },
    "widgets": {
      "application/vnd.jupyter.widget-state+json": {
        "03bf182549b04b88adc4592c3bfaddd8": {
          "model_module": "@jupyter-widgets/base",
          "model_module_version": "1.2.0",
          "model_name": "LayoutModel",
          "state": {
            "_model_module": "@jupyter-widgets/base",
            "_model_module_version": "1.2.0",
            "_model_name": "LayoutModel",
            "_view_count": null,
            "_view_module": "@jupyter-widgets/base",
            "_view_module_version": "1.2.0",
            "_view_name": "LayoutView",
            "align_content": null,
            "align_items": null,
            "align_self": null,
            "border": null,
            "bottom": null,
            "display": null,
            "flex": null,
            "flex_flow": null,
            "grid_area": null,
            "grid_auto_columns": null,
            "grid_auto_flow": null,
            "grid_auto_rows": null,
            "grid_column": null,
            "grid_gap": null,
            "grid_row": null,
            "grid_template_areas": null,
            "grid_template_columns": null,
            "grid_template_rows": null,
            "height": null,
            "justify_content": null,
            "justify_items": null,
            "left": null,
            "margin": null,
            "max_height": null,
            "max_width": null,
            "min_height": null,
            "min_width": null,
            "object_fit": null,
            "object_position": null,
            "order": null,
            "overflow": null,
            "overflow_x": null,
            "overflow_y": null,
            "padding": null,
            "right": null,
            "top": null,
            "visibility": null,
            "width": null
          }
        },
        "055565d8c00549cd9b25a7e5196ecf9d": {
          "model_module": "@jupyter-widgets/controls",
          "model_module_version": "1.5.0",
          "model_name": "HTMLModel",
          "state": {
            "_dom_classes": [],
            "_model_module": "@jupyter-widgets/controls",
            "_model_module_version": "1.5.0",
            "_model_name": "HTMLModel",
            "_view_count": null,
            "_view_module": "@jupyter-widgets/controls",
            "_view_module_version": "1.5.0",
            "_view_name": "HTMLView",
            "description": "",
            "description_tooltip": null,
            "layout": "IPY_MODEL_4aa64799c43b490b94b0759a5a715fd7",
            "placeholder": "​",
            "style": "IPY_MODEL_f0a145d6a37e408c9c704a5eff54eaf8",
            "value": "tokenizer_config.json: 100%"
          }
        },
        "075db42cbe394f4a9e434935a7709f76": {
          "model_module": "@jupyter-widgets/controls",
          "model_module_version": "1.5.0",
          "model_name": "DescriptionStyleModel",
          "state": {
            "_model_module": "@jupyter-widgets/controls",
            "_model_module_version": "1.5.0",
            "_model_name": "DescriptionStyleModel",
            "_view_count": null,
            "_view_module": "@jupyter-widgets/base",
            "_view_module_version": "1.2.0",
            "_view_name": "StyleView",
            "description_width": ""
          }
        },
        "07f58eb7374f4c159b86174e2f9c1484": {
          "model_module": "@jupyter-widgets/base",
          "model_module_version": "1.2.0",
          "model_name": "LayoutModel",
          "state": {
            "_model_module": "@jupyter-widgets/base",
            "_model_module_version": "1.2.0",
            "_model_name": "LayoutModel",
            "_view_count": null,
            "_view_module": "@jupyter-widgets/base",
            "_view_module_version": "1.2.0",
            "_view_name": "LayoutView",
            "align_content": null,
            "align_items": null,
            "align_self": null,
            "border": null,
            "bottom": null,
            "display": null,
            "flex": null,
            "flex_flow": null,
            "grid_area": null,
            "grid_auto_columns": null,
            "grid_auto_flow": null,
            "grid_auto_rows": null,
            "grid_column": null,
            "grid_gap": null,
            "grid_row": null,
            "grid_template_areas": null,
            "grid_template_columns": null,
            "grid_template_rows": null,
            "height": null,
            "justify_content": null,
            "justify_items": null,
            "left": null,
            "margin": null,
            "max_height": null,
            "max_width": null,
            "min_height": null,
            "min_width": null,
            "object_fit": null,
            "object_position": null,
            "order": null,
            "overflow": null,
            "overflow_x": null,
            "overflow_y": null,
            "padding": null,
            "right": null,
            "top": null,
            "visibility": null,
            "width": null
          }
        },
        "087cd01a956d49ae95ca0520adcc2244": {
          "model_module": "@jupyter-widgets/controls",
          "model_module_version": "1.5.0",
          "model_name": "HTMLModel",
          "state": {
            "_dom_classes": [],
            "_model_module": "@jupyter-widgets/controls",
            "_model_module_version": "1.5.0",
            "_model_name": "HTMLModel",
            "_view_count": null,
            "_view_module": "@jupyter-widgets/controls",
            "_view_module_version": "1.5.0",
            "_view_name": "HTMLView",
            "description": "",
            "description_tooltip": null,
            "layout": "IPY_MODEL_91dbe323c9854ce5aa32fc51c89854c2",
            "placeholder": "​",
            "style": "IPY_MODEL_cc645dda687b43f79ebd46ceb13c8b11",
            "value": " 349/349 [00:00&lt;00:00, 19.3kB/s]"
          }
        },
        "0b0d8b3b1fa94c5cb55c22e4921562f3": {
          "model_module": "@jupyter-widgets/base",
          "model_module_version": "1.2.0",
          "model_name": "LayoutModel",
          "state": {
            "_model_module": "@jupyter-widgets/base",
            "_model_module_version": "1.2.0",
            "_model_name": "LayoutModel",
            "_view_count": null,
            "_view_module": "@jupyter-widgets/base",
            "_view_module_version": "1.2.0",
            "_view_name": "LayoutView",
            "align_content": null,
            "align_items": null,
            "align_self": null,
            "border": null,
            "bottom": null,
            "display": null,
            "flex": null,
            "flex_flow": null,
            "grid_area": null,
            "grid_auto_columns": null,
            "grid_auto_flow": null,
            "grid_auto_rows": null,
            "grid_column": null,
            "grid_gap": null,
            "grid_row": null,
            "grid_template_areas": null,
            "grid_template_columns": null,
            "grid_template_rows": null,
            "height": null,
            "justify_content": null,
            "justify_items": null,
            "left": null,
            "margin": null,
            "max_height": null,
            "max_width": null,
            "min_height": null,
            "min_width": null,
            "object_fit": null,
            "object_position": null,
            "order": null,
            "overflow": null,
            "overflow_x": null,
            "overflow_y": null,
            "padding": null,
            "right": null,
            "top": null,
            "visibility": null,
            "width": null
          }
        },
        "0bc8dc66b0504c3b9c5cb33a56225545": {
          "model_module": "@jupyter-widgets/base",
          "model_module_version": "1.2.0",
          "model_name": "LayoutModel",
          "state": {
            "_model_module": "@jupyter-widgets/base",
            "_model_module_version": "1.2.0",
            "_model_name": "LayoutModel",
            "_view_count": null,
            "_view_module": "@jupyter-widgets/base",
            "_view_module_version": "1.2.0",
            "_view_name": "LayoutView",
            "align_content": null,
            "align_items": null,
            "align_self": null,
            "border": null,
            "bottom": null,
            "display": null,
            "flex": null,
            "flex_flow": null,
            "grid_area": null,
            "grid_auto_columns": null,
            "grid_auto_flow": null,
            "grid_auto_rows": null,
            "grid_column": null,
            "grid_gap": null,
            "grid_row": null,
            "grid_template_areas": null,
            "grid_template_columns": null,
            "grid_template_rows": null,
            "height": null,
            "justify_content": null,
            "justify_items": null,
            "left": null,
            "margin": null,
            "max_height": null,
            "max_width": null,
            "min_height": null,
            "min_width": null,
            "object_fit": null,
            "object_position": null,
            "order": null,
            "overflow": null,
            "overflow_x": null,
            "overflow_y": null,
            "padding": null,
            "right": null,
            "top": null,
            "visibility": null,
            "width": null
          }
        },
        "0edfb0f7ee6b4953b02108f558b1fc82": {
          "model_module": "@jupyter-widgets/base",
          "model_module_version": "1.2.0",
          "model_name": "LayoutModel",
          "state": {
            "_model_module": "@jupyter-widgets/base",
            "_model_module_version": "1.2.0",
            "_model_name": "LayoutModel",
            "_view_count": null,
            "_view_module": "@jupyter-widgets/base",
            "_view_module_version": "1.2.0",
            "_view_name": "LayoutView",
            "align_content": null,
            "align_items": null,
            "align_self": null,
            "border": null,
            "bottom": null,
            "display": null,
            "flex": null,
            "flex_flow": null,
            "grid_area": null,
            "grid_auto_columns": null,
            "grid_auto_flow": null,
            "grid_auto_rows": null,
            "grid_column": null,
            "grid_gap": null,
            "grid_row": null,
            "grid_template_areas": null,
            "grid_template_columns": null,
            "grid_template_rows": null,
            "height": null,
            "justify_content": null,
            "justify_items": null,
            "left": null,
            "margin": null,
            "max_height": null,
            "max_width": null,
            "min_height": null,
            "min_width": null,
            "object_fit": null,
            "object_position": null,
            "order": null,
            "overflow": null,
            "overflow_x": null,
            "overflow_y": null,
            "padding": null,
            "right": null,
            "top": null,
            "visibility": null,
            "width": null
          }
        },
        "0f0b6ec94597485e83791c578e7d6ac5": {
          "model_module": "@jupyter-widgets/base",
          "model_module_version": "1.2.0",
          "model_name": "LayoutModel",
          "state": {
            "_model_module": "@jupyter-widgets/base",
            "_model_module_version": "1.2.0",
            "_model_name": "LayoutModel",
            "_view_count": null,
            "_view_module": "@jupyter-widgets/base",
            "_view_module_version": "1.2.0",
            "_view_name": "LayoutView",
            "align_content": null,
            "align_items": null,
            "align_self": null,
            "border": null,
            "bottom": null,
            "display": null,
            "flex": null,
            "flex_flow": null,
            "grid_area": null,
            "grid_auto_columns": null,
            "grid_auto_flow": null,
            "grid_auto_rows": null,
            "grid_column": null,
            "grid_gap": null,
            "grid_row": null,
            "grid_template_areas": null,
            "grid_template_columns": null,
            "grid_template_rows": null,
            "height": null,
            "justify_content": null,
            "justify_items": null,
            "left": null,
            "margin": null,
            "max_height": null,
            "max_width": null,
            "min_height": null,
            "min_width": null,
            "object_fit": null,
            "object_position": null,
            "order": null,
            "overflow": null,
            "overflow_x": null,
            "overflow_y": null,
            "padding": null,
            "right": null,
            "top": null,
            "visibility": null,
            "width": null
          }
        },
        "1090fe96f63941709aa0e2f494c2cea2": {
          "model_module": "@jupyter-widgets/controls",
          "model_module_version": "1.5.0",
          "model_name": "DescriptionStyleModel",
          "state": {
            "_model_module": "@jupyter-widgets/controls",
            "_model_module_version": "1.5.0",
            "_model_name": "DescriptionStyleModel",
            "_view_count": null,
            "_view_module": "@jupyter-widgets/base",
            "_view_module_version": "1.2.0",
            "_view_name": "StyleView",
            "description_width": ""
          }
        },
        "10f30d88a0b34b1a9de440117d5f98f1": {
          "model_module": "@jupyter-widgets/controls",
          "model_module_version": "1.5.0",
          "model_name": "HTMLModel",
          "state": {
            "_dom_classes": [],
            "_model_module": "@jupyter-widgets/controls",
            "_model_module_version": "1.5.0",
            "_model_name": "HTMLModel",
            "_view_count": null,
            "_view_module": "@jupyter-widgets/controls",
            "_view_module_version": "1.5.0",
            "_view_name": "HTMLView",
            "description": "",
            "description_tooltip": null,
            "layout": "IPY_MODEL_0f0b6ec94597485e83791c578e7d6ac5",
            "placeholder": "​",
            "style": "IPY_MODEL_97205c159521496a863b2bea93b734b8",
            "value": "config.json: 100%"
          }
        },
        "133d42281da84b6ca6f2bf6d7b2af061": {
          "model_module": "@jupyter-widgets/base",
          "model_module_version": "1.2.0",
          "model_name": "LayoutModel",
          "state": {
            "_model_module": "@jupyter-widgets/base",
            "_model_module_version": "1.2.0",
            "_model_name": "LayoutModel",
            "_view_count": null,
            "_view_module": "@jupyter-widgets/base",
            "_view_module_version": "1.2.0",
            "_view_name": "LayoutView",
            "align_content": null,
            "align_items": null,
            "align_self": null,
            "border": null,
            "bottom": null,
            "display": null,
            "flex": null,
            "flex_flow": null,
            "grid_area": null,
            "grid_auto_columns": null,
            "grid_auto_flow": null,
            "grid_auto_rows": null,
            "grid_column": null,
            "grid_gap": null,
            "grid_row": null,
            "grid_template_areas": null,
            "grid_template_columns": null,
            "grid_template_rows": null,
            "height": null,
            "justify_content": null,
            "justify_items": null,
            "left": null,
            "margin": null,
            "max_height": null,
            "max_width": null,
            "min_height": null,
            "min_width": null,
            "object_fit": null,
            "object_position": null,
            "order": null,
            "overflow": null,
            "overflow_x": null,
            "overflow_y": null,
            "padding": null,
            "right": null,
            "top": null,
            "visibility": null,
            "width": null
          }
        },
        "16f4558829f54d1d841d733644238957": {
          "model_module": "@jupyter-widgets/controls",
          "model_module_version": "1.5.0",
          "model_name": "DescriptionStyleModel",
          "state": {
            "_model_module": "@jupyter-widgets/controls",
            "_model_module_version": "1.5.0",
            "_model_name": "DescriptionStyleModel",
            "_view_count": null,
            "_view_module": "@jupyter-widgets/base",
            "_view_module_version": "1.2.0",
            "_view_name": "StyleView",
            "description_width": ""
          }
        },
        "26ba9875c07047c48bc874aa714faeed": {
          "model_module": "@jupyter-widgets/base",
          "model_module_version": "1.2.0",
          "model_name": "LayoutModel",
          "state": {
            "_model_module": "@jupyter-widgets/base",
            "_model_module_version": "1.2.0",
            "_model_name": "LayoutModel",
            "_view_count": null,
            "_view_module": "@jupyter-widgets/base",
            "_view_module_version": "1.2.0",
            "_view_name": "LayoutView",
            "align_content": null,
            "align_items": null,
            "align_self": null,
            "border": null,
            "bottom": null,
            "display": null,
            "flex": null,
            "flex_flow": null,
            "grid_area": null,
            "grid_auto_columns": null,
            "grid_auto_flow": null,
            "grid_auto_rows": null,
            "grid_column": null,
            "grid_gap": null,
            "grid_row": null,
            "grid_template_areas": null,
            "grid_template_columns": null,
            "grid_template_rows": null,
            "height": null,
            "justify_content": null,
            "justify_items": null,
            "left": null,
            "margin": null,
            "max_height": null,
            "max_width": null,
            "min_height": null,
            "min_width": null,
            "object_fit": null,
            "object_position": null,
            "order": null,
            "overflow": null,
            "overflow_x": null,
            "overflow_y": null,
            "padding": null,
            "right": null,
            "top": null,
            "visibility": null,
            "width": null
          }
        },
        "29b9d8f7d2aa471c9621e0661e71abba": {
          "model_module": "@jupyter-widgets/base",
          "model_module_version": "1.2.0",
          "model_name": "LayoutModel",
          "state": {
            "_model_module": "@jupyter-widgets/base",
            "_model_module_version": "1.2.0",
            "_model_name": "LayoutModel",
            "_view_count": null,
            "_view_module": "@jupyter-widgets/base",
            "_view_module_version": "1.2.0",
            "_view_name": "LayoutView",
            "align_content": null,
            "align_items": null,
            "align_self": null,
            "border": null,
            "bottom": null,
            "display": null,
            "flex": null,
            "flex_flow": null,
            "grid_area": null,
            "grid_auto_columns": null,
            "grid_auto_flow": null,
            "grid_auto_rows": null,
            "grid_column": null,
            "grid_gap": null,
            "grid_row": null,
            "grid_template_areas": null,
            "grid_template_columns": null,
            "grid_template_rows": null,
            "height": null,
            "justify_content": null,
            "justify_items": null,
            "left": null,
            "margin": null,
            "max_height": null,
            "max_width": null,
            "min_height": null,
            "min_width": null,
            "object_fit": null,
            "object_position": null,
            "order": null,
            "overflow": null,
            "overflow_x": null,
            "overflow_y": null,
            "padding": null,
            "right": null,
            "top": null,
            "visibility": null,
            "width": null
          }
        },
        "2e09608a4162464e828ee018b2be1176": {
          "model_module": "@jupyter-widgets/controls",
          "model_module_version": "1.5.0",
          "model_name": "HBoxModel",
          "state": {
            "_dom_classes": [],
            "_model_module": "@jupyter-widgets/controls",
            "_model_module_version": "1.5.0",
            "_model_name": "HBoxModel",
            "_view_count": null,
            "_view_module": "@jupyter-widgets/controls",
            "_view_module_version": "1.5.0",
            "_view_name": "HBoxView",
            "box_style": "",
            "children": [
              "IPY_MODEL_ef830d7f58664a09ad57f7c494223ade",
              "IPY_MODEL_af4ae8a922114adc90e145adf7b2cd92",
              "IPY_MODEL_eb09d6cd301945e19bdb3a6dbac8ffbd"
            ],
            "layout": "IPY_MODEL_61fe223ab29d4ab180c3700d1daa61a3"
          }
        },
        "2e3bc6fd349e451bb2417adc93e9817c": {
          "model_module": "@jupyter-widgets/controls",
          "model_module_version": "1.5.0",
          "model_name": "HTMLModel",
          "state": {
            "_dom_classes": [],
            "_model_module": "@jupyter-widgets/controls",
            "_model_module_version": "1.5.0",
            "_model_name": "HTMLModel",
            "_view_count": null,
            "_view_module": "@jupyter-widgets/controls",
            "_view_module_version": "1.5.0",
            "_view_name": "HTMLView",
            "description": "",
            "description_tooltip": null,
            "layout": "IPY_MODEL_d631a066ab914d109b2cc547fb50ce38",
            "placeholder": "​",
            "style": "IPY_MODEL_4f9836137a9f471a8e5da6899f4ec922",
            "value": "modules.json: 100%"
          }
        },
        "369e8be8155841ca8194b578c22fd682": {
          "model_module": "@jupyter-widgets/controls",
          "model_module_version": "1.5.0",
          "model_name": "HTMLModel",
          "state": {
            "_dom_classes": [],
            "_model_module": "@jupyter-widgets/controls",
            "_model_module_version": "1.5.0",
            "_model_name": "HTMLModel",
            "_view_count": null,
            "_view_module": "@jupyter-widgets/controls",
            "_view_module_version": "1.5.0",
            "_view_name": "HTMLView",
            "description": "",
            "description_tooltip": null,
            "layout": "IPY_MODEL_ee4b683bd5b5410c9071024e0664936a",
            "placeholder": "​",
            "style": "IPY_MODEL_b76e86bbe2e24bfa8eadfe09e67594d2",
            "value": "tokenizer.json: 100%"
          }
        },
        "396a032318d74a80859a45173508ad82": {
          "model_module": "@jupyter-widgets/base",
          "model_module_version": "1.2.0",
          "model_name": "LayoutModel",
          "state": {
            "_model_module": "@jupyter-widgets/base",
            "_model_module_version": "1.2.0",
            "_model_name": "LayoutModel",
            "_view_count": null,
            "_view_module": "@jupyter-widgets/base",
            "_view_module_version": "1.2.0",
            "_view_name": "LayoutView",
            "align_content": null,
            "align_items": null,
            "align_self": null,
            "border": null,
            "bottom": null,
            "display": null,
            "flex": null,
            "flex_flow": null,
            "grid_area": null,
            "grid_auto_columns": null,
            "grid_auto_flow": null,
            "grid_auto_rows": null,
            "grid_column": null,
            "grid_gap": null,
            "grid_row": null,
            "grid_template_areas": null,
            "grid_template_columns": null,
            "grid_template_rows": null,
            "height": null,
            "justify_content": null,
            "justify_items": null,
            "left": null,
            "margin": null,
            "max_height": null,
            "max_width": null,
            "min_height": null,
            "min_width": null,
            "object_fit": null,
            "object_position": null,
            "order": null,
            "overflow": null,
            "overflow_x": null,
            "overflow_y": null,
            "padding": null,
            "right": null,
            "top": null,
            "visibility": null,
            "width": null
          }
        },
        "46ef3bf68f514fc699f648dbd8d16eef": {
          "model_module": "@jupyter-widgets/controls",
          "model_module_version": "1.5.0",
          "model_name": "ProgressStyleModel",
          "state": {
            "_model_module": "@jupyter-widgets/controls",
            "_model_module_version": "1.5.0",
            "_model_name": "ProgressStyleModel",
            "_view_count": null,
            "_view_module": "@jupyter-widgets/base",
            "_view_module_version": "1.2.0",
            "_view_name": "StyleView",
            "bar_color": null,
            "description_width": ""
          }
        },
        "47f6202561344d00a760a88980e0921b": {
          "model_module": "@jupyter-widgets/controls",
          "model_module_version": "1.5.0",
          "model_name": "DescriptionStyleModel",
          "state": {
            "_model_module": "@jupyter-widgets/controls",
            "_model_module_version": "1.5.0",
            "_model_name": "DescriptionStyleModel",
            "_view_count": null,
            "_view_module": "@jupyter-widgets/base",
            "_view_module_version": "1.2.0",
            "_view_name": "StyleView",
            "description_width": ""
          }
        },
        "499aa007a55b4a96b6ee9e58f128921a": {
          "model_module": "@jupyter-widgets/controls",
          "model_module_version": "1.5.0",
          "model_name": "HTMLModel",
          "state": {
            "_dom_classes": [],
            "_model_module": "@jupyter-widgets/controls",
            "_model_module_version": "1.5.0",
            "_model_name": "HTMLModel",
            "_view_count": null,
            "_view_module": "@jupyter-widgets/controls",
            "_view_module_version": "1.5.0",
            "_view_name": "HTMLView",
            "description": "",
            "description_tooltip": null,
            "layout": "IPY_MODEL_07f58eb7374f4c159b86174e2f9c1484",
            "placeholder": "​",
            "style": "IPY_MODEL_075db42cbe394f4a9e434935a7709f76",
            "value": " 190/190 [00:00&lt;00:00, 8.64kB/s]"
          }
        },
        "4aa64799c43b490b94b0759a5a715fd7": {
          "model_module": "@jupyter-widgets/base",
          "model_module_version": "1.2.0",
          "model_name": "LayoutModel",
          "state": {
            "_model_module": "@jupyter-widgets/base",
            "_model_module_version": "1.2.0",
            "_model_name": "LayoutModel",
            "_view_count": null,
            "_view_module": "@jupyter-widgets/base",
            "_view_module_version": "1.2.0",
            "_view_name": "LayoutView",
            "align_content": null,
            "align_items": null,
            "align_self": null,
            "border": null,
            "bottom": null,
            "display": null,
            "flex": null,
            "flex_flow": null,
            "grid_area": null,
            "grid_auto_columns": null,
            "grid_auto_flow": null,
            "grid_auto_rows": null,
            "grid_column": null,
            "grid_gap": null,
            "grid_row": null,
            "grid_template_areas": null,
            "grid_template_columns": null,
            "grid_template_rows": null,
            "height": null,
            "justify_content": null,
            "justify_items": null,
            "left": null,
            "margin": null,
            "max_height": null,
            "max_width": null,
            "min_height": null,
            "min_width": null,
            "object_fit": null,
            "object_position": null,
            "order": null,
            "overflow": null,
            "overflow_x": null,
            "overflow_y": null,
            "padding": null,
            "right": null,
            "top": null,
            "visibility": null,
            "width": null
          }
        },
        "4aae66bcb7b54e63beee38a934c92ba4": {
          "model_module": "@jupyter-widgets/controls",
          "model_module_version": "1.5.0",
          "model_name": "ProgressStyleModel",
          "state": {
            "_model_module": "@jupyter-widgets/controls",
            "_model_module_version": "1.5.0",
            "_model_name": "ProgressStyleModel",
            "_view_count": null,
            "_view_module": "@jupyter-widgets/base",
            "_view_module_version": "1.2.0",
            "_view_name": "StyleView",
            "bar_color": null,
            "description_width": ""
          }
        },
        "4dea580a99cb4c07afcefc7d4349d676": {
          "model_module": "@jupyter-widgets/controls",
          "model_module_version": "1.5.0",
          "model_name": "ProgressStyleModel",
          "state": {
            "_model_module": "@jupyter-widgets/controls",
            "_model_module_version": "1.5.0",
            "_model_name": "ProgressStyleModel",
            "_view_count": null,
            "_view_module": "@jupyter-widgets/base",
            "_view_module_version": "1.2.0",
            "_view_name": "StyleView",
            "bar_color": null,
            "description_width": ""
          }
        },
        "4e05dfea6d5d4d52bbe3ac0f45a48397": {
          "model_module": "@jupyter-widgets/controls",
          "model_module_version": "1.5.0",
          "model_name": "DescriptionStyleModel",
          "state": {
            "_model_module": "@jupyter-widgets/controls",
            "_model_module_version": "1.5.0",
            "_model_name": "DescriptionStyleModel",
            "_view_count": null,
            "_view_module": "@jupyter-widgets/base",
            "_view_module_version": "1.2.0",
            "_view_name": "StyleView",
            "description_width": ""
          }
        },
        "4f9836137a9f471a8e5da6899f4ec922": {
          "model_module": "@jupyter-widgets/controls",
          "model_module_version": "1.5.0",
          "model_name": "DescriptionStyleModel",
          "state": {
            "_model_module": "@jupyter-widgets/controls",
            "_model_module_version": "1.5.0",
            "_model_name": "DescriptionStyleModel",
            "_view_count": null,
            "_view_module": "@jupyter-widgets/base",
            "_view_module_version": "1.2.0",
            "_view_name": "StyleView",
            "description_width": ""
          }
        },
        "4ff6613ad5134f25981c7b8371f07507": {
          "model_module": "@jupyter-widgets/base",
          "model_module_version": "1.2.0",
          "model_name": "LayoutModel",
          "state": {
            "_model_module": "@jupyter-widgets/base",
            "_model_module_version": "1.2.0",
            "_model_name": "LayoutModel",
            "_view_count": null,
            "_view_module": "@jupyter-widgets/base",
            "_view_module_version": "1.2.0",
            "_view_name": "LayoutView",
            "align_content": null,
            "align_items": null,
            "align_self": null,
            "border": null,
            "bottom": null,
            "display": null,
            "flex": null,
            "flex_flow": null,
            "grid_area": null,
            "grid_auto_columns": null,
            "grid_auto_flow": null,
            "grid_auto_rows": null,
            "grid_column": null,
            "grid_gap": null,
            "grid_row": null,
            "grid_template_areas": null,
            "grid_template_columns": null,
            "grid_template_rows": null,
            "height": null,
            "justify_content": null,
            "justify_items": null,
            "left": null,
            "margin": null,
            "max_height": null,
            "max_width": null,
            "min_height": null,
            "min_width": null,
            "object_fit": null,
            "object_position": null,
            "order": null,
            "overflow": null,
            "overflow_x": null,
            "overflow_y": null,
            "padding": null,
            "right": null,
            "top": null,
            "visibility": null,
            "width": null
          }
        },
        "509f1f3b01cb437cbaffe847ceb57c7c": {
          "model_module": "@jupyter-widgets/base",
          "model_module_version": "1.2.0",
          "model_name": "LayoutModel",
          "state": {
            "_model_module": "@jupyter-widgets/base",
            "_model_module_version": "1.2.0",
            "_model_name": "LayoutModel",
            "_view_count": null,
            "_view_module": "@jupyter-widgets/base",
            "_view_module_version": "1.2.0",
            "_view_name": "LayoutView",
            "align_content": null,
            "align_items": null,
            "align_self": null,
            "border": null,
            "bottom": null,
            "display": null,
            "flex": null,
            "flex_flow": null,
            "grid_area": null,
            "grid_auto_columns": null,
            "grid_auto_flow": null,
            "grid_auto_rows": null,
            "grid_column": null,
            "grid_gap": null,
            "grid_row": null,
            "grid_template_areas": null,
            "grid_template_columns": null,
            "grid_template_rows": null,
            "height": null,
            "justify_content": null,
            "justify_items": null,
            "left": null,
            "margin": null,
            "max_height": null,
            "max_width": null,
            "min_height": null,
            "min_width": null,
            "object_fit": null,
            "object_position": null,
            "order": null,
            "overflow": null,
            "overflow_x": null,
            "overflow_y": null,
            "padding": null,
            "right": null,
            "top": null,
            "visibility": null,
            "width": null
          }
        },
        "5234b81efa7c42e4ad87bff43fc94986": {
          "model_module": "@jupyter-widgets/controls",
          "model_module_version": "1.5.0",
          "model_name": "FloatProgressModel",
          "state": {
            "_dom_classes": [],
            "_model_module": "@jupyter-widgets/controls",
            "_model_module_version": "1.5.0",
            "_model_name": "FloatProgressModel",
            "_view_count": null,
            "_view_module": "@jupyter-widgets/controls",
            "_view_module_version": "1.5.0",
            "_view_name": "ProgressView",
            "bar_style": "success",
            "description": "",
            "description_tooltip": null,
            "layout": "IPY_MODEL_70fd82bcf9f14adcbb3808da6e98cd4e",
            "max": 124,
            "min": 0,
            "orientation": "horizontal",
            "style": "IPY_MODEL_46ef3bf68f514fc699f648dbd8d16eef",
            "value": 124
          }
        },
        "536dab760b284dd6bbf11fd17db0618e": {
          "model_module": "@jupyter-widgets/controls",
          "model_module_version": "1.5.0",
          "model_name": "FloatProgressModel",
          "state": {
            "_dom_classes": [],
            "_model_module": "@jupyter-widgets/controls",
            "_model_module_version": "1.5.0",
            "_model_name": "FloatProgressModel",
            "_view_count": null,
            "_view_module": "@jupyter-widgets/controls",
            "_view_module_version": "1.5.0",
            "_view_name": "ProgressView",
            "bar_style": "success",
            "description": "",
            "description_tooltip": null,
            "layout": "IPY_MODEL_5aa8ca412d7f4c7c9845ec4e81f6faf3",
            "max": 90797,
            "min": 0,
            "orientation": "horizontal",
            "style": "IPY_MODEL_afef292a50654af9b4403c2a3377e849",
            "value": 90797
          }
        },
        "546c40d59b0040c49d3a37d82a6f0f3f": {
          "model_module": "@jupyter-widgets/controls",
          "model_module_version": "1.5.0",
          "model_name": "HTMLModel",
          "state": {
            "_dom_classes": [],
            "_model_module": "@jupyter-widgets/controls",
            "_model_module_version": "1.5.0",
            "_model_name": "HTMLModel",
            "_view_count": null,
            "_view_module": "@jupyter-widgets/controls",
            "_view_module_version": "1.5.0",
            "_view_name": "HTMLView",
            "description": "",
            "description_tooltip": null,
            "layout": "IPY_MODEL_610bad0b112d4e34bc550ae81d906ca5",
            "placeholder": "​",
            "style": "IPY_MODEL_bdc78ca626284e02a43cd82c5b2dadf4",
            "value": " 711k/711k [00:00&lt;00:00, 8.31MB/s]"
          }
        },
        "56a9263d13ff426ba34e0c290f57769a": {
          "model_module": "@jupyter-widgets/controls",
          "model_module_version": "1.5.0",
          "model_name": "ProgressStyleModel",
          "state": {
            "_model_module": "@jupyter-widgets/controls",
            "_model_module_version": "1.5.0",
            "_model_name": "ProgressStyleModel",
            "_view_count": null,
            "_view_module": "@jupyter-widgets/base",
            "_view_module_version": "1.2.0",
            "_view_name": "StyleView",
            "bar_color": null,
            "description_width": ""
          }
        },
        "591b8828f47b45bf99350dfc56fccef8": {
          "model_module": "@jupyter-widgets/controls",
          "model_module_version": "1.5.0",
          "model_name": "DescriptionStyleModel",
          "state": {
            "_model_module": "@jupyter-widgets/controls",
            "_model_module_version": "1.5.0",
            "_model_name": "DescriptionStyleModel",
            "_view_count": null,
            "_view_module": "@jupyter-widgets/base",
            "_view_module_version": "1.2.0",
            "_view_name": "StyleView",
            "description_width": ""
          }
        },
        "59b1576e77ce4fa7b501373cb172f666": {
          "model_module": "@jupyter-widgets/base",
          "model_module_version": "1.2.0",
          "model_name": "LayoutModel",
          "state": {
            "_model_module": "@jupyter-widgets/base",
            "_model_module_version": "1.2.0",
            "_model_name": "LayoutModel",
            "_view_count": null,
            "_view_module": "@jupyter-widgets/base",
            "_view_module_version": "1.2.0",
            "_view_name": "LayoutView",
            "align_content": null,
            "align_items": null,
            "align_self": null,
            "border": null,
            "bottom": null,
            "display": null,
            "flex": null,
            "flex_flow": null,
            "grid_area": null,
            "grid_auto_columns": null,
            "grid_auto_flow": null,
            "grid_auto_rows": null,
            "grid_column": null,
            "grid_gap": null,
            "grid_row": null,
            "grid_template_areas": null,
            "grid_template_columns": null,
            "grid_template_rows": null,
            "height": null,
            "justify_content": null,
            "justify_items": null,
            "left": null,
            "margin": null,
            "max_height": null,
            "max_width": null,
            "min_height": null,
            "min_width": null,
            "object_fit": null,
            "object_position": null,
            "order": null,
            "overflow": null,
            "overflow_x": null,
            "overflow_y": null,
            "padding": null,
            "right": null,
            "top": null,
            "visibility": null,
            "width": null
          }
        },
        "5a2ed8a5936e4f3e9dce054ef60dd12a": {
          "model_module": "@jupyter-widgets/base",
          "model_module_version": "1.2.0",
          "model_name": "LayoutModel",
          "state": {
            "_model_module": "@jupyter-widgets/base",
            "_model_module_version": "1.2.0",
            "_model_name": "LayoutModel",
            "_view_count": null,
            "_view_module": "@jupyter-widgets/base",
            "_view_module_version": "1.2.0",
            "_view_name": "LayoutView",
            "align_content": null,
            "align_items": null,
            "align_self": null,
            "border": null,
            "bottom": null,
            "display": null,
            "flex": null,
            "flex_flow": null,
            "grid_area": null,
            "grid_auto_columns": null,
            "grid_auto_flow": null,
            "grid_auto_rows": null,
            "grid_column": null,
            "grid_gap": null,
            "grid_row": null,
            "grid_template_areas": null,
            "grid_template_columns": null,
            "grid_template_rows": null,
            "height": null,
            "justify_content": null,
            "justify_items": null,
            "left": null,
            "margin": null,
            "max_height": null,
            "max_width": null,
            "min_height": null,
            "min_width": null,
            "object_fit": null,
            "object_position": null,
            "order": null,
            "overflow": null,
            "overflow_x": null,
            "overflow_y": null,
            "padding": null,
            "right": null,
            "top": null,
            "visibility": null,
            "width": null
          }
        },
        "5aa8ca412d7f4c7c9845ec4e81f6faf3": {
          "model_module": "@jupyter-widgets/base",
          "model_module_version": "1.2.0",
          "model_name": "LayoutModel",
          "state": {
            "_model_module": "@jupyter-widgets/base",
            "_model_module_version": "1.2.0",
            "_model_name": "LayoutModel",
            "_view_count": null,
            "_view_module": "@jupyter-widgets/base",
            "_view_module_version": "1.2.0",
            "_view_name": "LayoutView",
            "align_content": null,
            "align_items": null,
            "align_self": null,
            "border": null,
            "bottom": null,
            "display": null,
            "flex": null,
            "flex_flow": null,
            "grid_area": null,
            "grid_auto_columns": null,
            "grid_auto_flow": null,
            "grid_auto_rows": null,
            "grid_column": null,
            "grid_gap": null,
            "grid_row": null,
            "grid_template_areas": null,
            "grid_template_columns": null,
            "grid_template_rows": null,
            "height": null,
            "justify_content": null,
            "justify_items": null,
            "left": null,
            "margin": null,
            "max_height": null,
            "max_width": null,
            "min_height": null,
            "min_width": null,
            "object_fit": null,
            "object_position": null,
            "order": null,
            "overflow": null,
            "overflow_x": null,
            "overflow_y": null,
            "padding": null,
            "right": null,
            "top": null,
            "visibility": null,
            "width": null
          }
        },
        "5ab9d52d347d40c09348f5ef571f4d62": {
          "model_module": "@jupyter-widgets/controls",
          "model_module_version": "1.5.0",
          "model_name": "DescriptionStyleModel",
          "state": {
            "_model_module": "@jupyter-widgets/controls",
            "_model_module_version": "1.5.0",
            "_model_name": "DescriptionStyleModel",
            "_view_count": null,
            "_view_module": "@jupyter-widgets/base",
            "_view_module_version": "1.2.0",
            "_view_name": "StyleView",
            "description_width": ""
          }
        },
        "5ca6cec9c2c94a48bf5fcf9eb4531fb6": {
          "model_module": "@jupyter-widgets/controls",
          "model_module_version": "1.5.0",
          "model_name": "FloatProgressModel",
          "state": {
            "_dom_classes": [],
            "_model_module": "@jupyter-widgets/controls",
            "_model_module_version": "1.5.0",
            "_model_name": "FloatProgressModel",
            "_view_count": null,
            "_view_module": "@jupyter-widgets/controls",
            "_view_module_version": "1.5.0",
            "_view_name": "ProgressView",
            "bar_style": "success",
            "description": "",
            "description_tooltip": null,
            "layout": "IPY_MODEL_03bf182549b04b88adc4592c3bfaddd8",
            "max": 133466304,
            "min": 0,
            "orientation": "horizontal",
            "style": "IPY_MODEL_d33a41bc6ee64d11adaa825cd53fdabd",
            "value": 133466304
          }
        },
        "5d119b3435cc4d439fc6069ea4d97754": {
          "model_module": "@jupyter-widgets/base",
          "model_module_version": "1.2.0",
          "model_name": "LayoutModel",
          "state": {
            "_model_module": "@jupyter-widgets/base",
            "_model_module_version": "1.2.0",
            "_model_name": "LayoutModel",
            "_view_count": null,
            "_view_module": "@jupyter-widgets/base",
            "_view_module_version": "1.2.0",
            "_view_name": "LayoutView",
            "align_content": null,
            "align_items": null,
            "align_self": null,
            "border": null,
            "bottom": null,
            "display": null,
            "flex": null,
            "flex_flow": null,
            "grid_area": null,
            "grid_auto_columns": null,
            "grid_auto_flow": null,
            "grid_auto_rows": null,
            "grid_column": null,
            "grid_gap": null,
            "grid_row": null,
            "grid_template_areas": null,
            "grid_template_columns": null,
            "grid_template_rows": null,
            "height": null,
            "justify_content": null,
            "justify_items": null,
            "left": null,
            "margin": null,
            "max_height": null,
            "max_width": null,
            "min_height": null,
            "min_width": null,
            "object_fit": null,
            "object_position": null,
            "order": null,
            "overflow": null,
            "overflow_x": null,
            "overflow_y": null,
            "padding": null,
            "right": null,
            "top": null,
            "visibility": null,
            "width": null
          }
        },
        "5e3ad5b218d04688a9f054f42756b2c8": {
          "model_module": "@jupyter-widgets/base",
          "model_module_version": "1.2.0",
          "model_name": "LayoutModel",
          "state": {
            "_model_module": "@jupyter-widgets/base",
            "_model_module_version": "1.2.0",
            "_model_name": "LayoutModel",
            "_view_count": null,
            "_view_module": "@jupyter-widgets/base",
            "_view_module_version": "1.2.0",
            "_view_name": "LayoutView",
            "align_content": null,
            "align_items": null,
            "align_self": null,
            "border": null,
            "bottom": null,
            "display": null,
            "flex": null,
            "flex_flow": null,
            "grid_area": null,
            "grid_auto_columns": null,
            "grid_auto_flow": null,
            "grid_auto_rows": null,
            "grid_column": null,
            "grid_gap": null,
            "grid_row": null,
            "grid_template_areas": null,
            "grid_template_columns": null,
            "grid_template_rows": null,
            "height": null,
            "justify_content": null,
            "justify_items": null,
            "left": null,
            "margin": null,
            "max_height": null,
            "max_width": null,
            "min_height": null,
            "min_width": null,
            "object_fit": null,
            "object_position": null,
            "order": null,
            "overflow": null,
            "overflow_x": null,
            "overflow_y": null,
            "padding": null,
            "right": null,
            "top": null,
            "visibility": null,
            "width": null
          }
        },
        "5f4e4d2503da4cb085c29577ac49febf": {
          "model_module": "@jupyter-widgets/base",
          "model_module_version": "1.2.0",
          "model_name": "LayoutModel",
          "state": {
            "_model_module": "@jupyter-widgets/base",
            "_model_module_version": "1.2.0",
            "_model_name": "LayoutModel",
            "_view_count": null,
            "_view_module": "@jupyter-widgets/base",
            "_view_module_version": "1.2.0",
            "_view_name": "LayoutView",
            "align_content": null,
            "align_items": null,
            "align_self": null,
            "border": null,
            "bottom": null,
            "display": null,
            "flex": null,
            "flex_flow": null,
            "grid_area": null,
            "grid_auto_columns": null,
            "grid_auto_flow": null,
            "grid_auto_rows": null,
            "grid_column": null,
            "grid_gap": null,
            "grid_row": null,
            "grid_template_areas": null,
            "grid_template_columns": null,
            "grid_template_rows": null,
            "height": null,
            "justify_content": null,
            "justify_items": null,
            "left": null,
            "margin": null,
            "max_height": null,
            "max_width": null,
            "min_height": null,
            "min_width": null,
            "object_fit": null,
            "object_position": null,
            "order": null,
            "overflow": null,
            "overflow_x": null,
            "overflow_y": null,
            "padding": null,
            "right": null,
            "top": null,
            "visibility": null,
            "width": null
          }
        },
        "610bad0b112d4e34bc550ae81d906ca5": {
          "model_module": "@jupyter-widgets/base",
          "model_module_version": "1.2.0",
          "model_name": "LayoutModel",
          "state": {
            "_model_module": "@jupyter-widgets/base",
            "_model_module_version": "1.2.0",
            "_model_name": "LayoutModel",
            "_view_count": null,
            "_view_module": "@jupyter-widgets/base",
            "_view_module_version": "1.2.0",
            "_view_name": "LayoutView",
            "align_content": null,
            "align_items": null,
            "align_self": null,
            "border": null,
            "bottom": null,
            "display": null,
            "flex": null,
            "flex_flow": null,
            "grid_area": null,
            "grid_auto_columns": null,
            "grid_auto_flow": null,
            "grid_auto_rows": null,
            "grid_column": null,
            "grid_gap": null,
            "grid_row": null,
            "grid_template_areas": null,
            "grid_template_columns": null,
            "grid_template_rows": null,
            "height": null,
            "justify_content": null,
            "justify_items": null,
            "left": null,
            "margin": null,
            "max_height": null,
            "max_width": null,
            "min_height": null,
            "min_width": null,
            "object_fit": null,
            "object_position": null,
            "order": null,
            "overflow": null,
            "overflow_x": null,
            "overflow_y": null,
            "padding": null,
            "right": null,
            "top": null,
            "visibility": null,
            "width": null
          }
        },
        "61fe223ab29d4ab180c3700d1daa61a3": {
          "model_module": "@jupyter-widgets/base",
          "model_module_version": "1.2.0",
          "model_name": "LayoutModel",
          "state": {
            "_model_module": "@jupyter-widgets/base",
            "_model_module_version": "1.2.0",
            "_model_name": "LayoutModel",
            "_view_count": null,
            "_view_module": "@jupyter-widgets/base",
            "_view_module_version": "1.2.0",
            "_view_name": "LayoutView",
            "align_content": null,
            "align_items": null,
            "align_self": null,
            "border": null,
            "bottom": null,
            "display": null,
            "flex": null,
            "flex_flow": null,
            "grid_area": null,
            "grid_auto_columns": null,
            "grid_auto_flow": null,
            "grid_auto_rows": null,
            "grid_column": null,
            "grid_gap": null,
            "grid_row": null,
            "grid_template_areas": null,
            "grid_template_columns": null,
            "grid_template_rows": null,
            "height": null,
            "justify_content": null,
            "justify_items": null,
            "left": null,
            "margin": null,
            "max_height": null,
            "max_width": null,
            "min_height": null,
            "min_width": null,
            "object_fit": null,
            "object_position": null,
            "order": null,
            "overflow": null,
            "overflow_x": null,
            "overflow_y": null,
            "padding": null,
            "right": null,
            "top": null,
            "visibility": null,
            "width": null
          }
        },
        "62a9e6426a904dd68d93bac868063754": {
          "model_module": "@jupyter-widgets/controls",
          "model_module_version": "1.5.0",
          "model_name": "HBoxModel",
          "state": {
            "_dom_classes": [],
            "_model_module": "@jupyter-widgets/controls",
            "_model_module_version": "1.5.0",
            "_model_name": "HBoxModel",
            "_view_count": null,
            "_view_module": "@jupyter-widgets/controls",
            "_view_module_version": "1.5.0",
            "_view_name": "HBoxView",
            "box_style": "",
            "children": [
              "IPY_MODEL_2e3bc6fd349e451bb2417adc93e9817c",
              "IPY_MODEL_afb80fd927354daea48f516a44834352",
              "IPY_MODEL_087cd01a956d49ae95ca0520adcc2244"
            ],
            "layout": "IPY_MODEL_5f4e4d2503da4cb085c29577ac49febf"
          }
        },
        "6521eadb8aee4e5d8cc50e4975fe2666": {
          "model_module": "@jupyter-widgets/controls",
          "model_module_version": "1.5.0",
          "model_name": "HBoxModel",
          "state": {
            "_dom_classes": [],
            "_model_module": "@jupyter-widgets/controls",
            "_model_module_version": "1.5.0",
            "_model_name": "HBoxModel",
            "_view_count": null,
            "_view_module": "@jupyter-widgets/controls",
            "_view_module_version": "1.5.0",
            "_view_name": "HBoxView",
            "box_style": "",
            "children": [
              "IPY_MODEL_eb740961d05f48eeb8d557ba5cb4d345",
              "IPY_MODEL_788a67fc0fbe49b085d4b5dd5406d807",
              "IPY_MODEL_499aa007a55b4a96b6ee9e58f128921a"
            ],
            "layout": "IPY_MODEL_c10823ccda8d4b479204da3aaaafc4e5"
          }
        },
        "6978f0b73d084075acc20e486edb9328": {
          "model_module": "@jupyter-widgets/base",
          "model_module_version": "1.2.0",
          "model_name": "LayoutModel",
          "state": {
            "_model_module": "@jupyter-widgets/base",
            "_model_module_version": "1.2.0",
            "_model_name": "LayoutModel",
            "_view_count": null,
            "_view_module": "@jupyter-widgets/base",
            "_view_module_version": "1.2.0",
            "_view_name": "LayoutView",
            "align_content": null,
            "align_items": null,
            "align_self": null,
            "border": null,
            "bottom": null,
            "display": null,
            "flex": null,
            "flex_flow": null,
            "grid_area": null,
            "grid_auto_columns": null,
            "grid_auto_flow": null,
            "grid_auto_rows": null,
            "grid_column": null,
            "grid_gap": null,
            "grid_row": null,
            "grid_template_areas": null,
            "grid_template_columns": null,
            "grid_template_rows": null,
            "height": null,
            "justify_content": null,
            "justify_items": null,
            "left": null,
            "margin": null,
            "max_height": null,
            "max_width": null,
            "min_height": null,
            "min_width": null,
            "object_fit": null,
            "object_position": null,
            "order": null,
            "overflow": null,
            "overflow_x": null,
            "overflow_y": null,
            "padding": null,
            "right": null,
            "top": null,
            "visibility": null,
            "width": null
          }
        },
        "6ae1a3e25f5c4ce582f36585e1106c92": {
          "model_module": "@jupyter-widgets/controls",
          "model_module_version": "1.5.0",
          "model_name": "HTMLModel",
          "state": {
            "_dom_classes": [],
            "_model_module": "@jupyter-widgets/controls",
            "_model_module_version": "1.5.0",
            "_model_name": "HTMLModel",
            "_view_count": null,
            "_view_module": "@jupyter-widgets/controls",
            "_view_module_version": "1.5.0",
            "_view_name": "HTMLView",
            "description": "",
            "description_tooltip": null,
            "layout": "IPY_MODEL_29b9d8f7d2aa471c9621e0661e71abba",
            "placeholder": "​",
            "style": "IPY_MODEL_7248e29a6e284b148475cd0f35d59b56",
            "value": "config_sentence_transformers.json: 100%"
          }
        },
        "6b1878452ce245c8a8437c885c993ab0": {
          "model_module": "@jupyter-widgets/controls",
          "model_module_version": "1.5.0",
          "model_name": "HBoxModel",
          "state": {
            "_dom_classes": [],
            "_model_module": "@jupyter-widgets/controls",
            "_model_module_version": "1.5.0",
            "_model_name": "HBoxModel",
            "_view_count": null,
            "_view_module": "@jupyter-widgets/controls",
            "_view_module_version": "1.5.0",
            "_view_name": "HBoxView",
            "box_style": "",
            "children": [
              "IPY_MODEL_10f30d88a0b34b1a9de440117d5f98f1",
              "IPY_MODEL_eabd9cd215f14b7fb83ad4893ddf4f72",
              "IPY_MODEL_d269b5df449b40d5952bc3bb5e3b60e1"
            ],
            "layout": "IPY_MODEL_0edfb0f7ee6b4953b02108f558b1fc82"
          }
        },
        "6cb6e320624e4a38aa02d56eb3f864d8": {
          "model_module": "@jupyter-widgets/base",
          "model_module_version": "1.2.0",
          "model_name": "LayoutModel",
          "state": {
            "_model_module": "@jupyter-widgets/base",
            "_model_module_version": "1.2.0",
            "_model_name": "LayoutModel",
            "_view_count": null,
            "_view_module": "@jupyter-widgets/base",
            "_view_module_version": "1.2.0",
            "_view_name": "LayoutView",
            "align_content": null,
            "align_items": null,
            "align_self": null,
            "border": null,
            "bottom": null,
            "display": null,
            "flex": null,
            "flex_flow": null,
            "grid_area": null,
            "grid_auto_columns": null,
            "grid_auto_flow": null,
            "grid_auto_rows": null,
            "grid_column": null,
            "grid_gap": null,
            "grid_row": null,
            "grid_template_areas": null,
            "grid_template_columns": null,
            "grid_template_rows": null,
            "height": null,
            "justify_content": null,
            "justify_items": null,
            "left": null,
            "margin": null,
            "max_height": null,
            "max_width": null,
            "min_height": null,
            "min_width": null,
            "object_fit": null,
            "object_position": null,
            "order": null,
            "overflow": null,
            "overflow_x": null,
            "overflow_y": null,
            "padding": null,
            "right": null,
            "top": null,
            "visibility": null,
            "width": null
          }
        },
        "6e203b6c93374a1a9751203d9a4a23e6": {
          "model_module": "@jupyter-widgets/base",
          "model_module_version": "1.2.0",
          "model_name": "LayoutModel",
          "state": {
            "_model_module": "@jupyter-widgets/base",
            "_model_module_version": "1.2.0",
            "_model_name": "LayoutModel",
            "_view_count": null,
            "_view_module": "@jupyter-widgets/base",
            "_view_module_version": "1.2.0",
            "_view_name": "LayoutView",
            "align_content": null,
            "align_items": null,
            "align_self": null,
            "border": null,
            "bottom": null,
            "display": null,
            "flex": null,
            "flex_flow": null,
            "grid_area": null,
            "grid_auto_columns": null,
            "grid_auto_flow": null,
            "grid_auto_rows": null,
            "grid_column": null,
            "grid_gap": null,
            "grid_row": null,
            "grid_template_areas": null,
            "grid_template_columns": null,
            "grid_template_rows": null,
            "height": null,
            "justify_content": null,
            "justify_items": null,
            "left": null,
            "margin": null,
            "max_height": null,
            "max_width": null,
            "min_height": null,
            "min_width": null,
            "object_fit": null,
            "object_position": null,
            "order": null,
            "overflow": null,
            "overflow_x": null,
            "overflow_y": null,
            "padding": null,
            "right": null,
            "top": null,
            "visibility": null,
            "width": null
          }
        },
        "70fd82bcf9f14adcbb3808da6e98cd4e": {
          "model_module": "@jupyter-widgets/base",
          "model_module_version": "1.2.0",
          "model_name": "LayoutModel",
          "state": {
            "_model_module": "@jupyter-widgets/base",
            "_model_module_version": "1.2.0",
            "_model_name": "LayoutModel",
            "_view_count": null,
            "_view_module": "@jupyter-widgets/base",
            "_view_module_version": "1.2.0",
            "_view_name": "LayoutView",
            "align_content": null,
            "align_items": null,
            "align_self": null,
            "border": null,
            "bottom": null,
            "display": null,
            "flex": null,
            "flex_flow": null,
            "grid_area": null,
            "grid_auto_columns": null,
            "grid_auto_flow": null,
            "grid_auto_rows": null,
            "grid_column": null,
            "grid_gap": null,
            "grid_row": null,
            "grid_template_areas": null,
            "grid_template_columns": null,
            "grid_template_rows": null,
            "height": null,
            "justify_content": null,
            "justify_items": null,
            "left": null,
            "margin": null,
            "max_height": null,
            "max_width": null,
            "min_height": null,
            "min_width": null,
            "object_fit": null,
            "object_position": null,
            "order": null,
            "overflow": null,
            "overflow_x": null,
            "overflow_y": null,
            "padding": null,
            "right": null,
            "top": null,
            "visibility": null,
            "width": null
          }
        },
        "718373a649a349f8b90f6a251ee6334a": {
          "model_module": "@jupyter-widgets/controls",
          "model_module_version": "1.5.0",
          "model_name": "HBoxModel",
          "state": {
            "_dom_classes": [],
            "_model_module": "@jupyter-widgets/controls",
            "_model_module_version": "1.5.0",
            "_model_name": "HBoxModel",
            "_view_count": null,
            "_view_module": "@jupyter-widgets/controls",
            "_view_module_version": "1.5.0",
            "_view_name": "HBoxView",
            "box_style": "",
            "children": [
              "IPY_MODEL_f6076097872b47c7a7f0dfd4fd82eb5b",
              "IPY_MODEL_536dab760b284dd6bbf11fd17db0618e",
              "IPY_MODEL_fa526c958dd44c1fae041bfebf8845fc"
            ],
            "layout": "IPY_MODEL_bb2b5b2b5b5d49f987f2c5f4be1b6773"
          }
        },
        "7248e29a6e284b148475cd0f35d59b56": {
          "model_module": "@jupyter-widgets/controls",
          "model_module_version": "1.5.0",
          "model_name": "DescriptionStyleModel",
          "state": {
            "_model_module": "@jupyter-widgets/controls",
            "_model_module_version": "1.5.0",
            "_model_name": "DescriptionStyleModel",
            "_view_count": null,
            "_view_module": "@jupyter-widgets/base",
            "_view_module_version": "1.2.0",
            "_view_name": "StyleView",
            "description_width": ""
          }
        },
        "7272f5be74dc4c85902671f73c3da6a9": {
          "model_module": "@jupyter-widgets/controls",
          "model_module_version": "1.5.0",
          "model_name": "HBoxModel",
          "state": {
            "_dom_classes": [],
            "_model_module": "@jupyter-widgets/controls",
            "_model_module_version": "1.5.0",
            "_model_name": "HBoxModel",
            "_view_count": null,
            "_view_module": "@jupyter-widgets/controls",
            "_view_module_version": "1.5.0",
            "_view_name": "HBoxView",
            "box_style": "",
            "children": [
              "IPY_MODEL_369e8be8155841ca8194b578c22fd682",
              "IPY_MODEL_e7f040aff78446188574be37c0ba4d1c",
              "IPY_MODEL_546c40d59b0040c49d3a37d82a6f0f3f"
            ],
            "layout": "IPY_MODEL_a5e4558d769c45938677b282f4ded22d"
          }
        },
        "755c73e145bb479e98034aaf6d919f7f": {
          "model_module": "@jupyter-widgets/base",
          "model_module_version": "1.2.0",
          "model_name": "LayoutModel",
          "state": {
            "_model_module": "@jupyter-widgets/base",
            "_model_module_version": "1.2.0",
            "_model_name": "LayoutModel",
            "_view_count": null,
            "_view_module": "@jupyter-widgets/base",
            "_view_module_version": "1.2.0",
            "_view_name": "LayoutView",
            "align_content": null,
            "align_items": null,
            "align_self": null,
            "border": null,
            "bottom": null,
            "display": null,
            "flex": null,
            "flex_flow": null,
            "grid_area": null,
            "grid_auto_columns": null,
            "grid_auto_flow": null,
            "grid_auto_rows": null,
            "grid_column": null,
            "grid_gap": null,
            "grid_row": null,
            "grid_template_areas": null,
            "grid_template_columns": null,
            "grid_template_rows": null,
            "height": null,
            "justify_content": null,
            "justify_items": null,
            "left": null,
            "margin": null,
            "max_height": null,
            "max_width": null,
            "min_height": null,
            "min_width": null,
            "object_fit": null,
            "object_position": null,
            "order": null,
            "overflow": null,
            "overflow_x": null,
            "overflow_y": null,
            "padding": null,
            "right": null,
            "top": null,
            "visibility": null,
            "width": null
          }
        },
        "788a67fc0fbe49b085d4b5dd5406d807": {
          "model_module": "@jupyter-widgets/controls",
          "model_module_version": "1.5.0",
          "model_name": "FloatProgressModel",
          "state": {
            "_dom_classes": [],
            "_model_module": "@jupyter-widgets/controls",
            "_model_module_version": "1.5.0",
            "_model_name": "FloatProgressModel",
            "_view_count": null,
            "_view_module": "@jupyter-widgets/controls",
            "_view_module_version": "1.5.0",
            "_view_name": "ProgressView",
            "bar_style": "success",
            "description": "",
            "description_tooltip": null,
            "layout": "IPY_MODEL_e2b2b587698148c5a26d0d020e5c54df",
            "max": 190,
            "min": 0,
            "orientation": "horizontal",
            "style": "IPY_MODEL_df957d5b7b714af984a801465199e72e",
            "value": 190
          }
        },
        "7a3cacaaed284ea391a4d04f95141683": {
          "model_module": "@jupyter-widgets/controls",
          "model_module_version": "1.5.0",
          "model_name": "HTMLModel",
          "state": {
            "_dom_classes": [],
            "_model_module": "@jupyter-widgets/controls",
            "_model_module_version": "1.5.0",
            "_model_name": "HTMLModel",
            "_view_count": null,
            "_view_module": "@jupyter-widgets/controls",
            "_view_module_version": "1.5.0",
            "_view_name": "HTMLView",
            "description": "",
            "description_tooltip": null,
            "layout": "IPY_MODEL_dc41fa611668461ab6b6d2b1ab4dccd1",
            "placeholder": "​",
            "style": "IPY_MODEL_fce49f54b6f04f398cf3e86186280e06",
            "value": " 124/124 [00:00&lt;00:00, 9.04kB/s]"
          }
        },
        "7e7f782c7aee4bb6ad1c1d0008ca14b8": {
          "model_module": "@jupyter-widgets/base",
          "model_module_version": "1.2.0",
          "model_name": "LayoutModel",
          "state": {
            "_model_module": "@jupyter-widgets/base",
            "_model_module_version": "1.2.0",
            "_model_name": "LayoutModel",
            "_view_count": null,
            "_view_module": "@jupyter-widgets/base",
            "_view_module_version": "1.2.0",
            "_view_name": "LayoutView",
            "align_content": null,
            "align_items": null,
            "align_self": null,
            "border": null,
            "bottom": null,
            "display": null,
            "flex": null,
            "flex_flow": null,
            "grid_area": null,
            "grid_auto_columns": null,
            "grid_auto_flow": null,
            "grid_auto_rows": null,
            "grid_column": null,
            "grid_gap": null,
            "grid_row": null,
            "grid_template_areas": null,
            "grid_template_columns": null,
            "grid_template_rows": null,
            "height": null,
            "justify_content": null,
            "justify_items": null,
            "left": null,
            "margin": null,
            "max_height": null,
            "max_width": null,
            "min_height": null,
            "min_width": null,
            "object_fit": null,
            "object_position": null,
            "order": null,
            "overflow": null,
            "overflow_x": null,
            "overflow_y": null,
            "padding": null,
            "right": null,
            "top": null,
            "visibility": null,
            "width": null
          }
        },
        "84e51359b7f84956b7c1301a0886b099": {
          "model_module": "@jupyter-widgets/base",
          "model_module_version": "1.2.0",
          "model_name": "LayoutModel",
          "state": {
            "_model_module": "@jupyter-widgets/base",
            "_model_module_version": "1.2.0",
            "_model_name": "LayoutModel",
            "_view_count": null,
            "_view_module": "@jupyter-widgets/base",
            "_view_module_version": "1.2.0",
            "_view_name": "LayoutView",
            "align_content": null,
            "align_items": null,
            "align_self": null,
            "border": null,
            "bottom": null,
            "display": null,
            "flex": null,
            "flex_flow": null,
            "grid_area": null,
            "grid_auto_columns": null,
            "grid_auto_flow": null,
            "grid_auto_rows": null,
            "grid_column": null,
            "grid_gap": null,
            "grid_row": null,
            "grid_template_areas": null,
            "grid_template_columns": null,
            "grid_template_rows": null,
            "height": null,
            "justify_content": null,
            "justify_items": null,
            "left": null,
            "margin": null,
            "max_height": null,
            "max_width": null,
            "min_height": null,
            "min_width": null,
            "object_fit": null,
            "object_position": null,
            "order": null,
            "overflow": null,
            "overflow_x": null,
            "overflow_y": null,
            "padding": null,
            "right": null,
            "top": null,
            "visibility": null,
            "width": null
          }
        },
        "87d08e5535bd4904a0088569f8cb5327": {
          "model_module": "@jupyter-widgets/controls",
          "model_module_version": "1.5.0",
          "model_name": "HTMLModel",
          "state": {
            "_dom_classes": [],
            "_model_module": "@jupyter-widgets/controls",
            "_model_module_version": "1.5.0",
            "_model_name": "HTMLModel",
            "_view_count": null,
            "_view_module": "@jupyter-widgets/controls",
            "_view_module_version": "1.5.0",
            "_view_name": "HTMLView",
            "description": "",
            "description_tooltip": null,
            "layout": "IPY_MODEL_b35a7b74d99e4e0b8f501780385320dc",
            "placeholder": "​",
            "style": "IPY_MODEL_d1f32e895c774163b59d9d40081540a3",
            "value": "vocab.txt: 100%"
          }
        },
        "8b018dad308e49738373669bc8a33d91": {
          "model_module": "@jupyter-widgets/base",
          "model_module_version": "1.2.0",
          "model_name": "LayoutModel",
          "state": {
            "_model_module": "@jupyter-widgets/base",
            "_model_module_version": "1.2.0",
            "_model_name": "LayoutModel",
            "_view_count": null,
            "_view_module": "@jupyter-widgets/base",
            "_view_module_version": "1.2.0",
            "_view_name": "LayoutView",
            "align_content": null,
            "align_items": null,
            "align_self": null,
            "border": null,
            "bottom": null,
            "display": null,
            "flex": null,
            "flex_flow": null,
            "grid_area": null,
            "grid_auto_columns": null,
            "grid_auto_flow": null,
            "grid_auto_rows": null,
            "grid_column": null,
            "grid_gap": null,
            "grid_row": null,
            "grid_template_areas": null,
            "grid_template_columns": null,
            "grid_template_rows": null,
            "height": null,
            "justify_content": null,
            "justify_items": null,
            "left": null,
            "margin": null,
            "max_height": null,
            "max_width": null,
            "min_height": null,
            "min_width": null,
            "object_fit": null,
            "object_position": null,
            "order": null,
            "overflow": null,
            "overflow_x": null,
            "overflow_y": null,
            "padding": null,
            "right": null,
            "top": null,
            "visibility": null,
            "width": null
          }
        },
        "91dbe323c9854ce5aa32fc51c89854c2": {
          "model_module": "@jupyter-widgets/base",
          "model_module_version": "1.2.0",
          "model_name": "LayoutModel",
          "state": {
            "_model_module": "@jupyter-widgets/base",
            "_model_module_version": "1.2.0",
            "_model_name": "LayoutModel",
            "_view_count": null,
            "_view_module": "@jupyter-widgets/base",
            "_view_module_version": "1.2.0",
            "_view_name": "LayoutView",
            "align_content": null,
            "align_items": null,
            "align_self": null,
            "border": null,
            "bottom": null,
            "display": null,
            "flex": null,
            "flex_flow": null,
            "grid_area": null,
            "grid_auto_columns": null,
            "grid_auto_flow": null,
            "grid_auto_rows": null,
            "grid_column": null,
            "grid_gap": null,
            "grid_row": null,
            "grid_template_areas": null,
            "grid_template_columns": null,
            "grid_template_rows": null,
            "height": null,
            "justify_content": null,
            "justify_items": null,
            "left": null,
            "margin": null,
            "max_height": null,
            "max_width": null,
            "min_height": null,
            "min_width": null,
            "object_fit": null,
            "object_position": null,
            "order": null,
            "overflow": null,
            "overflow_x": null,
            "overflow_y": null,
            "padding": null,
            "right": null,
            "top": null,
            "visibility": null,
            "width": null
          }
        },
        "97179ab335c149649bf0bef1dbf22cb6": {
          "model_module": "@jupyter-widgets/controls",
          "model_module_version": "1.5.0",
          "model_name": "HBoxModel",
          "state": {
            "_dom_classes": [],
            "_model_module": "@jupyter-widgets/controls",
            "_model_module_version": "1.5.0",
            "_model_name": "HBoxModel",
            "_view_count": null,
            "_view_module": "@jupyter-widgets/controls",
            "_view_module_version": "1.5.0",
            "_view_name": "HBoxView",
            "box_style": "",
            "children": [
              "IPY_MODEL_055565d8c00549cd9b25a7e5196ecf9d",
              "IPY_MODEL_a6554c090e1d46e7bfbbc2c79eaea669",
              "IPY_MODEL_d33f9dbb71924871a99692e9f82d4e64"
            ],
            "layout": "IPY_MODEL_8b018dad308e49738373669bc8a33d91"
          }
        },
        "97205c159521496a863b2bea93b734b8": {
          "model_module": "@jupyter-widgets/controls",
          "model_module_version": "1.5.0",
          "model_name": "DescriptionStyleModel",
          "state": {
            "_model_module": "@jupyter-widgets/controls",
            "_model_module_version": "1.5.0",
            "_model_name": "DescriptionStyleModel",
            "_view_count": null,
            "_view_module": "@jupyter-widgets/base",
            "_view_module_version": "1.2.0",
            "_view_name": "StyleView",
            "description_width": ""
          }
        },
        "9ab871cfd3bf440e8261a4ea87e57030": {
          "model_module": "@jupyter-widgets/controls",
          "model_module_version": "1.5.0",
          "model_name": "HTMLModel",
          "state": {
            "_dom_classes": [],
            "_model_module": "@jupyter-widgets/controls",
            "_model_module_version": "1.5.0",
            "_model_name": "HTMLModel",
            "_view_count": null,
            "_view_module": "@jupyter-widgets/controls",
            "_view_module_version": "1.5.0",
            "_view_name": "HTMLView",
            "description": "",
            "description_tooltip": null,
            "layout": "IPY_MODEL_5d119b3435cc4d439fc6069ea4d97754",
            "placeholder": "​",
            "style": "IPY_MODEL_f4524f0b83b24a04b0e68be8f60dde37",
            "value": "model.safetensors: 100%"
          }
        },
        "9bdc5c7e98784e9a8adb615262353903": {
          "model_module": "@jupyter-widgets/controls",
          "model_module_version": "1.5.0",
          "model_name": "DescriptionStyleModel",
          "state": {
            "_model_module": "@jupyter-widgets/controls",
            "_model_module_version": "1.5.0",
            "_model_name": "DescriptionStyleModel",
            "_view_count": null,
            "_view_module": "@jupyter-widgets/base",
            "_view_module_version": "1.2.0",
            "_view_name": "StyleView",
            "description_width": ""
          }
        },
        "9c5b7f7d12094fd78047eeaebaf21aae": {
          "model_module": "@jupyter-widgets/controls",
          "model_module_version": "1.5.0",
          "model_name": "HBoxModel",
          "state": {
            "_dom_classes": [],
            "_model_module": "@jupyter-widgets/controls",
            "_model_module_version": "1.5.0",
            "_model_name": "HBoxModel",
            "_view_count": null,
            "_view_module": "@jupyter-widgets/controls",
            "_view_module_version": "1.5.0",
            "_view_name": "HBoxView",
            "box_style": "",
            "children": [
              "IPY_MODEL_6ae1a3e25f5c4ce582f36585e1106c92",
              "IPY_MODEL_5234b81efa7c42e4ad87bff43fc94986",
              "IPY_MODEL_7a3cacaaed284ea391a4d04f95141683"
            ],
            "layout": "IPY_MODEL_6978f0b73d084075acc20e486edb9328"
          }
        },
        "9fd7c6bf7ee74f3cabfdfcc8e603adaf": {
          "model_module": "@jupyter-widgets/base",
          "model_module_version": "1.2.0",
          "model_name": "LayoutModel",
          "state": {
            "_model_module": "@jupyter-widgets/base",
            "_model_module_version": "1.2.0",
            "_model_name": "LayoutModel",
            "_view_count": null,
            "_view_module": "@jupyter-widgets/base",
            "_view_module_version": "1.2.0",
            "_view_name": "LayoutView",
            "align_content": null,
            "align_items": null,
            "align_self": null,
            "border": null,
            "bottom": null,
            "display": null,
            "flex": null,
            "flex_flow": null,
            "grid_area": null,
            "grid_auto_columns": null,
            "grid_auto_flow": null,
            "grid_auto_rows": null,
            "grid_column": null,
            "grid_gap": null,
            "grid_row": null,
            "grid_template_areas": null,
            "grid_template_columns": null,
            "grid_template_rows": null,
            "height": null,
            "justify_content": null,
            "justify_items": null,
            "left": null,
            "margin": null,
            "max_height": null,
            "max_width": null,
            "min_height": null,
            "min_width": null,
            "object_fit": null,
            "object_position": null,
            "order": null,
            "overflow": null,
            "overflow_x": null,
            "overflow_y": null,
            "padding": null,
            "right": null,
            "top": null,
            "visibility": null,
            "width": null
          }
        },
        "a161691903554ca59171b5c446d7465e": {
          "model_module": "@jupyter-widgets/controls",
          "model_module_version": "1.5.0",
          "model_name": "HBoxModel",
          "state": {
            "_dom_classes": [],
            "_model_module": "@jupyter-widgets/controls",
            "_model_module_version": "1.5.0",
            "_model_name": "HBoxModel",
            "_view_count": null,
            "_view_module": "@jupyter-widgets/controls",
            "_view_module_version": "1.5.0",
            "_view_name": "HBoxView",
            "box_style": "",
            "children": [
              "IPY_MODEL_87d08e5535bd4904a0088569f8cb5327",
              "IPY_MODEL_a627852691ea47ada9942152ad6ddf47",
              "IPY_MODEL_cbf3d92fc3e1487dbadfc982dcacf789"
            ],
            "layout": "IPY_MODEL_6cb6e320624e4a38aa02d56eb3f864d8"
          }
        },
        "a4d5c612ee0c453b9ab21cab0713d459": {
          "model_module": "@jupyter-widgets/controls",
          "model_module_version": "1.5.0",
          "model_name": "HTMLModel",
          "state": {
            "_dom_classes": [],
            "_model_module": "@jupyter-widgets/controls",
            "_model_module_version": "1.5.0",
            "_model_name": "HTMLModel",
            "_view_count": null,
            "_view_module": "@jupyter-widgets/controls",
            "_view_module_version": "1.5.0",
            "_view_name": "HTMLView",
            "description": "",
            "description_tooltip": null,
            "layout": "IPY_MODEL_b32022753a404f28930d0e0a19d95ea2",
            "placeholder": "​",
            "style": "IPY_MODEL_ea836ad9a4a84192a0a6e17f02c1a7c1",
            "value": " 125/125 [00:00&lt;00:00, 8.83kB/s]"
          }
        },
        "a5e4558d769c45938677b282f4ded22d": {
          "model_module": "@jupyter-widgets/base",
          "model_module_version": "1.2.0",
          "model_name": "LayoutModel",
          "state": {
            "_model_module": "@jupyter-widgets/base",
            "_model_module_version": "1.2.0",
            "_model_name": "LayoutModel",
            "_view_count": null,
            "_view_module": "@jupyter-widgets/base",
            "_view_module_version": "1.2.0",
            "_view_name": "LayoutView",
            "align_content": null,
            "align_items": null,
            "align_self": null,
            "border": null,
            "bottom": null,
            "display": null,
            "flex": null,
            "flex_flow": null,
            "grid_area": null,
            "grid_auto_columns": null,
            "grid_auto_flow": null,
            "grid_auto_rows": null,
            "grid_column": null,
            "grid_gap": null,
            "grid_row": null,
            "grid_template_areas": null,
            "grid_template_columns": null,
            "grid_template_rows": null,
            "height": null,
            "justify_content": null,
            "justify_items": null,
            "left": null,
            "margin": null,
            "max_height": null,
            "max_width": null,
            "min_height": null,
            "min_width": null,
            "object_fit": null,
            "object_position": null,
            "order": null,
            "overflow": null,
            "overflow_x": null,
            "overflow_y": null,
            "padding": null,
            "right": null,
            "top": null,
            "visibility": null,
            "width": null
          }
        },
        "a627852691ea47ada9942152ad6ddf47": {
          "model_module": "@jupyter-widgets/controls",
          "model_module_version": "1.5.0",
          "model_name": "FloatProgressModel",
          "state": {
            "_dom_classes": [],
            "_model_module": "@jupyter-widgets/controls",
            "_model_module_version": "1.5.0",
            "_model_name": "FloatProgressModel",
            "_view_count": null,
            "_view_module": "@jupyter-widgets/controls",
            "_view_module_version": "1.5.0",
            "_view_name": "ProgressView",
            "bar_style": "success",
            "description": "",
            "description_tooltip": null,
            "layout": "IPY_MODEL_4ff6613ad5134f25981c7b8371f07507",
            "max": 231508,
            "min": 0,
            "orientation": "horizontal",
            "style": "IPY_MODEL_4dea580a99cb4c07afcefc7d4349d676",
            "value": 231508
          }
        },
        "a6554c090e1d46e7bfbbc2c79eaea669": {
          "model_module": "@jupyter-widgets/controls",
          "model_module_version": "1.5.0",
          "model_name": "FloatProgressModel",
          "state": {
            "_dom_classes": [],
            "_model_module": "@jupyter-widgets/controls",
            "_model_module_version": "1.5.0",
            "_model_name": "FloatProgressModel",
            "_view_count": null,
            "_view_module": "@jupyter-widgets/controls",
            "_view_module_version": "1.5.0",
            "_view_name": "ProgressView",
            "bar_style": "success",
            "description": "",
            "description_tooltip": null,
            "layout": "IPY_MODEL_26ba9875c07047c48bc874aa714faeed",
            "max": 366,
            "min": 0,
            "orientation": "horizontal",
            "style": "IPY_MODEL_56a9263d13ff426ba34e0c290f57769a",
            "value": 366
          }
        },
        "a9e4a71f55224a3bacfb4def565766cf": {
          "model_module": "@jupyter-widgets/controls",
          "model_module_version": "1.5.0",
          "model_name": "ProgressStyleModel",
          "state": {
            "_model_module": "@jupyter-widgets/controls",
            "_model_module_version": "1.5.0",
            "_model_name": "ProgressStyleModel",
            "_view_count": null,
            "_view_module": "@jupyter-widgets/base",
            "_view_module_version": "1.2.0",
            "_view_name": "StyleView",
            "bar_color": null,
            "description_width": ""
          }
        },
        "ad6347b77b7249a49e8f80ae4ee8eb0b": {
          "model_module": "@jupyter-widgets/controls",
          "model_module_version": "1.5.0",
          "model_name": "HTMLModel",
          "state": {
            "_dom_classes": [],
            "_model_module": "@jupyter-widgets/controls",
            "_model_module_version": "1.5.0",
            "_model_name": "HTMLModel",
            "_view_count": null,
            "_view_module": "@jupyter-widgets/controls",
            "_view_module_version": "1.5.0",
            "_view_name": "HTMLView",
            "description": "",
            "description_tooltip": null,
            "layout": "IPY_MODEL_0b0d8b3b1fa94c5cb55c22e4921562f3",
            "placeholder": "​",
            "style": "IPY_MODEL_47f6202561344d00a760a88980e0921b",
            "value": "special_tokens_map.json: 100%"
          }
        },
        "af4ae8a922114adc90e145adf7b2cd92": {
          "model_module": "@jupyter-widgets/controls",
          "model_module_version": "1.5.0",
          "model_name": "FloatProgressModel",
          "state": {
            "_dom_classes": [],
            "_model_module": "@jupyter-widgets/controls",
            "_model_module_version": "1.5.0",
            "_model_name": "FloatProgressModel",
            "_view_count": null,
            "_view_module": "@jupyter-widgets/controls",
            "_view_module_version": "1.5.0",
            "_view_name": "ProgressView",
            "bar_style": "success",
            "description": "",
            "description_tooltip": null,
            "layout": "IPY_MODEL_5e3ad5b218d04688a9f054f42756b2c8",
            "max": 52,
            "min": 0,
            "orientation": "horizontal",
            "style": "IPY_MODEL_a9e4a71f55224a3bacfb4def565766cf",
            "value": 52
          }
        },
        "afb80fd927354daea48f516a44834352": {
          "model_module": "@jupyter-widgets/controls",
          "model_module_version": "1.5.0",
          "model_name": "FloatProgressModel",
          "state": {
            "_dom_classes": [],
            "_model_module": "@jupyter-widgets/controls",
            "_model_module_version": "1.5.0",
            "_model_name": "FloatProgressModel",
            "_view_count": null,
            "_view_module": "@jupyter-widgets/controls",
            "_view_module_version": "1.5.0",
            "_view_name": "ProgressView",
            "bar_style": "success",
            "description": "",
            "description_tooltip": null,
            "layout": "IPY_MODEL_6e203b6c93374a1a9751203d9a4a23e6",
            "max": 349,
            "min": 0,
            "orientation": "horizontal",
            "style": "IPY_MODEL_b13bcf23fb834a99a8afd6c94298510b",
            "value": 349
          }
        },
        "afef292a50654af9b4403c2a3377e849": {
          "model_module": "@jupyter-widgets/controls",
          "model_module_version": "1.5.0",
          "model_name": "ProgressStyleModel",
          "state": {
            "_model_module": "@jupyter-widgets/controls",
            "_model_module_version": "1.5.0",
            "_model_name": "ProgressStyleModel",
            "_view_count": null,
            "_view_module": "@jupyter-widgets/base",
            "_view_module_version": "1.2.0",
            "_view_name": "StyleView",
            "bar_color": null,
            "description_width": ""
          }
        },
        "b13bcf23fb834a99a8afd6c94298510b": {
          "model_module": "@jupyter-widgets/controls",
          "model_module_version": "1.5.0",
          "model_name": "ProgressStyleModel",
          "state": {
            "_model_module": "@jupyter-widgets/controls",
            "_model_module_version": "1.5.0",
            "_model_name": "ProgressStyleModel",
            "_view_count": null,
            "_view_module": "@jupyter-widgets/base",
            "_view_module_version": "1.2.0",
            "_view_name": "StyleView",
            "bar_color": null,
            "description_width": ""
          }
        },
        "b32022753a404f28930d0e0a19d95ea2": {
          "model_module": "@jupyter-widgets/base",
          "model_module_version": "1.2.0",
          "model_name": "LayoutModel",
          "state": {
            "_model_module": "@jupyter-widgets/base",
            "_model_module_version": "1.2.0",
            "_model_name": "LayoutModel",
            "_view_count": null,
            "_view_module": "@jupyter-widgets/base",
            "_view_module_version": "1.2.0",
            "_view_name": "LayoutView",
            "align_content": null,
            "align_items": null,
            "align_self": null,
            "border": null,
            "bottom": null,
            "display": null,
            "flex": null,
            "flex_flow": null,
            "grid_area": null,
            "grid_auto_columns": null,
            "grid_auto_flow": null,
            "grid_auto_rows": null,
            "grid_column": null,
            "grid_gap": null,
            "grid_row": null,
            "grid_template_areas": null,
            "grid_template_columns": null,
            "grid_template_rows": null,
            "height": null,
            "justify_content": null,
            "justify_items": null,
            "left": null,
            "margin": null,
            "max_height": null,
            "max_width": null,
            "min_height": null,
            "min_width": null,
            "object_fit": null,
            "object_position": null,
            "order": null,
            "overflow": null,
            "overflow_x": null,
            "overflow_y": null,
            "padding": null,
            "right": null,
            "top": null,
            "visibility": null,
            "width": null
          }
        },
        "b35a7b74d99e4e0b8f501780385320dc": {
          "model_module": "@jupyter-widgets/base",
          "model_module_version": "1.2.0",
          "model_name": "LayoutModel",
          "state": {
            "_model_module": "@jupyter-widgets/base",
            "_model_module_version": "1.2.0",
            "_model_name": "LayoutModel",
            "_view_count": null,
            "_view_module": "@jupyter-widgets/base",
            "_view_module_version": "1.2.0",
            "_view_name": "LayoutView",
            "align_content": null,
            "align_items": null,
            "align_self": null,
            "border": null,
            "bottom": null,
            "display": null,
            "flex": null,
            "flex_flow": null,
            "grid_area": null,
            "grid_auto_columns": null,
            "grid_auto_flow": null,
            "grid_auto_rows": null,
            "grid_column": null,
            "grid_gap": null,
            "grid_row": null,
            "grid_template_areas": null,
            "grid_template_columns": null,
            "grid_template_rows": null,
            "height": null,
            "justify_content": null,
            "justify_items": null,
            "left": null,
            "margin": null,
            "max_height": null,
            "max_width": null,
            "min_height": null,
            "min_width": null,
            "object_fit": null,
            "object_position": null,
            "order": null,
            "overflow": null,
            "overflow_x": null,
            "overflow_y": null,
            "padding": null,
            "right": null,
            "top": null,
            "visibility": null,
            "width": null
          }
        },
        "b76e86bbe2e24bfa8eadfe09e67594d2": {
          "model_module": "@jupyter-widgets/controls",
          "model_module_version": "1.5.0",
          "model_name": "DescriptionStyleModel",
          "state": {
            "_model_module": "@jupyter-widgets/controls",
            "_model_module_version": "1.5.0",
            "_model_name": "DescriptionStyleModel",
            "_view_count": null,
            "_view_module": "@jupyter-widgets/base",
            "_view_module_version": "1.2.0",
            "_view_name": "StyleView",
            "description_width": ""
          }
        },
        "ba8f2423a68c444bb9521647ed066add": {
          "model_module": "@jupyter-widgets/controls",
          "model_module_version": "1.5.0",
          "model_name": "HBoxModel",
          "state": {
            "_dom_classes": [],
            "_model_module": "@jupyter-widgets/controls",
            "_model_module_version": "1.5.0",
            "_model_name": "HBoxModel",
            "_view_count": null,
            "_view_module": "@jupyter-widgets/controls",
            "_view_module_version": "1.5.0",
            "_view_name": "HBoxView",
            "box_style": "",
            "children": [
              "IPY_MODEL_9ab871cfd3bf440e8261a4ea87e57030",
              "IPY_MODEL_5ca6cec9c2c94a48bf5fcf9eb4531fb6",
              "IPY_MODEL_d25ed02a7e8848c6be168badc50f19c7"
            ],
            "layout": "IPY_MODEL_7e7f782c7aee4bb6ad1c1d0008ca14b8"
          }
        },
        "bb2b5b2b5b5d49f987f2c5f4be1b6773": {
          "model_module": "@jupyter-widgets/base",
          "model_module_version": "1.2.0",
          "model_name": "LayoutModel",
          "state": {
            "_model_module": "@jupyter-widgets/base",
            "_model_module_version": "1.2.0",
            "_model_name": "LayoutModel",
            "_view_count": null,
            "_view_module": "@jupyter-widgets/base",
            "_view_module_version": "1.2.0",
            "_view_name": "LayoutView",
            "align_content": null,
            "align_items": null,
            "align_self": null,
            "border": null,
            "bottom": null,
            "display": null,
            "flex": null,
            "flex_flow": null,
            "grid_area": null,
            "grid_auto_columns": null,
            "grid_auto_flow": null,
            "grid_auto_rows": null,
            "grid_column": null,
            "grid_gap": null,
            "grid_row": null,
            "grid_template_areas": null,
            "grid_template_columns": null,
            "grid_template_rows": null,
            "height": null,
            "justify_content": null,
            "justify_items": null,
            "left": null,
            "margin": null,
            "max_height": null,
            "max_width": null,
            "min_height": null,
            "min_width": null,
            "object_fit": null,
            "object_position": null,
            "order": null,
            "overflow": null,
            "overflow_x": null,
            "overflow_y": null,
            "padding": null,
            "right": null,
            "top": null,
            "visibility": null,
            "width": null
          }
        },
        "bdc78ca626284e02a43cd82c5b2dadf4": {
          "model_module": "@jupyter-widgets/controls",
          "model_module_version": "1.5.0",
          "model_name": "DescriptionStyleModel",
          "state": {
            "_model_module": "@jupyter-widgets/controls",
            "_model_module_version": "1.5.0",
            "_model_name": "DescriptionStyleModel",
            "_view_count": null,
            "_view_module": "@jupyter-widgets/base",
            "_view_module_version": "1.2.0",
            "_view_name": "StyleView",
            "description_width": ""
          }
        },
        "c0b8da03c3bf40879495215833629f2b": {
          "model_module": "@jupyter-widgets/base",
          "model_module_version": "1.2.0",
          "model_name": "LayoutModel",
          "state": {
            "_model_module": "@jupyter-widgets/base",
            "_model_module_version": "1.2.0",
            "_model_name": "LayoutModel",
            "_view_count": null,
            "_view_module": "@jupyter-widgets/base",
            "_view_module_version": "1.2.0",
            "_view_name": "LayoutView",
            "align_content": null,
            "align_items": null,
            "align_self": null,
            "border": null,
            "bottom": null,
            "display": null,
            "flex": null,
            "flex_flow": null,
            "grid_area": null,
            "grid_auto_columns": null,
            "grid_auto_flow": null,
            "grid_auto_rows": null,
            "grid_column": null,
            "grid_gap": null,
            "grid_row": null,
            "grid_template_areas": null,
            "grid_template_columns": null,
            "grid_template_rows": null,
            "height": null,
            "justify_content": null,
            "justify_items": null,
            "left": null,
            "margin": null,
            "max_height": null,
            "max_width": null,
            "min_height": null,
            "min_width": null,
            "object_fit": null,
            "object_position": null,
            "order": null,
            "overflow": null,
            "overflow_x": null,
            "overflow_y": null,
            "padding": null,
            "right": null,
            "top": null,
            "visibility": null,
            "width": null
          }
        },
        "c10823ccda8d4b479204da3aaaafc4e5": {
          "model_module": "@jupyter-widgets/base",
          "model_module_version": "1.2.0",
          "model_name": "LayoutModel",
          "state": {
            "_model_module": "@jupyter-widgets/base",
            "_model_module_version": "1.2.0",
            "_model_name": "LayoutModel",
            "_view_count": null,
            "_view_module": "@jupyter-widgets/base",
            "_view_module_version": "1.2.0",
            "_view_name": "LayoutView",
            "align_content": null,
            "align_items": null,
            "align_self": null,
            "border": null,
            "bottom": null,
            "display": null,
            "flex": null,
            "flex_flow": null,
            "grid_area": null,
            "grid_auto_columns": null,
            "grid_auto_flow": null,
            "grid_auto_rows": null,
            "grid_column": null,
            "grid_gap": null,
            "grid_row": null,
            "grid_template_areas": null,
            "grid_template_columns": null,
            "grid_template_rows": null,
            "height": null,
            "justify_content": null,
            "justify_items": null,
            "left": null,
            "margin": null,
            "max_height": null,
            "max_width": null,
            "min_height": null,
            "min_width": null,
            "object_fit": null,
            "object_position": null,
            "order": null,
            "overflow": null,
            "overflow_x": null,
            "overflow_y": null,
            "padding": null,
            "right": null,
            "top": null,
            "visibility": null,
            "width": null
          }
        },
        "c99c1de9a24241c2bf7e950095d611ac": {
          "model_module": "@jupyter-widgets/base",
          "model_module_version": "1.2.0",
          "model_name": "LayoutModel",
          "state": {
            "_model_module": "@jupyter-widgets/base",
            "_model_module_version": "1.2.0",
            "_model_name": "LayoutModel",
            "_view_count": null,
            "_view_module": "@jupyter-widgets/base",
            "_view_module_version": "1.2.0",
            "_view_name": "LayoutView",
            "align_content": null,
            "align_items": null,
            "align_self": null,
            "border": null,
            "bottom": null,
            "display": null,
            "flex": null,
            "flex_flow": null,
            "grid_area": null,
            "grid_auto_columns": null,
            "grid_auto_flow": null,
            "grid_auto_rows": null,
            "grid_column": null,
            "grid_gap": null,
            "grid_row": null,
            "grid_template_areas": null,
            "grid_template_columns": null,
            "grid_template_rows": null,
            "height": null,
            "justify_content": null,
            "justify_items": null,
            "left": null,
            "margin": null,
            "max_height": null,
            "max_width": null,
            "min_height": null,
            "min_width": null,
            "object_fit": null,
            "object_position": null,
            "order": null,
            "overflow": null,
            "overflow_x": null,
            "overflow_y": null,
            "padding": null,
            "right": null,
            "top": null,
            "visibility": null,
            "width": null
          }
        },
        "cbf3d92fc3e1487dbadfc982dcacf789": {
          "model_module": "@jupyter-widgets/controls",
          "model_module_version": "1.5.0",
          "model_name": "HTMLModel",
          "state": {
            "_dom_classes": [],
            "_model_module": "@jupyter-widgets/controls",
            "_model_module_version": "1.5.0",
            "_model_name": "HTMLModel",
            "_view_count": null,
            "_view_module": "@jupyter-widgets/controls",
            "_view_module_version": "1.5.0",
            "_view_name": "HTMLView",
            "description": "",
            "description_tooltip": null,
            "layout": "IPY_MODEL_5a2ed8a5936e4f3e9dce054ef60dd12a",
            "placeholder": "​",
            "style": "IPY_MODEL_cce6069ab4cf4826a7482d0896db30ad",
            "value": " 232k/232k [00:00&lt;00:00, 8.81MB/s]"
          }
        },
        "cc645dda687b43f79ebd46ceb13c8b11": {
          "model_module": "@jupyter-widgets/controls",
          "model_module_version": "1.5.0",
          "model_name": "DescriptionStyleModel",
          "state": {
            "_model_module": "@jupyter-widgets/controls",
            "_model_module_version": "1.5.0",
            "_model_name": "DescriptionStyleModel",
            "_view_count": null,
            "_view_module": "@jupyter-widgets/base",
            "_view_module_version": "1.2.0",
            "_view_name": "StyleView",
            "description_width": ""
          }
        },
        "cce6069ab4cf4826a7482d0896db30ad": {
          "model_module": "@jupyter-widgets/controls",
          "model_module_version": "1.5.0",
          "model_name": "DescriptionStyleModel",
          "state": {
            "_model_module": "@jupyter-widgets/controls",
            "_model_module_version": "1.5.0",
            "_model_name": "DescriptionStyleModel",
            "_view_count": null,
            "_view_module": "@jupyter-widgets/base",
            "_view_module_version": "1.2.0",
            "_view_name": "StyleView",
            "description_width": ""
          }
        },
        "cd92ffafad57402692722d190af3c28d": {
          "model_module": "@jupyter-widgets/controls",
          "model_module_version": "1.5.0",
          "model_name": "ProgressStyleModel",
          "state": {
            "_model_module": "@jupyter-widgets/controls",
            "_model_module_version": "1.5.0",
            "_model_name": "ProgressStyleModel",
            "_view_count": null,
            "_view_module": "@jupyter-widgets/base",
            "_view_module_version": "1.2.0",
            "_view_name": "StyleView",
            "bar_color": null,
            "description_width": ""
          }
        },
        "d1f32e895c774163b59d9d40081540a3": {
          "model_module": "@jupyter-widgets/controls",
          "model_module_version": "1.5.0",
          "model_name": "DescriptionStyleModel",
          "state": {
            "_model_module": "@jupyter-widgets/controls",
            "_model_module_version": "1.5.0",
            "_model_name": "DescriptionStyleModel",
            "_view_count": null,
            "_view_module": "@jupyter-widgets/base",
            "_view_module_version": "1.2.0",
            "_view_name": "StyleView",
            "description_width": ""
          }
        },
        "d25934a5065f4ae1b1ea5cb5f384752d": {
          "model_module": "@jupyter-widgets/base",
          "model_module_version": "1.2.0",
          "model_name": "LayoutModel",
          "state": {
            "_model_module": "@jupyter-widgets/base",
            "_model_module_version": "1.2.0",
            "_model_name": "LayoutModel",
            "_view_count": null,
            "_view_module": "@jupyter-widgets/base",
            "_view_module_version": "1.2.0",
            "_view_name": "LayoutView",
            "align_content": null,
            "align_items": null,
            "align_self": null,
            "border": null,
            "bottom": null,
            "display": null,
            "flex": null,
            "flex_flow": null,
            "grid_area": null,
            "grid_auto_columns": null,
            "grid_auto_flow": null,
            "grid_auto_rows": null,
            "grid_column": null,
            "grid_gap": null,
            "grid_row": null,
            "grid_template_areas": null,
            "grid_template_columns": null,
            "grid_template_rows": null,
            "height": null,
            "justify_content": null,
            "justify_items": null,
            "left": null,
            "margin": null,
            "max_height": null,
            "max_width": null,
            "min_height": null,
            "min_width": null,
            "object_fit": null,
            "object_position": null,
            "order": null,
            "overflow": null,
            "overflow_x": null,
            "overflow_y": null,
            "padding": null,
            "right": null,
            "top": null,
            "visibility": null,
            "width": null
          }
        },
        "d25ed02a7e8848c6be168badc50f19c7": {
          "model_module": "@jupyter-widgets/controls",
          "model_module_version": "1.5.0",
          "model_name": "HTMLModel",
          "state": {
            "_dom_classes": [],
            "_model_module": "@jupyter-widgets/controls",
            "_model_module_version": "1.5.0",
            "_model_name": "HTMLModel",
            "_view_count": null,
            "_view_module": "@jupyter-widgets/controls",
            "_view_module_version": "1.5.0",
            "_view_name": "HTMLView",
            "description": "",
            "description_tooltip": null,
            "layout": "IPY_MODEL_755c73e145bb479e98034aaf6d919f7f",
            "placeholder": "​",
            "style": "IPY_MODEL_4e05dfea6d5d4d52bbe3ac0f45a48397",
            "value": " 133M/133M [00:00&lt;00:00, 169MB/s]"
          }
        },
        "d269b5df449b40d5952bc3bb5e3b60e1": {
          "model_module": "@jupyter-widgets/controls",
          "model_module_version": "1.5.0",
          "model_name": "HTMLModel",
          "state": {
            "_dom_classes": [],
            "_model_module": "@jupyter-widgets/controls",
            "_model_module_version": "1.5.0",
            "_model_name": "HTMLModel",
            "_view_count": null,
            "_view_module": "@jupyter-widgets/controls",
            "_view_module_version": "1.5.0",
            "_view_name": "HTMLView",
            "description": "",
            "description_tooltip": null,
            "layout": "IPY_MODEL_c0b8da03c3bf40879495215833629f2b",
            "placeholder": "​",
            "style": "IPY_MODEL_fd8ac805d48040439440297a815b9aac",
            "value": " 684/684 [00:00&lt;00:00, 55.1kB/s]"
          }
        },
        "d33a41bc6ee64d11adaa825cd53fdabd": {
          "model_module": "@jupyter-widgets/controls",
          "model_module_version": "1.5.0",
          "model_name": "ProgressStyleModel",
          "state": {
            "_model_module": "@jupyter-widgets/controls",
            "_model_module_version": "1.5.0",
            "_model_name": "ProgressStyleModel",
            "_view_count": null,
            "_view_module": "@jupyter-widgets/base",
            "_view_module_version": "1.2.0",
            "_view_name": "StyleView",
            "bar_color": null,
            "description_width": ""
          }
        },
        "d33f9dbb71924871a99692e9f82d4e64": {
          "model_module": "@jupyter-widgets/controls",
          "model_module_version": "1.5.0",
          "model_name": "HTMLModel",
          "state": {
            "_dom_classes": [],
            "_model_module": "@jupyter-widgets/controls",
            "_model_module_version": "1.5.0",
            "_model_name": "HTMLModel",
            "_view_count": null,
            "_view_module": "@jupyter-widgets/controls",
            "_view_module_version": "1.5.0",
            "_view_name": "HTMLView",
            "description": "",
            "description_tooltip": null,
            "layout": "IPY_MODEL_509f1f3b01cb437cbaffe847ceb57c7c",
            "placeholder": "​",
            "style": "IPY_MODEL_16f4558829f54d1d841d733644238957",
            "value": " 366/366 [00:00&lt;00:00, 19.7kB/s]"
          }
        },
        "d631a066ab914d109b2cc547fb50ce38": {
          "model_module": "@jupyter-widgets/base",
          "model_module_version": "1.2.0",
          "model_name": "LayoutModel",
          "state": {
            "_model_module": "@jupyter-widgets/base",
            "_model_module_version": "1.2.0",
            "_model_name": "LayoutModel",
            "_view_count": null,
            "_view_module": "@jupyter-widgets/base",
            "_view_module_version": "1.2.0",
            "_view_name": "LayoutView",
            "align_content": null,
            "align_items": null,
            "align_self": null,
            "border": null,
            "bottom": null,
            "display": null,
            "flex": null,
            "flex_flow": null,
            "grid_area": null,
            "grid_auto_columns": null,
            "grid_auto_flow": null,
            "grid_auto_rows": null,
            "grid_column": null,
            "grid_gap": null,
            "grid_row": null,
            "grid_template_areas": null,
            "grid_template_columns": null,
            "grid_template_rows": null,
            "height": null,
            "justify_content": null,
            "justify_items": null,
            "left": null,
            "margin": null,
            "max_height": null,
            "max_width": null,
            "min_height": null,
            "min_width": null,
            "object_fit": null,
            "object_position": null,
            "order": null,
            "overflow": null,
            "overflow_x": null,
            "overflow_y": null,
            "padding": null,
            "right": null,
            "top": null,
            "visibility": null,
            "width": null
          }
        },
        "d947a148cdf847efa70a2e2db76b535c": {
          "model_module": "@jupyter-widgets/controls",
          "model_module_version": "1.5.0",
          "model_name": "HBoxModel",
          "state": {
            "_dom_classes": [],
            "_model_module": "@jupyter-widgets/controls",
            "_model_module_version": "1.5.0",
            "_model_name": "HBoxModel",
            "_view_count": null,
            "_view_module": "@jupyter-widgets/controls",
            "_view_module_version": "1.5.0",
            "_view_name": "HBoxView",
            "box_style": "",
            "children": [
              "IPY_MODEL_ad6347b77b7249a49e8f80ae4ee8eb0b",
              "IPY_MODEL_ea631a84c2b2416880edbe0a4d22114d",
              "IPY_MODEL_a4d5c612ee0c453b9ab21cab0713d459"
            ],
            "layout": "IPY_MODEL_396a032318d74a80859a45173508ad82"
          }
        },
        "dc41fa611668461ab6b6d2b1ab4dccd1": {
          "model_module": "@jupyter-widgets/base",
          "model_module_version": "1.2.0",
          "model_name": "LayoutModel",
          "state": {
            "_model_module": "@jupyter-widgets/base",
            "_model_module_version": "1.2.0",
            "_model_name": "LayoutModel",
            "_view_count": null,
            "_view_module": "@jupyter-widgets/base",
            "_view_module_version": "1.2.0",
            "_view_name": "LayoutView",
            "align_content": null,
            "align_items": null,
            "align_self": null,
            "border": null,
            "bottom": null,
            "display": null,
            "flex": null,
            "flex_flow": null,
            "grid_area": null,
            "grid_auto_columns": null,
            "grid_auto_flow": null,
            "grid_auto_rows": null,
            "grid_column": null,
            "grid_gap": null,
            "grid_row": null,
            "grid_template_areas": null,
            "grid_template_columns": null,
            "grid_template_rows": null,
            "height": null,
            "justify_content": null,
            "justify_items": null,
            "left": null,
            "margin": null,
            "max_height": null,
            "max_width": null,
            "min_height": null,
            "min_width": null,
            "object_fit": null,
            "object_position": null,
            "order": null,
            "overflow": null,
            "overflow_x": null,
            "overflow_y": null,
            "padding": null,
            "right": null,
            "top": null,
            "visibility": null,
            "width": null
          }
        },
        "df957d5b7b714af984a801465199e72e": {
          "model_module": "@jupyter-widgets/controls",
          "model_module_version": "1.5.0",
          "model_name": "ProgressStyleModel",
          "state": {
            "_model_module": "@jupyter-widgets/controls",
            "_model_module_version": "1.5.0",
            "_model_name": "ProgressStyleModel",
            "_view_count": null,
            "_view_module": "@jupyter-widgets/base",
            "_view_module_version": "1.2.0",
            "_view_name": "StyleView",
            "bar_color": null,
            "description_width": ""
          }
        },
        "e2b2b587698148c5a26d0d020e5c54df": {
          "model_module": "@jupyter-widgets/base",
          "model_module_version": "1.2.0",
          "model_name": "LayoutModel",
          "state": {
            "_model_module": "@jupyter-widgets/base",
            "_model_module_version": "1.2.0",
            "_model_name": "LayoutModel",
            "_view_count": null,
            "_view_module": "@jupyter-widgets/base",
            "_view_module_version": "1.2.0",
            "_view_name": "LayoutView",
            "align_content": null,
            "align_items": null,
            "align_self": null,
            "border": null,
            "bottom": null,
            "display": null,
            "flex": null,
            "flex_flow": null,
            "grid_area": null,
            "grid_auto_columns": null,
            "grid_auto_flow": null,
            "grid_auto_rows": null,
            "grid_column": null,
            "grid_gap": null,
            "grid_row": null,
            "grid_template_areas": null,
            "grid_template_columns": null,
            "grid_template_rows": null,
            "height": null,
            "justify_content": null,
            "justify_items": null,
            "left": null,
            "margin": null,
            "max_height": null,
            "max_width": null,
            "min_height": null,
            "min_width": null,
            "object_fit": null,
            "object_position": null,
            "order": null,
            "overflow": null,
            "overflow_x": null,
            "overflow_y": null,
            "padding": null,
            "right": null,
            "top": null,
            "visibility": null,
            "width": null
          }
        },
        "e42c2105ce36427686013ffe03d6f40b": {
          "model_module": "@jupyter-widgets/base",
          "model_module_version": "1.2.0",
          "model_name": "LayoutModel",
          "state": {
            "_model_module": "@jupyter-widgets/base",
            "_model_module_version": "1.2.0",
            "_model_name": "LayoutModel",
            "_view_count": null,
            "_view_module": "@jupyter-widgets/base",
            "_view_module_version": "1.2.0",
            "_view_name": "LayoutView",
            "align_content": null,
            "align_items": null,
            "align_self": null,
            "border": null,
            "bottom": null,
            "display": null,
            "flex": null,
            "flex_flow": null,
            "grid_area": null,
            "grid_auto_columns": null,
            "grid_auto_flow": null,
            "grid_auto_rows": null,
            "grid_column": null,
            "grid_gap": null,
            "grid_row": null,
            "grid_template_areas": null,
            "grid_template_columns": null,
            "grid_template_rows": null,
            "height": null,
            "justify_content": null,
            "justify_items": null,
            "left": null,
            "margin": null,
            "max_height": null,
            "max_width": null,
            "min_height": null,
            "min_width": null,
            "object_fit": null,
            "object_position": null,
            "order": null,
            "overflow": null,
            "overflow_x": null,
            "overflow_y": null,
            "padding": null,
            "right": null,
            "top": null,
            "visibility": null,
            "width": null
          }
        },
        "e542192873544e66af22479537f392c8": {
          "model_module": "@jupyter-widgets/controls",
          "model_module_version": "1.5.0",
          "model_name": "ProgressStyleModel",
          "state": {
            "_model_module": "@jupyter-widgets/controls",
            "_model_module_version": "1.5.0",
            "_model_name": "ProgressStyleModel",
            "_view_count": null,
            "_view_module": "@jupyter-widgets/base",
            "_view_module_version": "1.2.0",
            "_view_name": "StyleView",
            "bar_color": null,
            "description_width": ""
          }
        },
        "e7f040aff78446188574be37c0ba4d1c": {
          "model_module": "@jupyter-widgets/controls",
          "model_module_version": "1.5.0",
          "model_name": "FloatProgressModel",
          "state": {
            "_dom_classes": [],
            "_model_module": "@jupyter-widgets/controls",
            "_model_module_version": "1.5.0",
            "_model_name": "FloatProgressModel",
            "_view_count": null,
            "_view_module": "@jupyter-widgets/controls",
            "_view_module_version": "1.5.0",
            "_view_name": "ProgressView",
            "bar_style": "success",
            "description": "",
            "description_tooltip": null,
            "layout": "IPY_MODEL_e42c2105ce36427686013ffe03d6f40b",
            "max": 711396,
            "min": 0,
            "orientation": "horizontal",
            "style": "IPY_MODEL_4aae66bcb7b54e63beee38a934c92ba4",
            "value": 711396
          }
        },
        "ea631a84c2b2416880edbe0a4d22114d": {
          "model_module": "@jupyter-widgets/controls",
          "model_module_version": "1.5.0",
          "model_name": "FloatProgressModel",
          "state": {
            "_dom_classes": [],
            "_model_module": "@jupyter-widgets/controls",
            "_model_module_version": "1.5.0",
            "_model_name": "FloatProgressModel",
            "_view_count": null,
            "_view_module": "@jupyter-widgets/controls",
            "_view_module_version": "1.5.0",
            "_view_name": "ProgressView",
            "bar_style": "success",
            "description": "",
            "description_tooltip": null,
            "layout": "IPY_MODEL_133d42281da84b6ca6f2bf6d7b2af061",
            "max": 125,
            "min": 0,
            "orientation": "horizontal",
            "style": "IPY_MODEL_e542192873544e66af22479537f392c8",
            "value": 125
          }
        },
        "ea836ad9a4a84192a0a6e17f02c1a7c1": {
          "model_module": "@jupyter-widgets/controls",
          "model_module_version": "1.5.0",
          "model_name": "DescriptionStyleModel",
          "state": {
            "_model_module": "@jupyter-widgets/controls",
            "_model_module_version": "1.5.0",
            "_model_name": "DescriptionStyleModel",
            "_view_count": null,
            "_view_module": "@jupyter-widgets/base",
            "_view_module_version": "1.2.0",
            "_view_name": "StyleView",
            "description_width": ""
          }
        },
        "eabd9cd215f14b7fb83ad4893ddf4f72": {
          "model_module": "@jupyter-widgets/controls",
          "model_module_version": "1.5.0",
          "model_name": "FloatProgressModel",
          "state": {
            "_dom_classes": [],
            "_model_module": "@jupyter-widgets/controls",
            "_model_module_version": "1.5.0",
            "_model_name": "FloatProgressModel",
            "_view_count": null,
            "_view_module": "@jupyter-widgets/controls",
            "_view_module_version": "1.5.0",
            "_view_name": "ProgressView",
            "bar_style": "success",
            "description": "",
            "description_tooltip": null,
            "layout": "IPY_MODEL_9fd7c6bf7ee74f3cabfdfcc8e603adaf",
            "max": 684,
            "min": 0,
            "orientation": "horizontal",
            "style": "IPY_MODEL_cd92ffafad57402692722d190af3c28d",
            "value": 684
          }
        },
        "eb09d6cd301945e19bdb3a6dbac8ffbd": {
          "model_module": "@jupyter-widgets/controls",
          "model_module_version": "1.5.0",
          "model_name": "HTMLModel",
          "state": {
            "_dom_classes": [],
            "_model_module": "@jupyter-widgets/controls",
            "_model_module_version": "1.5.0",
            "_model_name": "HTMLModel",
            "_view_count": null,
            "_view_module": "@jupyter-widgets/controls",
            "_view_module_version": "1.5.0",
            "_view_name": "HTMLView",
            "description": "",
            "description_tooltip": null,
            "layout": "IPY_MODEL_c99c1de9a24241c2bf7e950095d611ac",
            "placeholder": "​",
            "style": "IPY_MODEL_1090fe96f63941709aa0e2f494c2cea2",
            "value": " 52.0/52.0 [00:00&lt;00:00, 3.95kB/s]"
          }
        },
        "eb740961d05f48eeb8d557ba5cb4d345": {
          "model_module": "@jupyter-widgets/controls",
          "model_module_version": "1.5.0",
          "model_name": "HTMLModel",
          "state": {
            "_dom_classes": [],
            "_model_module": "@jupyter-widgets/controls",
            "_model_module_version": "1.5.0",
            "_model_name": "HTMLModel",
            "_view_count": null,
            "_view_module": "@jupyter-widgets/controls",
            "_view_module_version": "1.5.0",
            "_view_name": "HTMLView",
            "description": "",
            "description_tooltip": null,
            "layout": "IPY_MODEL_d25934a5065f4ae1b1ea5cb5f384752d",
            "placeholder": "​",
            "style": "IPY_MODEL_ff0be1217efe4447b9b63baa8f1ef09d",
            "value": "1_Pooling/config.json: 100%"
          }
        },
        "ee4b683bd5b5410c9071024e0664936a": {
          "model_module": "@jupyter-widgets/base",
          "model_module_version": "1.2.0",
          "model_name": "LayoutModel",
          "state": {
            "_model_module": "@jupyter-widgets/base",
            "_model_module_version": "1.2.0",
            "_model_name": "LayoutModel",
            "_view_count": null,
            "_view_module": "@jupyter-widgets/base",
            "_view_module_version": "1.2.0",
            "_view_name": "LayoutView",
            "align_content": null,
            "align_items": null,
            "align_self": null,
            "border": null,
            "bottom": null,
            "display": null,
            "flex": null,
            "flex_flow": null,
            "grid_area": null,
            "grid_auto_columns": null,
            "grid_auto_flow": null,
            "grid_auto_rows": null,
            "grid_column": null,
            "grid_gap": null,
            "grid_row": null,
            "grid_template_areas": null,
            "grid_template_columns": null,
            "grid_template_rows": null,
            "height": null,
            "justify_content": null,
            "justify_items": null,
            "left": null,
            "margin": null,
            "max_height": null,
            "max_width": null,
            "min_height": null,
            "min_width": null,
            "object_fit": null,
            "object_position": null,
            "order": null,
            "overflow": null,
            "overflow_x": null,
            "overflow_y": null,
            "padding": null,
            "right": null,
            "top": null,
            "visibility": null,
            "width": null
          }
        },
        "ef830d7f58664a09ad57f7c494223ade": {
          "model_module": "@jupyter-widgets/controls",
          "model_module_version": "1.5.0",
          "model_name": "HTMLModel",
          "state": {
            "_dom_classes": [],
            "_model_module": "@jupyter-widgets/controls",
            "_model_module_version": "1.5.0",
            "_model_name": "HTMLModel",
            "_view_count": null,
            "_view_module": "@jupyter-widgets/controls",
            "_view_module_version": "1.5.0",
            "_view_name": "HTMLView",
            "description": "",
            "description_tooltip": null,
            "layout": "IPY_MODEL_0bc8dc66b0504c3b9c5cb33a56225545",
            "placeholder": "​",
            "style": "IPY_MODEL_9bdc5c7e98784e9a8adb615262353903",
            "value": "sentence_bert_config.json: 100%"
          }
        },
        "f0a145d6a37e408c9c704a5eff54eaf8": {
          "model_module": "@jupyter-widgets/controls",
          "model_module_version": "1.5.0",
          "model_name": "DescriptionStyleModel",
          "state": {
            "_model_module": "@jupyter-widgets/controls",
            "_model_module_version": "1.5.0",
            "_model_name": "DescriptionStyleModel",
            "_view_count": null,
            "_view_module": "@jupyter-widgets/base",
            "_view_module_version": "1.2.0",
            "_view_name": "StyleView",
            "description_width": ""
          }
        },
        "f4524f0b83b24a04b0e68be8f60dde37": {
          "model_module": "@jupyter-widgets/controls",
          "model_module_version": "1.5.0",
          "model_name": "DescriptionStyleModel",
          "state": {
            "_model_module": "@jupyter-widgets/controls",
            "_model_module_version": "1.5.0",
            "_model_name": "DescriptionStyleModel",
            "_view_count": null,
            "_view_module": "@jupyter-widgets/base",
            "_view_module_version": "1.2.0",
            "_view_name": "StyleView",
            "description_width": ""
          }
        },
        "f6076097872b47c7a7f0dfd4fd82eb5b": {
          "model_module": "@jupyter-widgets/controls",
          "model_module_version": "1.5.0",
          "model_name": "HTMLModel",
          "state": {
            "_dom_classes": [],
            "_model_module": "@jupyter-widgets/controls",
            "_model_module_version": "1.5.0",
            "_model_name": "HTMLModel",
            "_view_count": null,
            "_view_module": "@jupyter-widgets/controls",
            "_view_module_version": "1.5.0",
            "_view_name": "HTMLView",
            "description": "",
            "description_tooltip": null,
            "layout": "IPY_MODEL_59b1576e77ce4fa7b501373cb172f666",
            "placeholder": "​",
            "style": "IPY_MODEL_5ab9d52d347d40c09348f5ef571f4d62",
            "value": "README.md: 100%"
          }
        },
        "fa526c958dd44c1fae041bfebf8845fc": {
          "model_module": "@jupyter-widgets/controls",
          "model_module_version": "1.5.0",
          "model_name": "HTMLModel",
          "state": {
            "_dom_classes": [],
            "_model_module": "@jupyter-widgets/controls",
            "_model_module_version": "1.5.0",
            "_model_name": "HTMLModel",
            "_view_count": null,
            "_view_module": "@jupyter-widgets/controls",
            "_view_module_version": "1.5.0",
            "_view_name": "HTMLView",
            "description": "",
            "description_tooltip": null,
            "layout": "IPY_MODEL_84e51359b7f84956b7c1301a0886b099",
            "placeholder": "​",
            "style": "IPY_MODEL_591b8828f47b45bf99350dfc56fccef8",
            "value": " 90.8k/90.8k [00:00&lt;00:00, 3.64MB/s]"
          }
        },
        "fce49f54b6f04f398cf3e86186280e06": {
          "model_module": "@jupyter-widgets/controls",
          "model_module_version": "1.5.0",
          "model_name": "DescriptionStyleModel",
          "state": {
            "_model_module": "@jupyter-widgets/controls",
            "_model_module_version": "1.5.0",
            "_model_name": "DescriptionStyleModel",
            "_view_count": null,
            "_view_module": "@jupyter-widgets/base",
            "_view_module_version": "1.2.0",
            "_view_name": "StyleView",
            "description_width": ""
          }
        },
        "fd8ac805d48040439440297a815b9aac": {
          "model_module": "@jupyter-widgets/controls",
          "model_module_version": "1.5.0",
          "model_name": "DescriptionStyleModel",
          "state": {
            "_model_module": "@jupyter-widgets/controls",
            "_model_module_version": "1.5.0",
            "_model_name": "DescriptionStyleModel",
            "_view_count": null,
            "_view_module": "@jupyter-widgets/base",
            "_view_module_version": "1.2.0",
            "_view_name": "StyleView",
            "description_width": ""
          }
        },
        "ff0be1217efe4447b9b63baa8f1ef09d": {
          "model_module": "@jupyter-widgets/controls",
          "model_module_version": "1.5.0",
          "model_name": "DescriptionStyleModel",
          "state": {
            "_model_module": "@jupyter-widgets/controls",
            "_model_module_version": "1.5.0",
            "_model_name": "DescriptionStyleModel",
            "_view_count": null,
            "_view_module": "@jupyter-widgets/base",
            "_view_module_version": "1.2.0",
            "_view_name": "StyleView",
            "description_width": ""
          }
        }
      }
    }
  },
  "nbformat": 4,
  "nbformat_minor": 5
}
